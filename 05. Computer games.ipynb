{
 "cells": [
  {
   "cell_type": "markdown",
   "metadata": {},
   "source": [
    "<div style=\"border:solid green 2px; padding: 20px\"> <h1 style=\"color:green; margin-bottom:20px\">Комментарий студента</h1>\n",
    "\n",
    "Вера, привет!\n",
    "    \n",
    "    Хочу сказать тебе огромное спасибо. Я полностью переписал работу. Я не удалял твои комментарии. Надеюсь, в этот раз работа лучше подходит содержанию задания. Также старался немного \"потворить\" и следовать твоим комментария.\n",
    "    \n",
    "    Сорри, что долго =("
   ]
  },
  {
   "cell_type": "markdown",
   "metadata": {},
   "source": [
    "<div style=\"border:solid green 2px; padding: 20px\"> <h1 style=\"color:green; margin-bottom:20px\">Комментарий наставника</h1>\n",
    "\n",
    "Привет! Меня зовут - Сысоева Вера.\n",
    "    \n",
    "Извини за долгую проверку. Далее в файле мои комментарии ты сможешь найти в ячейках, аналогичных данной ( если рамки комментария зелёные - всё сделано правильно; жёлтые - есть замечания, но не критично; красные - нужно переделать). Не удаляй эти комментарии и постарайся учесть их в ходе выполнения проекта.\n",
    "    \n",
    "Видно, что ты проделал очень большую работу над проектом, надеюсь, мои комментарии помогут перевести проект на качественно новый уровень.\n",
    "    \n",
    "Проекту не хватает структурированности и логичности повествования. Постарайся развернуто ответить на все вопросы из брифа и связать это в логическую последовательность "
   ]
  },
  {
   "cell_type": "markdown",
   "metadata": {},
   "source": [
    "# Описание проекта."
   ]
  },
  {
   "cell_type": "markdown",
   "metadata": {},
   "source": [
    "Вы работаете в интернет-магазине «Стримчик», который продаёт по всему миру компьютерные игры. Из открытых источников доступны исторические данные о продажах игр, оценки пользователей и экспертов, жанры и платформы (например, Xbox или PlayStation). Вам нужно выявить определяющие успешность игры закономерности. Это позволит сделать ставку на потенциально популярный продукт и спланировать рекламные кампании.\n",
    "\n",
    "Перед вами данные до 2016 года. Представим, что сейчас декабрь 2016 г., и вы планируете кампанию на 2017-й. Нужно отработать принцип работы с данными. Не важно, прогнозируете ли вы продажи на 2017 год по данным 2016-го или же 2027-й — по данным 2026 года.\n",
    "\n",
    "В наборе данных попадается аббревиатура ESRB (Entertainment Software Rating Board) — это ассоциация, определяющая возрастной рейтинг компьютерных игр. ESRB оценивает игровой контент и присваивает ему подходящую возрастную категорию, например, «Для взрослых», «Для детей младшего возраста» или «Для подростков»."
   ]
  },
  {
   "cell_type": "markdown",
   "metadata": {},
   "source": [
    "# Шаг 1. Откройте файл с данными и изучите общую информацию."
   ]
  },
  {
   "cell_type": "code",
   "execution_count": 31,
   "metadata": {},
   "outputs": [
    {
     "name": "stdout",
     "output_type": "stream",
     "text": [
      "<class 'pandas.core.frame.DataFrame'>\n",
      "RangeIndex: 16715 entries, 0 to 16714\n",
      "Data columns (total 11 columns):\n",
      "Name               16713 non-null object\n",
      "Platform           16715 non-null object\n",
      "Year_of_Release    16446 non-null float64\n",
      "Genre              16713 non-null object\n",
      "NA_sales           16715 non-null float64\n",
      "EU_sales           16715 non-null float64\n",
      "JP_sales           16715 non-null float64\n",
      "Other_sales        16715 non-null float64\n",
      "Critic_Score       8137 non-null float64\n",
      "User_Score         10014 non-null object\n",
      "Rating             9949 non-null object\n",
      "dtypes: float64(6), object(5)\n",
      "memory usage: 1.4+ MB\n"
     ]
    }
   ],
   "source": [
    "import pandas as pd\n",
    "import numpy as np\n",
    "import matplotlib.pyplot as plt\n",
    "from scipy import stats as st\n",
    "import warnings\n",
    "warnings.filterwarnings('ignore')\n",
    "\n",
    "games = pd.read_csv('/datasets/games.csv')\n",
    "\n",
    "games.info()"
   ]
  },
  {
   "cell_type": "markdown",
   "metadata": {},
   "source": [
    "# Описание данных."
   ]
  },
  {
   "cell_type": "markdown",
   "metadata": {},
   "source": [
    "Name — название игры\n",
    "Platform — платформа\n",
    "Year_of_Release — год выпуска\n",
    "Genre — жанр игры\n",
    "NA_sales — продажи в Северной Америке (миллионы долларов)\n",
    "EU_sales — продажи в Европе (миллионы долларов)\n",
    "JP_sales — продажи в Японии (миллионы долларов)\n",
    "Other_sales — продажи в других странах (миллионы долларов)\n",
    "Critic_Score — оценка критиков (максимум 100)\n",
    "User_Score — оценка пользователей (максимум 10)\n",
    "Rating — рейтинг от организации ESRB (англ. Entertainment Software Rating Board). Эта ассоциация определяет рейтинг компьютерных игр и присваивает им подходящую возрастную категорию.\n",
    "\n",
    "Данные за 2016 год могут быть неполными.\n",
    "\n",
    "Имеются пропуски в столбцах - critic_score, user_score и rating. Так как данные добыты из открытых источников, то нет ничего увидительного, что в них имеются пропуски, которые могли возникнуть вследствии отсутствия данных и прочего."
   ]
  },
  {
   "cell_type": "markdown",
   "metadata": {},
   "source": [
    "\n",
    "\n",
    "<div style=\"border:solid gold 2px; padding: 20px\"> <h1 style=\"color:gold; margin-bottom:20px\">Комментарий наставника</h1>\n",
    "\n",
    "Хорошо, но все-таки лучше выводить info, а то так не все проблемы видны, например пропуски есть и в других стольбцах, но в 5 строках их не видно.\n",
    "    \n",
    "Также можно более подробно рассмотреть проблемы в данных, используя describe и unique"
   ]
  },
  {
   "cell_type": "markdown",
   "metadata": {},
   "source": [
    "# Шаг 2. Подготовьте данные."
   ]
  },
  {
   "cell_type": "markdown",
   "metadata": {},
   "source": [
    "<div style=\"border:solid gold 2px; padding: 20px\"> <h1 style=\"color:gold; margin-bottom:20px\">Комментарий наставника</h1>\n",
    "\n",
    "Хорошо, но все-таки все рассчетные столбцы лучше вводить после предобработки."
   ]
  },
  {
   "cell_type": "markdown",
   "metadata": {},
   "source": [
    "# Замените названия столбцов (приведите к нижнему регистру)."
   ]
  },
  {
   "cell_type": "code",
   "execution_count": 32,
   "metadata": {},
   "outputs": [
    {
     "name": "stdout",
     "output_type": "stream",
     "text": [
      "<class 'pandas.core.frame.DataFrame'>\n",
      "RangeIndex: 16715 entries, 0 to 16714\n",
      "Data columns (total 11 columns):\n",
      "name               16713 non-null object\n",
      "platform           16715 non-null object\n",
      "year_of_release    16446 non-null float64\n",
      "genre              16713 non-null object\n",
      "na_sales           16715 non-null float64\n",
      "eu_sales           16715 non-null float64\n",
      "jp_sales           16715 non-null float64\n",
      "other_sales        16715 non-null float64\n",
      "critic_score       8137 non-null float64\n",
      "user_score         10014 non-null object\n",
      "rating             9949 non-null object\n",
      "dtypes: float64(6), object(5)\n",
      "memory usage: 1.4+ MB\n"
     ]
    }
   ],
   "source": [
    "games.columns = [_.lower() for _ in games.columns]\n",
    "games.info()"
   ]
  },
  {
   "cell_type": "markdown",
   "metadata": {},
   "source": [
    "# Преобразуйте данные в нужные типы. Опишите, в каких столбцах заменили тип данных и почему"
   ]
  },
  {
   "cell_type": "code",
   "execution_count": 33,
   "metadata": {},
   "outputs": [
    {
     "name": "stdout",
     "output_type": "stream",
     "text": [
      "<class 'pandas.core.frame.DataFrame'>\n",
      "RangeIndex: 16715 entries, 0 to 16714\n",
      "Data columns (total 11 columns):\n",
      "name               16713 non-null object\n",
      "platform           16715 non-null object\n",
      "year_of_release    16715 non-null int64\n",
      "genre              16713 non-null object\n",
      "na_sales           16715 non-null float64\n",
      "eu_sales           16715 non-null float64\n",
      "jp_sales           16715 non-null float64\n",
      "other_sales        16715 non-null float64\n",
      "critic_score       8137 non-null float64\n",
      "user_score         10014 non-null object\n",
      "rating             9949 non-null object\n",
      "dtypes: float64(5), int64(1), object(5)\n",
      "memory usage: 1.4+ MB\n"
     ]
    }
   ],
   "source": [
    "games['year_of_release'] = games['year_of_release'].fillna(0)\n",
    "games['year_of_release'] = games['year_of_release'].astype('int')\n",
    "\n",
    "games['na_sales'] = games['na_sales'].fillna(0)\n",
    "games['eu_sales'] = games['eu_sales'].fillna(0)\n",
    "games['jp_sales'] = games['jp_sales'].fillna(0)\n",
    "games['other_sales'] = games['other_sales'].fillna(0)\n",
    "\n",
    "games.info()"
   ]
  },
  {
   "cell_type": "markdown",
   "metadata": {},
   "source": [
    "Преобразовал данные по годам в int для удобства работы с ними. По рейтингам не нужно заполнять пропуски, так как по ним надо будет делать корреляционный анализ, а на него заполнение чем-либо плохо влияет.Если заполнить пропуски медианой или средним, то коэффициент корреляции может сильно сместиться. Если заполнить каким-то отвлеченным значением, то будет совсем плохо.\n",
    "\n",
    "\n",
    "<div style=\"border:solid green 2px; padding: 20px\"> <h1 style=\"color:green; margin-bottom:20px\">Комментарий наставника</h1>\n",
    "\n",
    "Ок, теперь все намного лучше, пойдем далее."
   ]
  },
  {
   "cell_type": "markdown",
   "metadata": {},
   "source": [
    "# Обработайте пропуски при необходимости."
   ]
  },
  {
   "cell_type": "markdown",
   "metadata": {},
   "source": [
    "-Объясните, почему заполнили пропуски определённым образом или почему не стали это делать;\n",
    "-Опишите причины, которые могли привести к пропускам;\n",
    "-Обратите внимание на аббревиатуру 'tbd' в столбцах с рейтингом. Отдельно разберите это значение и опишите, как его обработать"
   ]
  },
  {
   "cell_type": "markdown",
   "metadata": {},
   "source": [
    "В графе с названием всего два пропуска, их можно удалить без потерь."
   ]
  },
  {
   "cell_type": "code",
   "execution_count": 34,
   "metadata": {},
   "outputs": [],
   "source": [
    "games.dropna(subset = ['name'], inplace = True)"
   ]
  },
  {
   "cell_type": "markdown",
   "metadata": {},
   "source": [
    "Проверка на дубликаты."
   ]
  },
  {
   "cell_type": "code",
   "execution_count": 35,
   "metadata": {},
   "outputs": [
    {
     "name": "stdout",
     "output_type": "stream",
     "text": [
      "5154 дубликатов\n"
     ]
    }
   ],
   "source": [
    "print(games['name'].duplicated().sum(), 'дубликатов')"
   ]
  },
  {
   "cell_type": "markdown",
   "metadata": {},
   "source": [
    "Дубликать есть, попробуем привести их к нижнему регистру, чтобы понять увеличится их кол-во или нет. Если нет, то оставлю как есть."
   ]
  },
  {
   "cell_type": "code",
   "execution_count": 36,
   "metadata": {},
   "outputs": [
    {
     "name": "stdout",
     "output_type": "stream",
     "text": [
      "5154 дубликатов\n"
     ]
    }
   ],
   "source": [
    "print(games['name'].str.lower().duplicated().sum(), 'дубликатов')"
   ]
  },
  {
   "cell_type": "markdown",
   "metadata": {},
   "source": [
    "Проверим наличие дубликатов в названии и платформе одновременно, так как одна и та же игра могла быть на нескольких платформах."
   ]
  },
  {
   "cell_type": "code",
   "execution_count": 37,
   "metadata": {},
   "outputs": [
    {
     "name": "stdout",
     "output_type": "stream",
     "text": [
      "4 дубликатов\n"
     ]
    }
   ],
   "source": [
    "print(games.duplicated(['name', 'platform']).sum(), 'дубликатов')"
   ]
  },
  {
   "cell_type": "markdown",
   "metadata": {},
   "source": [
    "C 4-мя строчками можно спокойно расстаться."
   ]
  },
  {
   "cell_type": "code",
   "execution_count": 38,
   "metadata": {},
   "outputs": [
    {
     "name": "stdout",
     "output_type": "stream",
     "text": [
      "0 дубликатов осталось\n"
     ]
    }
   ],
   "source": [
    "games = games.drop_duplicates(['name', 'platform']).reset_index(drop = True)\n",
    "print(games.duplicated(['name', 'platform']).sum(), 'дубликатов осталось')"
   ]
  },
  {
   "cell_type": "markdown",
   "metadata": {},
   "source": [
    "\n",
    "<div style=\"border:solid green 2px; padding: 20px\"> <h1 style=\"color:green; margin-bottom:20px\">Комментарий наставника</h1>\n",
    "\n",
    "Да, удалить хороший вариант."
   ]
  },
  {
   "cell_type": "markdown",
   "metadata": {},
   "source": [
    "В столбце с оценками зрителей есть значения tbd, что означает - в ожидании оценки. По сути, то же самое что и NaN, поэтому заменяем и приводим к типу float."
   ]
  },
  {
   "cell_type": "code",
   "execution_count": 39,
   "metadata": {},
   "outputs": [
    {
     "name": "stdout",
     "output_type": "stream",
     "text": [
      "<class 'pandas.core.frame.DataFrame'>\n",
      "RangeIndex: 16709 entries, 0 to 16708\n",
      "Data columns (total 11 columns):\n",
      "name               16709 non-null object\n",
      "platform           16709 non-null object\n",
      "year_of_release    16709 non-null int64\n",
      "genre              16709 non-null object\n",
      "na_sales           16709 non-null float64\n",
      "eu_sales           16709 non-null float64\n",
      "jp_sales           16709 non-null float64\n",
      "other_sales        16709 non-null float64\n",
      "critic_score       8133 non-null float64\n",
      "user_score         7586 non-null float64\n",
      "rating             9945 non-null object\n",
      "dtypes: float64(6), int64(1), object(4)\n",
      "memory usage: 1.4+ MB\n"
     ]
    }
   ],
   "source": [
    "games['user_score'].loc[games['user_score'] == 'tbd'] = np.nan\n",
    "games['user_score'] = games['user_score'].astype('float')\n",
    "games.info()"
   ]
  },
  {
   "cell_type": "markdown",
   "metadata": {},
   "source": [
    "# Посчитайте суммарные продажи во всех регионах и запишите их в отдельный столбец."
   ]
  },
  {
   "cell_type": "code",
   "execution_count": 40,
   "metadata": {},
   "outputs": [
    {
     "name": "stdout",
     "output_type": "stream",
     "text": [
      "<class 'pandas.core.frame.DataFrame'>\n",
      "RangeIndex: 16709 entries, 0 to 16708\n",
      "Data columns (total 12 columns):\n",
      "name               16709 non-null object\n",
      "platform           16709 non-null object\n",
      "year_of_release    16709 non-null int64\n",
      "genre              16709 non-null object\n",
      "na_sales           16709 non-null float64\n",
      "eu_sales           16709 non-null float64\n",
      "jp_sales           16709 non-null float64\n",
      "other_sales        16709 non-null float64\n",
      "critic_score       8133 non-null float64\n",
      "user_score         7586 non-null float64\n",
      "rating             9945 non-null object\n",
      "total_sales        16709 non-null float64\n",
      "dtypes: float64(7), int64(1), object(4)\n",
      "memory usage: 1.5+ MB\n"
     ]
    }
   ],
   "source": [
    "games['total_sales'] = games.filter(like='sales').sum(axis=1)   \n",
    "games.info()"
   ]
  },
  {
   "cell_type": "markdown",
   "metadata": {},
   "source": [
    "\n",
    "<div style=\"border:solid green 2px; padding: 20px\"> <h1 style=\"color:green; margin-bottom:20px\">Комментарий наставника</h1>\n",
    "\n",
    "Хорошо, очень компактный вариант подсчета."
   ]
  },
  {
   "cell_type": "markdown",
   "metadata": {},
   "source": [
    "# Шаг 3. Проведите исследовательский анализ данных"
   ]
  },
  {
   "cell_type": "markdown",
   "metadata": {},
   "source": [
    "# Посмотрите, сколько игр выпускалось в разные годы. Важны ли данные за все периоды?"
   ]
  },
  {
   "cell_type": "code",
   "execution_count": 41,
   "metadata": {},
   "outputs": [
    {
     "data": {
      "text/plain": [
       "year_of_release\n",
       "0        268\n",
       "1980       9\n",
       "1981      46\n",
       "1982      36\n",
       "1983      17\n",
       "1984      14\n",
       "1985      14\n",
       "1986      21\n",
       "1987      16\n",
       "1988      15\n",
       "1989      17\n",
       "1990      16\n",
       "1991      41\n",
       "1992      43\n",
       "1993      60\n",
       "1994     121\n",
       "1995     219\n",
       "1996     263\n",
       "1997     289\n",
       "1998     379\n",
       "1999     338\n",
       "2000     350\n",
       "2001     482\n",
       "2002     829\n",
       "2003     775\n",
       "2004     762\n",
       "2005     938\n",
       "2006    1006\n",
       "2007    1197\n",
       "2008    1427\n",
       "2009    1426\n",
       "2010    1255\n",
       "2011    1136\n",
       "2012     651\n",
       "2013     544\n",
       "2014     581\n",
       "2015     606\n",
       "2016     502\n",
       "Name: name, dtype: int64"
      ]
     },
     "execution_count": 41,
     "metadata": {},
     "output_type": "execute_result"
    }
   ],
   "source": [
    "games.groupby('year_of_release').name.count()"
   ]
  },
  {
   "cell_type": "markdown",
   "metadata": {},
   "source": [
    "После 1993 начинается существенный рост количества игр.\n",
    "Я возьму период начиная с 2000 года, так как 1) больше игр выходило 2) данные там более актуальные.\n",
    "\n",
    "\n",
    "<div style=\"border:solid gold 2px; padding: 20px\"> <h1 style=\"color:gold; margin-bottom:20px\">Комментарий наставника</h1>\n",
    "\n",
    "Ок, но лучше было сделать график - нагляднее."
   ]
  },
  {
   "cell_type": "code",
   "execution_count": 42,
   "metadata": {},
   "outputs": [
    {
     "data": {
      "text/html": [
       "<div>\n",
       "<style scoped>\n",
       "    .dataframe tbody tr th:only-of-type {\n",
       "        vertical-align: middle;\n",
       "    }\n",
       "\n",
       "    .dataframe tbody tr th {\n",
       "        vertical-align: top;\n",
       "    }\n",
       "\n",
       "    .dataframe thead th {\n",
       "        text-align: right;\n",
       "    }\n",
       "</style>\n",
       "<table border=\"1\" class=\"dataframe\">\n",
       "  <thead>\n",
       "    <tr style=\"text-align: right;\">\n",
       "      <th></th>\n",
       "      <th>name</th>\n",
       "      <th>platform</th>\n",
       "      <th>year_of_release</th>\n",
       "      <th>genre</th>\n",
       "      <th>na_sales</th>\n",
       "      <th>eu_sales</th>\n",
       "      <th>jp_sales</th>\n",
       "      <th>other_sales</th>\n",
       "      <th>critic_score</th>\n",
       "      <th>user_score</th>\n",
       "      <th>rating</th>\n",
       "      <th>total_sales</th>\n",
       "    </tr>\n",
       "  </thead>\n",
       "  <tbody>\n",
       "    <tr>\n",
       "      <td>0</td>\n",
       "      <td>Wii Sports</td>\n",
       "      <td>Wii</td>\n",
       "      <td>2006</td>\n",
       "      <td>Sports</td>\n",
       "      <td>41.36</td>\n",
       "      <td>28.96</td>\n",
       "      <td>3.77</td>\n",
       "      <td>8.45</td>\n",
       "      <td>76.0</td>\n",
       "      <td>8.0</td>\n",
       "      <td>E</td>\n",
       "      <td>82.54</td>\n",
       "    </tr>\n",
       "    <tr>\n",
       "      <td>2</td>\n",
       "      <td>Mario Kart Wii</td>\n",
       "      <td>Wii</td>\n",
       "      <td>2008</td>\n",
       "      <td>Racing</td>\n",
       "      <td>15.68</td>\n",
       "      <td>12.76</td>\n",
       "      <td>3.79</td>\n",
       "      <td>3.29</td>\n",
       "      <td>82.0</td>\n",
       "      <td>8.3</td>\n",
       "      <td>E</td>\n",
       "      <td>35.52</td>\n",
       "    </tr>\n",
       "    <tr>\n",
       "      <td>3</td>\n",
       "      <td>Wii Sports Resort</td>\n",
       "      <td>Wii</td>\n",
       "      <td>2009</td>\n",
       "      <td>Sports</td>\n",
       "      <td>15.61</td>\n",
       "      <td>10.93</td>\n",
       "      <td>3.28</td>\n",
       "      <td>2.95</td>\n",
       "      <td>80.0</td>\n",
       "      <td>8.0</td>\n",
       "      <td>E</td>\n",
       "      <td>32.77</td>\n",
       "    </tr>\n",
       "    <tr>\n",
       "      <td>6</td>\n",
       "      <td>New Super Mario Bros.</td>\n",
       "      <td>DS</td>\n",
       "      <td>2006</td>\n",
       "      <td>Platform</td>\n",
       "      <td>11.28</td>\n",
       "      <td>9.14</td>\n",
       "      <td>6.50</td>\n",
       "      <td>2.88</td>\n",
       "      <td>89.0</td>\n",
       "      <td>8.5</td>\n",
       "      <td>E</td>\n",
       "      <td>29.80</td>\n",
       "    </tr>\n",
       "    <tr>\n",
       "      <td>7</td>\n",
       "      <td>Wii Play</td>\n",
       "      <td>Wii</td>\n",
       "      <td>2006</td>\n",
       "      <td>Misc</td>\n",
       "      <td>13.96</td>\n",
       "      <td>9.18</td>\n",
       "      <td>2.93</td>\n",
       "      <td>2.84</td>\n",
       "      <td>58.0</td>\n",
       "      <td>6.6</td>\n",
       "      <td>E</td>\n",
       "      <td>28.91</td>\n",
       "    </tr>\n",
       "  </tbody>\n",
       "</table>\n",
       "</div>"
      ],
      "text/plain": [
       "                    name platform  year_of_release     genre  na_sales  \\\n",
       "0             Wii Sports      Wii             2006    Sports     41.36   \n",
       "2         Mario Kart Wii      Wii             2008    Racing     15.68   \n",
       "3      Wii Sports Resort      Wii             2009    Sports     15.61   \n",
       "6  New Super Mario Bros.       DS             2006  Platform     11.28   \n",
       "7               Wii Play      Wii             2006      Misc     13.96   \n",
       "\n",
       "   eu_sales  jp_sales  other_sales  critic_score  user_score rating  \\\n",
       "0     28.96      3.77         8.45          76.0         8.0      E   \n",
       "2     12.76      3.79         3.29          82.0         8.3      E   \n",
       "3     10.93      3.28         2.95          80.0         8.0      E   \n",
       "6      9.14      6.50         2.88          89.0         8.5      E   \n",
       "7      9.18      2.93         2.84          58.0         6.6      E   \n",
       "\n",
       "   total_sales  \n",
       "0        82.54  \n",
       "2        35.52  \n",
       "3        32.77  \n",
       "6        29.80  \n",
       "7        28.91  "
      ]
     },
     "metadata": {},
     "output_type": "display_data"
    }
   ],
   "source": [
    "actual_years = games.query('year_of_release > 1999')\n",
    "display(actual_years.head())"
   ]
  },
  {
   "cell_type": "markdown",
   "metadata": {},
   "source": [
    "<div style=\"border:solid gold 2px; padding: 20px\"> <h1 style=\"color:gold; margin-bottom:20px\">Комментарий наставника</h1>\n",
    "\n",
    "Возможный вариант, но не самый оптимальный. Зполнение 2021 годом не хорошо по двум причинам. Во-первых, это фактически равносильно удалению, поскольку весь анализ будет проходить в разрезе годов релиза. Во-вторых, для маркерного значения лучше брать 0, т.к., если его забыть отсееть, то на графике он уйдет влево и не будет мешать."
   ]
  },
  {
   "cell_type": "markdown",
   "metadata": {},
   "source": [
    "\n",
    "\n",
    "<div style=\"border:solid red 2px; padding: 20px\"> <h1 style=\"color: red; margin-bottom:20px\">Комментарий наставника</h1>\n",
    "\n",
    "Нет, это не верный подход. Посмотри внимательнее на строки с пропущенным годом, там, наверное стоят продажи, а это значит, что это не ибудущие игры, а просто пропуски в данных.\n",
    "    \n",
    "В любом случае, заполняем мы 0 или 2021, эти данные надо будет отфильтровать. На графиках не должно быть не 0 не 2021 года. Я просто писала, что 0 легче заметить и отфидльтровать, если этот шаг случайно пропущен."
   ]
  },
  {
   "cell_type": "markdown",
   "metadata": {},
   "source": [
    "<div style=\"border:solid red 2px; padding: 20px\"> <h1 style=\"color:red; margin-bottom:20px\">Комментарий наставника</h1>\n",
    "\n",
    "Оставлять 2021 год не верно. По факту график не достоверный."
   ]
  },
  {
   "cell_type": "markdown",
   "metadata": {},
   "source": [
    "\n",
    "\n",
    "<div style=\"border:solid red 2px; padding: 20px\"> <h1 style=\"color:red; margin-bottom:20px\">Комментарий наставника</h1>\n",
    "\n",
    "Не важно чем ты заполняешь, для графика и для анализа - эти данные надо отфильтровать, иначе график не достоверный."
   ]
  },
  {
   "cell_type": "markdown",
   "metadata": {},
   "source": [
    "\n",
    "\n",
    "<div style=\"border:solid red 2px; padding: 20px\"> <h1 style=\"color: red; margin-bottom:20px\">Комментарий наставника</h1>\n",
    "\n",
    "Ок, для всех графиков одинаковое замечание:\n",
    "    \n",
    "    - убрать 2021 год\n",
    "    - в качестве итога надо указать год, до которого данные нам не интересны и мы их отбросим."
   ]
  },
  {
   "cell_type": "markdown",
   "metadata": {},
   "source": [
    "Буду сразу работать с актуальным периодом, то есть с данными начиная с 2000."
   ]
  },
  {
   "cell_type": "markdown",
   "metadata": {},
   "source": [
    "# Посмотрите, как менялись продажи по платформам. Выберите платформы с наибольшими суммарными продажами и постройте распределение по годам. За какой характерный срок появляются новые и исчезают старые платформы?"
   ]
  },
  {
   "cell_type": "markdown",
   "metadata": {},
   "source": [
    "# Возьмите данные за соответствующий актуальный период. Актуальный период определите самостоятельно в результате исследования предыдущих вопросов. Основной фактор — эти данные помогут построить прогноз на 2017 год."
   ]
  },
  {
   "cell_type": "markdown",
   "metadata": {},
   "source": [
    "# Не учитывайте в работе данные за предыдущие годы."
   ]
  },
  {
   "cell_type": "code",
   "execution_count": 43,
   "metadata": {},
   "outputs": [
    {
     "data": {
      "text/html": [
       "<div>\n",
       "<style scoped>\n",
       "    .dataframe tbody tr th:only-of-type {\n",
       "        vertical-align: middle;\n",
       "    }\n",
       "\n",
       "    .dataframe tbody tr th {\n",
       "        vertical-align: top;\n",
       "    }\n",
       "\n",
       "    .dataframe thead th {\n",
       "        text-align: right;\n",
       "    }\n",
       "</style>\n",
       "<table border=\"1\" class=\"dataframe\">\n",
       "  <thead>\n",
       "    <tr style=\"text-align: right;\">\n",
       "      <th></th>\n",
       "      <th>total_sales</th>\n",
       "    </tr>\n",
       "    <tr>\n",
       "      <th>year_of_release</th>\n",
       "      <th></th>\n",
       "    </tr>\n",
       "  </thead>\n",
       "  <tbody>\n",
       "    <tr>\n",
       "      <td>2000</td>\n",
       "      <td>201.66</td>\n",
       "    </tr>\n",
       "    <tr>\n",
       "      <td>2001</td>\n",
       "      <td>331.46</td>\n",
       "    </tr>\n",
       "    <tr>\n",
       "      <td>2002</td>\n",
       "      <td>394.97</td>\n",
       "    </tr>\n",
       "    <tr>\n",
       "      <td>2003</td>\n",
       "      <td>357.54</td>\n",
       "    </tr>\n",
       "    <tr>\n",
       "      <td>2004</td>\n",
       "      <td>418.68</td>\n",
       "    </tr>\n",
       "    <tr>\n",
       "      <td>2005</td>\n",
       "      <td>456.57</td>\n",
       "    </tr>\n",
       "    <tr>\n",
       "      <td>2006</td>\n",
       "      <td>517.71</td>\n",
       "    </tr>\n",
       "    <tr>\n",
       "      <td>2007</td>\n",
       "      <td>604.75</td>\n",
       "    </tr>\n",
       "    <tr>\n",
       "      <td>2008</td>\n",
       "      <td>671.50</td>\n",
       "    </tr>\n",
       "    <tr>\n",
       "      <td>2009</td>\n",
       "      <td>658.82</td>\n",
       "    </tr>\n",
       "    <tr>\n",
       "      <td>2010</td>\n",
       "      <td>590.13</td>\n",
       "    </tr>\n",
       "    <tr>\n",
       "      <td>2011</td>\n",
       "      <td>507.58</td>\n",
       "    </tr>\n",
       "    <tr>\n",
       "      <td>2012</td>\n",
       "      <td>355.75</td>\n",
       "    </tr>\n",
       "    <tr>\n",
       "      <td>2013</td>\n",
       "      <td>361.24</td>\n",
       "    </tr>\n",
       "    <tr>\n",
       "      <td>2014</td>\n",
       "      <td>331.53</td>\n",
       "    </tr>\n",
       "    <tr>\n",
       "      <td>2015</td>\n",
       "      <td>267.98</td>\n",
       "    </tr>\n",
       "    <tr>\n",
       "      <td>2016</td>\n",
       "      <td>129.94</td>\n",
       "    </tr>\n",
       "  </tbody>\n",
       "</table>\n",
       "</div>"
      ],
      "text/plain": [
       "                 total_sales\n",
       "year_of_release             \n",
       "2000                  201.66\n",
       "2001                  331.46\n",
       "2002                  394.97\n",
       "2003                  357.54\n",
       "2004                  418.68\n",
       "2005                  456.57\n",
       "2006                  517.71\n",
       "2007                  604.75\n",
       "2008                  671.50\n",
       "2009                  658.82\n",
       "2010                  590.13\n",
       "2011                  507.58\n",
       "2012                  355.75\n",
       "2013                  361.24\n",
       "2014                  331.53\n",
       "2015                  267.98\n",
       "2016                  129.94"
      ]
     },
     "execution_count": 43,
     "metadata": {},
     "output_type": "execute_result"
    },
    {
     "data": {
      "image/png": "[encoded data removed]",
      "text/plain": [
       "<Figure size 1080x504 with 1 Axes>"
      ]
     },
     "metadata": {
      "needs_background": "light"
     },
     "output_type": "display_data"
    }
   ],
   "source": [
    "actual_years_platform_pivot = actual_years.pivot_table(index='year_of_release', values ='total_sales', aggfunc='sum')\n",
    "actual_years_platform_pivot.plot(y = 'total_sales', \n",
    "                          style = 'o-',\n",
    "                          figsize = (15, 7),\n",
    "                          grid = True)\n",
    "actual_years_platform_pivot"
   ]
  },
  {
   "cell_type": "markdown",
   "metadata": {},
   "source": [
    "\n",
    "<div style=\"border:solid green 2px; padding: 20px\"> <h1 style=\"color:green; margin-bottom:20px\">Комментарий наставника</h1>\n",
    "\n",
    "Ок, вот и график, хорошо, но лучше было смотреть график именно с хвостом, тогда понятно, почему мы его отбросили."
   ]
  },
  {
   "cell_type": "code",
   "execution_count": 44,
   "metadata": {},
   "outputs": [
    {
     "data": {
      "text/html": [
       "<div>\n",
       "<style scoped>\n",
       "    .dataframe tbody tr th:only-of-type {\n",
       "        vertical-align: middle;\n",
       "    }\n",
       "\n",
       "    .dataframe tbody tr th {\n",
       "        vertical-align: top;\n",
       "    }\n",
       "\n",
       "    .dataframe thead th {\n",
       "        text-align: right;\n",
       "    }\n",
       "</style>\n",
       "<table border=\"1\" class=\"dataframe\">\n",
       "  <thead>\n",
       "    <tr style=\"text-align: right;\">\n",
       "      <th></th>\n",
       "      <th>total_sales</th>\n",
       "    </tr>\n",
       "    <tr>\n",
       "      <th>platform</th>\n",
       "      <th></th>\n",
       "    </tr>\n",
       "  </thead>\n",
       "  <tbody>\n",
       "    <tr>\n",
       "      <td>PS2</td>\n",
       "      <td>1233.56</td>\n",
       "    </tr>\n",
       "    <tr>\n",
       "      <td>X360</td>\n",
       "      <td>959.99</td>\n",
       "    </tr>\n",
       "    <tr>\n",
       "      <td>PS3</td>\n",
       "      <td>931.33</td>\n",
       "    </tr>\n",
       "    <tr>\n",
       "      <td>Wii</td>\n",
       "      <td>891.18</td>\n",
       "    </tr>\n",
       "    <tr>\n",
       "      <td>DS</td>\n",
       "      <td>802.76</td>\n",
       "    </tr>\n",
       "    <tr>\n",
       "      <td>PS4</td>\n",
       "      <td>314.14</td>\n",
       "    </tr>\n",
       "    <tr>\n",
       "      <td>GBA</td>\n",
       "      <td>312.88</td>\n",
       "    </tr>\n",
       "    <tr>\n",
       "      <td>PSP</td>\n",
       "      <td>289.53</td>\n",
       "    </tr>\n",
       "    <tr>\n",
       "      <td>3DS</td>\n",
       "      <td>257.81</td>\n",
       "    </tr>\n",
       "    <tr>\n",
       "      <td>XB</td>\n",
       "      <td>251.57</td>\n",
       "    </tr>\n",
       "  </tbody>\n",
       "</table>\n",
       "</div>"
      ],
      "text/plain": [
       "          total_sales\n",
       "platform             \n",
       "PS2           1233.56\n",
       "X360           959.99\n",
       "PS3            931.33\n",
       "Wii            891.18\n",
       "DS             802.76\n",
       "PS4            314.14\n",
       "GBA            312.88\n",
       "PSP            289.53\n",
       "3DS            257.81\n",
       "XB             251.57"
      ]
     },
     "execution_count": 44,
     "metadata": {},
     "output_type": "execute_result"
    }
   ],
   "source": [
    "def top_10(data, location, genre, top=10):\n",
    "    \n",
    "    return data.pivot_table(index = genre, \n",
    "                            values = location, \n",
    "                            aggfunc='sum').sort_values(by = location,\n",
    "                                                         ascending = False)[:top]\n",
    "\n",
    "top_10(actual_years, 'total_sales', 'platform',10)"
   ]
  },
  {
   "cell_type": "markdown",
   "metadata": {},
   "source": [
    "\n",
    "<div style=\"border:solid green 2px; padding: 20px\"> <h1 style=\"color:green; margin-bottom:20px\">Комментарий наставника</h1>\n",
    "\n",
    "Топ получен верно."
   ]
  },
  {
   "cell_type": "code",
   "execution_count": 45,
   "metadata": {},
   "outputs": [
    {
     "data": {
      "text/html": [
       "<div>\n",
       "<style scoped>\n",
       "    .dataframe tbody tr th:only-of-type {\n",
       "        vertical-align: middle;\n",
       "    }\n",
       "\n",
       "    .dataframe tbody tr th {\n",
       "        vertical-align: top;\n",
       "    }\n",
       "\n",
       "    .dataframe thead th {\n",
       "        text-align: right;\n",
       "    }\n",
       "</style>\n",
       "<table border=\"1\" class=\"dataframe\">\n",
       "  <thead>\n",
       "    <tr style=\"text-align: right;\">\n",
       "      <th>year_of_release</th>\n",
       "      <th>2000</th>\n",
       "      <th>2001</th>\n",
       "      <th>2002</th>\n",
       "      <th>2003</th>\n",
       "      <th>2004</th>\n",
       "      <th>2005</th>\n",
       "      <th>2006</th>\n",
       "      <th>2007</th>\n",
       "      <th>2008</th>\n",
       "      <th>2009</th>\n",
       "      <th>2010</th>\n",
       "      <th>2011</th>\n",
       "      <th>2012</th>\n",
       "      <th>2013</th>\n",
       "      <th>2014</th>\n",
       "      <th>2015</th>\n",
       "      <th>2016</th>\n",
       "    </tr>\n",
       "    <tr>\n",
       "      <th>platform</th>\n",
       "      <th></th>\n",
       "      <th></th>\n",
       "      <th></th>\n",
       "      <th></th>\n",
       "      <th></th>\n",
       "      <th></th>\n",
       "      <th></th>\n",
       "      <th></th>\n",
       "      <th></th>\n",
       "      <th></th>\n",
       "      <th></th>\n",
       "      <th></th>\n",
       "      <th></th>\n",
       "      <th></th>\n",
       "      <th></th>\n",
       "      <th></th>\n",
       "      <th></th>\n",
       "    </tr>\n",
       "  </thead>\n",
       "  <tbody>\n",
       "    <tr>\n",
       "      <td>3DS</td>\n",
       "      <td>0.00</td>\n",
       "      <td>0.00</td>\n",
       "      <td>0.00</td>\n",
       "      <td>0.00</td>\n",
       "      <td>0.00</td>\n",
       "      <td>0.00</td>\n",
       "      <td>0.00</td>\n",
       "      <td>0.00</td>\n",
       "      <td>0.00</td>\n",
       "      <td>0.00</td>\n",
       "      <td>0.00</td>\n",
       "      <td>63.20</td>\n",
       "      <td>51.36</td>\n",
       "      <td>56.57</td>\n",
       "      <td>43.76</td>\n",
       "      <td>27.78</td>\n",
       "      <td>15.14</td>\n",
       "    </tr>\n",
       "    <tr>\n",
       "      <td>DC</td>\n",
       "      <td>5.99</td>\n",
       "      <td>1.07</td>\n",
       "      <td>0.29</td>\n",
       "      <td>0.00</td>\n",
       "      <td>0.00</td>\n",
       "      <td>0.00</td>\n",
       "      <td>0.00</td>\n",
       "      <td>0.02</td>\n",
       "      <td>0.04</td>\n",
       "      <td>0.00</td>\n",
       "      <td>0.00</td>\n",
       "      <td>0.00</td>\n",
       "      <td>0.00</td>\n",
       "      <td>0.00</td>\n",
       "      <td>0.00</td>\n",
       "      <td>0.00</td>\n",
       "      <td>0.00</td>\n",
       "    </tr>\n",
       "    <tr>\n",
       "      <td>DS</td>\n",
       "      <td>0.00</td>\n",
       "      <td>0.00</td>\n",
       "      <td>0.00</td>\n",
       "      <td>0.00</td>\n",
       "      <td>17.27</td>\n",
       "      <td>130.14</td>\n",
       "      <td>119.81</td>\n",
       "      <td>146.94</td>\n",
       "      <td>145.31</td>\n",
       "      <td>119.54</td>\n",
       "      <td>85.02</td>\n",
       "      <td>26.18</td>\n",
       "      <td>11.01</td>\n",
       "      <td>1.54</td>\n",
       "      <td>0.00</td>\n",
       "      <td>0.00</td>\n",
       "      <td>0.00</td>\n",
       "    </tr>\n",
       "    <tr>\n",
       "      <td>GB</td>\n",
       "      <td>19.76</td>\n",
       "      <td>9.24</td>\n",
       "      <td>0.00</td>\n",
       "      <td>0.00</td>\n",
       "      <td>0.00</td>\n",
       "      <td>0.00</td>\n",
       "      <td>0.00</td>\n",
       "      <td>0.00</td>\n",
       "      <td>0.00</td>\n",
       "      <td>0.00</td>\n",
       "      <td>0.00</td>\n",
       "      <td>0.00</td>\n",
       "      <td>0.00</td>\n",
       "      <td>0.00</td>\n",
       "      <td>0.00</td>\n",
       "      <td>0.00</td>\n",
       "      <td>0.00</td>\n",
       "    </tr>\n",
       "    <tr>\n",
       "      <td>GBA</td>\n",
       "      <td>0.07</td>\n",
       "      <td>61.53</td>\n",
       "      <td>74.16</td>\n",
       "      <td>56.67</td>\n",
       "      <td>77.91</td>\n",
       "      <td>33.86</td>\n",
       "      <td>5.28</td>\n",
       "      <td>3.40</td>\n",
       "      <td>0.00</td>\n",
       "      <td>0.00</td>\n",
       "      <td>0.00</td>\n",
       "      <td>0.00</td>\n",
       "      <td>0.00</td>\n",
       "      <td>0.00</td>\n",
       "      <td>0.00</td>\n",
       "      <td>0.00</td>\n",
       "      <td>0.00</td>\n",
       "    </tr>\n",
       "    <tr>\n",
       "      <td>GC</td>\n",
       "      <td>0.00</td>\n",
       "      <td>26.34</td>\n",
       "      <td>51.81</td>\n",
       "      <td>50.61</td>\n",
       "      <td>28.82</td>\n",
       "      <td>27.62</td>\n",
       "      <td>11.26</td>\n",
       "      <td>0.27</td>\n",
       "      <td>0.00</td>\n",
       "      <td>0.00</td>\n",
       "      <td>0.00</td>\n",
       "      <td>0.00</td>\n",
       "      <td>0.00</td>\n",
       "      <td>0.00</td>\n",
       "      <td>0.00</td>\n",
       "      <td>0.00</td>\n",
       "      <td>0.00</td>\n",
       "    </tr>\n",
       "    <tr>\n",
       "      <td>N64</td>\n",
       "      <td>33.97</td>\n",
       "      <td>3.25</td>\n",
       "      <td>0.08</td>\n",
       "      <td>0.00</td>\n",
       "      <td>0.00</td>\n",
       "      <td>0.00</td>\n",
       "      <td>0.00</td>\n",
       "      <td>0.00</td>\n",
       "      <td>0.00</td>\n",
       "      <td>0.00</td>\n",
       "      <td>0.00</td>\n",
       "      <td>0.00</td>\n",
       "      <td>0.00</td>\n",
       "      <td>0.00</td>\n",
       "      <td>0.00</td>\n",
       "      <td>0.00</td>\n",
       "      <td>0.00</td>\n",
       "    </tr>\n",
       "    <tr>\n",
       "      <td>PC</td>\n",
       "      <td>4.66</td>\n",
       "      <td>5.47</td>\n",
       "      <td>8.57</td>\n",
       "      <td>8.84</td>\n",
       "      <td>10.39</td>\n",
       "      <td>4.37</td>\n",
       "      <td>2.85</td>\n",
       "      <td>9.28</td>\n",
       "      <td>12.42</td>\n",
       "      <td>16.91</td>\n",
       "      <td>24.28</td>\n",
       "      <td>35.03</td>\n",
       "      <td>23.14</td>\n",
       "      <td>12.38</td>\n",
       "      <td>13.28</td>\n",
       "      <td>8.52</td>\n",
       "      <td>5.25</td>\n",
       "    </tr>\n",
       "    <tr>\n",
       "      <td>PS</td>\n",
       "      <td>96.37</td>\n",
       "      <td>35.59</td>\n",
       "      <td>6.67</td>\n",
       "      <td>2.07</td>\n",
       "      <td>0.00</td>\n",
       "      <td>0.00</td>\n",
       "      <td>0.00</td>\n",
       "      <td>0.00</td>\n",
       "      <td>0.00</td>\n",
       "      <td>0.00</td>\n",
       "      <td>0.00</td>\n",
       "      <td>0.00</td>\n",
       "      <td>0.00</td>\n",
       "      <td>0.00</td>\n",
       "      <td>0.00</td>\n",
       "      <td>0.00</td>\n",
       "      <td>0.00</td>\n",
       "    </tr>\n",
       "    <tr>\n",
       "      <td>PS2</td>\n",
       "      <td>39.17</td>\n",
       "      <td>166.43</td>\n",
       "      <td>205.38</td>\n",
       "      <td>184.31</td>\n",
       "      <td>211.81</td>\n",
       "      <td>160.66</td>\n",
       "      <td>103.42</td>\n",
       "      <td>75.99</td>\n",
       "      <td>53.90</td>\n",
       "      <td>26.40</td>\n",
       "      <td>5.64</td>\n",
       "      <td>0.45</td>\n",
       "      <td>0.00</td>\n",
       "      <td>0.00</td>\n",
       "      <td>0.00</td>\n",
       "      <td>0.00</td>\n",
       "      <td>0.00</td>\n",
       "    </tr>\n",
       "    <tr>\n",
       "      <td>PS3</td>\n",
       "      <td>0.00</td>\n",
       "      <td>0.00</td>\n",
       "      <td>0.00</td>\n",
       "      <td>0.00</td>\n",
       "      <td>0.00</td>\n",
       "      <td>0.00</td>\n",
       "      <td>20.96</td>\n",
       "      <td>73.19</td>\n",
       "      <td>118.52</td>\n",
       "      <td>130.93</td>\n",
       "      <td>142.17</td>\n",
       "      <td>156.78</td>\n",
       "      <td>107.35</td>\n",
       "      <td>113.25</td>\n",
       "      <td>47.76</td>\n",
       "      <td>16.82</td>\n",
       "      <td>3.60</td>\n",
       "    </tr>\n",
       "    <tr>\n",
       "      <td>PS4</td>\n",
       "      <td>0.00</td>\n",
       "      <td>0.00</td>\n",
       "      <td>0.00</td>\n",
       "      <td>0.00</td>\n",
       "      <td>0.00</td>\n",
       "      <td>0.00</td>\n",
       "      <td>0.00</td>\n",
       "      <td>0.00</td>\n",
       "      <td>0.00</td>\n",
       "      <td>0.00</td>\n",
       "      <td>0.00</td>\n",
       "      <td>0.00</td>\n",
       "      <td>0.00</td>\n",
       "      <td>25.99</td>\n",
       "      <td>100.00</td>\n",
       "      <td>118.90</td>\n",
       "      <td>69.25</td>\n",
       "    </tr>\n",
       "    <tr>\n",
       "      <td>PSP</td>\n",
       "      <td>0.00</td>\n",
       "      <td>0.00</td>\n",
       "      <td>0.00</td>\n",
       "      <td>0.00</td>\n",
       "      <td>7.06</td>\n",
       "      <td>43.84</td>\n",
       "      <td>55.32</td>\n",
       "      <td>46.93</td>\n",
       "      <td>34.55</td>\n",
       "      <td>37.78</td>\n",
       "      <td>35.04</td>\n",
       "      <td>17.82</td>\n",
       "      <td>7.69</td>\n",
       "      <td>3.14</td>\n",
       "      <td>0.24</td>\n",
       "      <td>0.12</td>\n",
       "      <td>0.00</td>\n",
       "    </tr>\n",
       "    <tr>\n",
       "      <td>PSV</td>\n",
       "      <td>0.00</td>\n",
       "      <td>0.00</td>\n",
       "      <td>0.00</td>\n",
       "      <td>0.00</td>\n",
       "      <td>0.00</td>\n",
       "      <td>0.00</td>\n",
       "      <td>0.00</td>\n",
       "      <td>0.00</td>\n",
       "      <td>0.00</td>\n",
       "      <td>0.00</td>\n",
       "      <td>0.00</td>\n",
       "      <td>4.63</td>\n",
       "      <td>16.19</td>\n",
       "      <td>10.59</td>\n",
       "      <td>11.90</td>\n",
       "      <td>6.25</td>\n",
       "      <td>4.25</td>\n",
       "    </tr>\n",
       "    <tr>\n",
       "      <td>WS</td>\n",
       "      <td>0.68</td>\n",
       "      <td>0.28</td>\n",
       "      <td>0.00</td>\n",
       "      <td>0.00</td>\n",
       "      <td>0.00</td>\n",
       "      <td>0.00</td>\n",
       "      <td>0.00</td>\n",
       "      <td>0.00</td>\n",
       "      <td>0.00</td>\n",
       "      <td>0.00</td>\n",
       "      <td>0.00</td>\n",
       "      <td>0.00</td>\n",
       "      <td>0.00</td>\n",
       "      <td>0.00</td>\n",
       "      <td>0.00</td>\n",
       "      <td>0.00</td>\n",
       "      <td>0.00</td>\n",
       "    </tr>\n",
       "    <tr>\n",
       "      <td>Wii</td>\n",
       "      <td>0.00</td>\n",
       "      <td>0.00</td>\n",
       "      <td>0.00</td>\n",
       "      <td>0.00</td>\n",
       "      <td>0.00</td>\n",
       "      <td>0.00</td>\n",
       "      <td>137.15</td>\n",
       "      <td>152.77</td>\n",
       "      <td>171.32</td>\n",
       "      <td>206.97</td>\n",
       "      <td>127.95</td>\n",
       "      <td>59.65</td>\n",
       "      <td>21.71</td>\n",
       "      <td>8.59</td>\n",
       "      <td>3.75</td>\n",
       "      <td>1.14</td>\n",
       "      <td>0.18</td>\n",
       "    </tr>\n",
       "    <tr>\n",
       "      <td>WiiU</td>\n",
       "      <td>0.00</td>\n",
       "      <td>0.00</td>\n",
       "      <td>0.00</td>\n",
       "      <td>0.00</td>\n",
       "      <td>0.00</td>\n",
       "      <td>0.00</td>\n",
       "      <td>0.00</td>\n",
       "      <td>0.00</td>\n",
       "      <td>0.00</td>\n",
       "      <td>0.00</td>\n",
       "      <td>0.00</td>\n",
       "      <td>0.00</td>\n",
       "      <td>17.56</td>\n",
       "      <td>21.65</td>\n",
       "      <td>22.03</td>\n",
       "      <td>16.35</td>\n",
       "      <td>4.60</td>\n",
       "    </tr>\n",
       "    <tr>\n",
       "      <td>X360</td>\n",
       "      <td>0.00</td>\n",
       "      <td>0.00</td>\n",
       "      <td>0.00</td>\n",
       "      <td>0.00</td>\n",
       "      <td>0.00</td>\n",
       "      <td>7.00</td>\n",
       "      <td>51.62</td>\n",
       "      <td>95.41</td>\n",
       "      <td>135.26</td>\n",
       "      <td>120.29</td>\n",
       "      <td>170.03</td>\n",
       "      <td>143.84</td>\n",
       "      <td>99.74</td>\n",
       "      <td>88.58</td>\n",
       "      <td>34.74</td>\n",
       "      <td>11.96</td>\n",
       "      <td>1.52</td>\n",
       "    </tr>\n",
       "    <tr>\n",
       "      <td>XB</td>\n",
       "      <td>0.99</td>\n",
       "      <td>22.26</td>\n",
       "      <td>48.01</td>\n",
       "      <td>55.04</td>\n",
       "      <td>65.42</td>\n",
       "      <td>49.08</td>\n",
       "      <td>10.04</td>\n",
       "      <td>0.55</td>\n",
       "      <td>0.18</td>\n",
       "      <td>0.00</td>\n",
       "      <td>0.00</td>\n",
       "      <td>0.00</td>\n",
       "      <td>0.00</td>\n",
       "      <td>0.00</td>\n",
       "      <td>0.00</td>\n",
       "      <td>0.00</td>\n",
       "      <td>0.00</td>\n",
       "    </tr>\n",
       "    <tr>\n",
       "      <td>XOne</td>\n",
       "      <td>0.00</td>\n",
       "      <td>0.00</td>\n",
       "      <td>0.00</td>\n",
       "      <td>0.00</td>\n",
       "      <td>0.00</td>\n",
       "      <td>0.00</td>\n",
       "      <td>0.00</td>\n",
       "      <td>0.00</td>\n",
       "      <td>0.00</td>\n",
       "      <td>0.00</td>\n",
       "      <td>0.00</td>\n",
       "      <td>0.00</td>\n",
       "      <td>0.00</td>\n",
       "      <td>18.96</td>\n",
       "      <td>54.07</td>\n",
       "      <td>60.14</td>\n",
       "      <td>26.15</td>\n",
       "    </tr>\n",
       "  </tbody>\n",
       "</table>\n",
       "</div>"
      ],
      "text/plain": [
       "year_of_release   2000    2001    2002    2003    2004    2005    2006  \\\n",
       "platform                                                                 \n",
       "3DS               0.00    0.00    0.00    0.00    0.00    0.00    0.00   \n",
       "DC                5.99    1.07    0.29    0.00    0.00    0.00    0.00   \n",
       "DS                0.00    0.00    0.00    0.00   17.27  130.14  119.81   \n",
       "GB               19.76    9.24    0.00    0.00    0.00    0.00    0.00   \n",
       "GBA               0.07   61.53   74.16   56.67   77.91   33.86    5.28   \n",
       "GC                0.00   26.34   51.81   50.61   28.82   27.62   11.26   \n",
       "N64              33.97    3.25    0.08    0.00    0.00    0.00    0.00   \n",
       "PC                4.66    5.47    8.57    8.84   10.39    4.37    2.85   \n",
       "PS               96.37   35.59    6.67    2.07    0.00    0.00    0.00   \n",
       "PS2              39.17  166.43  205.38  184.31  211.81  160.66  103.42   \n",
       "PS3               0.00    0.00    0.00    0.00    0.00    0.00   20.96   \n",
       "PS4               0.00    0.00    0.00    0.00    0.00    0.00    0.00   \n",
       "PSP               0.00    0.00    0.00    0.00    7.06   43.84   55.32   \n",
       "PSV               0.00    0.00    0.00    0.00    0.00    0.00    0.00   \n",
       "WS                0.68    0.28    0.00    0.00    0.00    0.00    0.00   \n",
       "Wii               0.00    0.00    0.00    0.00    0.00    0.00  137.15   \n",
       "WiiU              0.00    0.00    0.00    0.00    0.00    0.00    0.00   \n",
       "X360              0.00    0.00    0.00    0.00    0.00    7.00   51.62   \n",
       "XB                0.99   22.26   48.01   55.04   65.42   49.08   10.04   \n",
       "XOne              0.00    0.00    0.00    0.00    0.00    0.00    0.00   \n",
       "\n",
       "year_of_release    2007    2008    2009    2010    2011    2012    2013  \\\n",
       "platform                                                                  \n",
       "3DS                0.00    0.00    0.00    0.00   63.20   51.36   56.57   \n",
       "DC                 0.02    0.04    0.00    0.00    0.00    0.00    0.00   \n",
       "DS               146.94  145.31  119.54   85.02   26.18   11.01    1.54   \n",
       "GB                 0.00    0.00    0.00    0.00    0.00    0.00    0.00   \n",
       "GBA                3.40    0.00    0.00    0.00    0.00    0.00    0.00   \n",
       "GC                 0.27    0.00    0.00    0.00    0.00    0.00    0.00   \n",
       "N64                0.00    0.00    0.00    0.00    0.00    0.00    0.00   \n",
       "PC                 9.28   12.42   16.91   24.28   35.03   23.14   12.38   \n",
       "PS                 0.00    0.00    0.00    0.00    0.00    0.00    0.00   \n",
       "PS2               75.99   53.90   26.40    5.64    0.45    0.00    0.00   \n",
       "PS3               73.19  118.52  130.93  142.17  156.78  107.35  113.25   \n",
       "PS4                0.00    0.00    0.00    0.00    0.00    0.00   25.99   \n",
       "PSP               46.93   34.55   37.78   35.04   17.82    7.69    3.14   \n",
       "PSV                0.00    0.00    0.00    0.00    4.63   16.19   10.59   \n",
       "WS                 0.00    0.00    0.00    0.00    0.00    0.00    0.00   \n",
       "Wii              152.77  171.32  206.97  127.95   59.65   21.71    8.59   \n",
       "WiiU               0.00    0.00    0.00    0.00    0.00   17.56   21.65   \n",
       "X360              95.41  135.26  120.29  170.03  143.84   99.74   88.58   \n",
       "XB                 0.55    0.18    0.00    0.00    0.00    0.00    0.00   \n",
       "XOne               0.00    0.00    0.00    0.00    0.00    0.00   18.96   \n",
       "\n",
       "year_of_release    2014    2015   2016  \n",
       "platform                                \n",
       "3DS               43.76   27.78  15.14  \n",
       "DC                 0.00    0.00   0.00  \n",
       "DS                 0.00    0.00   0.00  \n",
       "GB                 0.00    0.00   0.00  \n",
       "GBA                0.00    0.00   0.00  \n",
       "GC                 0.00    0.00   0.00  \n",
       "N64                0.00    0.00   0.00  \n",
       "PC                13.28    8.52   5.25  \n",
       "PS                 0.00    0.00   0.00  \n",
       "PS2                0.00    0.00   0.00  \n",
       "PS3               47.76   16.82   3.60  \n",
       "PS4              100.00  118.90  69.25  \n",
       "PSP                0.24    0.12   0.00  \n",
       "PSV               11.90    6.25   4.25  \n",
       "WS                 0.00    0.00   0.00  \n",
       "Wii                3.75    1.14   0.18  \n",
       "WiiU              22.03   16.35   4.60  \n",
       "X360              34.74   11.96   1.52  \n",
       "XB                 0.00    0.00   0.00  \n",
       "XOne              54.07   60.14  26.15  "
      ]
     },
     "execution_count": 45,
     "metadata": {},
     "output_type": "execute_result"
    }
   ],
   "source": [
    "sales_platform = actual_years.pivot_table(index='platform', columns='year_of_release', values='total_sales', aggfunc='sum')\n",
    "sales_platform.fillna(0, inplace=True)\n",
    "sales_platform"
   ]
  },
  {
   "cell_type": "markdown",
   "metadata": {},
   "source": [
    "В среднем срок жизни платформ около 6-8 лет. Хотя платформу PS (2,3), Wii и ряд других я бы отнёс к самым долгоиграющим.\n",
    "\n",
    "\n",
    "<div style=\"border:solid gold 2px; padding: 20px\"> <h1 style=\"color:gold; margin-bottom:20px\">Комментарий наставника</h1>\n",
    "\n",
    "Все правильно посчитано, но лучше тоже было сделать график."
   ]
  },
  {
   "cell_type": "markdown",
   "metadata": {},
   "source": [
    "# Какие платформы лидируют по продажам, растут или падают? Выберите несколько потенциально прибыльных платформ."
   ]
  },
  {
   "cell_type": "markdown",
   "metadata": {},
   "source": [
    "На данный момент, три платформы лидируют в продажах. Это PS4, XOne и 3DS, но их продажи в 2016 падают по сравнению с предыдущими периодами. Есть подозрение, что из-за того, что в 2016 много пропусков и имеющиеся данные не предоставляют полную картину.\n",
    "\n",
    "\n",
    "<div style=\"border:solid green 2px; padding: 20px\"> <h1 style=\"color:green; margin-bottom:20px\">Комментарий наставника</h1>\n",
    "\n",
    "ок."
   ]
  },
  {
   "cell_type": "markdown",
   "metadata": {},
   "source": [
    "# Постройте график «ящик с усами» по глобальным продажам каждой игры и разбивкой по платформам. Велика ли разница в продажах? А в средних продажах на разных платформах? Опишите результат."
   ]
  },
  {
   "cell_type": "code",
   "execution_count": 46,
   "metadata": {},
   "outputs": [
    {
     "data": {
      "text/plain": [
       "(0, 4)"
      ]
     },
     "execution_count": 46,
     "metadata": {},
     "output_type": "execute_result"
    },
    {
     "data": {
      "image/png": "[encoded data removed]",
      "text/plain": [
       "<Figure size 1008x288 with 1 Axes>"
      ]
     },
     "metadata": {
      "needs_background": "light"
     },
     "output_type": "display_data"
    }
   ],
   "source": [
    "actual_platforms = ['PS4', '3DS', 'XOne']\n",
    "\n",
    "df_games_box = actual_years.query('platform in @actual_platforms').groupby(['name', 'platform']).agg({'total_sales': 'sum'})\n",
    "\n",
    "df_games_box.boxplot('total_sales', by='platform', figsize=(14, 4))\n",
    "plt.ylim(0, 4)"
   ]
  },
  {
   "cell_type": "markdown",
   "metadata": {},
   "source": [
    "На графике видно, что на всех платформах основная масса продаж лежит в интервале от 1.7 до 2, хотя игры на PS4 прибыльнее, чем на других платформах. Выбрал эти три платформы ввиду их сильных продаж в 2016 по сравнению с конкурирующими платформами.\n",
    "\n",
    "\n",
    "<div style=\"border:solid green 2px; padding: 20px\"> <h1 style=\"color:green; margin-bottom:20px\">Комментарий наставника</h1>\n",
    "\n",
    "Хорошо, теперь ящики с усами правильные."
   ]
  },
  {
   "cell_type": "markdown",
   "metadata": {},
   "source": [
    "# Посмотрите, как влияют на продажи внутри одной популярной платформы отзывы пользователей и критиков. Постройте диаграмму рассеяния и посчитайте корреляцию между отзывами и продажами. Сформулируйте выводы."
   ]
  },
  {
   "cell_type": "code",
   "execution_count": 47,
   "metadata": {},
   "outputs": [
    {
     "data": {
      "text/html": [
       "<div>\n",
       "<style scoped>\n",
       "    .dataframe tbody tr th:only-of-type {\n",
       "        vertical-align: middle;\n",
       "    }\n",
       "\n",
       "    .dataframe tbody tr th {\n",
       "        vertical-align: top;\n",
       "    }\n",
       "\n",
       "    .dataframe thead th {\n",
       "        text-align: right;\n",
       "    }\n",
       "</style>\n",
       "<table border=\"1\" class=\"dataframe\">\n",
       "  <thead>\n",
       "    <tr style=\"text-align: right;\">\n",
       "      <th></th>\n",
       "      <th>user_score</th>\n",
       "      <th>critic_score</th>\n",
       "      <th>total_sales</th>\n",
       "    </tr>\n",
       "  </thead>\n",
       "  <tbody>\n",
       "    <tr>\n",
       "      <td>user_score</td>\n",
       "      <td>1.000000</td>\n",
       "      <td>0.557654</td>\n",
       "      <td>-0.031957</td>\n",
       "    </tr>\n",
       "    <tr>\n",
       "      <td>critic_score</td>\n",
       "      <td>0.557654</td>\n",
       "      <td>1.000000</td>\n",
       "      <td>0.406568</td>\n",
       "    </tr>\n",
       "    <tr>\n",
       "      <td>total_sales</td>\n",
       "      <td>-0.031957</td>\n",
       "      <td>0.406568</td>\n",
       "      <td>1.000000</td>\n",
       "    </tr>\n",
       "  </tbody>\n",
       "</table>\n",
       "</div>"
      ],
      "text/plain": [
       "              user_score  critic_score  total_sales\n",
       "user_score      1.000000      0.557654    -0.031957\n",
       "critic_score    0.557654      1.000000     0.406568\n",
       "total_sales    -0.031957      0.406568     1.000000"
      ]
     },
     "metadata": {},
     "output_type": "display_data"
    },
    {
     "data": {
      "image/png": "[encoded data removed]",
      "text/plain": [
       "<Figure size 432x288 with 1 Axes>"
      ]
     },
     "metadata": {
      "needs_background": "light"
     },
     "output_type": "display_data"
    },
    {
     "data": {
      "image/png": "[encoded data removed]",
      "text/plain": [
       "<Figure size 432x288 with 1 Axes>"
      ]
     },
     "metadata": {
      "needs_background": "light"
     },
     "output_type": "display_data"
    }
   ],
   "source": [
    "top_platform = ['PS4']\n",
    "work_data = actual_years.query('platform in @top_platform')\n",
    "display(work_data[['user_score', 'critic_score','total_sales']].corr())\n",
    "\n",
    "work_data.plot(x='total_sales', y='user_score', kind='scatter', alpha = 0.3)\n",
    "plt.show()\n",
    "\n",
    "work_data.plot(x='total_sales', y='critic_score', kind='scatter', alpha = 0.3)\n",
    "plt.show()"
   ]
  },
  {
   "cell_type": "markdown",
   "metadata": {},
   "source": [
    "Больше всего отзывов приходится на игры с низкими продажами или дешёвые игры. В правой части практически нет ни отзывов, ни продаж."
   ]
  },
  {
   "cell_type": "markdown",
   "metadata": {},
   "source": [
    "\n",
    "<font color = red> Ты построил и рассчитал корреляцию между оценками критиков и оценками пользователей, а надо считать корреляцию между оценками и продажами. Это надол делать сначала для одной наиболее перспективной платформы, а потом сравнить с результатами для других платформ</font>\n",
    "\n",
    "\n",
    "<div style=\"border:solid green 2px; padding: 20px\"> <h1 style=\"color:green; margin-bottom:20px\">Комментарий наставника</h1>\n",
    "Все верно. Хорошо, что рассчитал именно матрицу коррелций, а не отдельные значения."
   ]
  },
  {
   "cell_type": "markdown",
   "metadata": {},
   "source": [
    "# Соотнесите выводы с продажами игр на других платформах."
   ]
  },
  {
   "cell_type": "code",
   "execution_count": 48,
   "metadata": {},
   "outputs": [
    {
     "data": {
      "text/html": [
       "<div>\n",
       "<style scoped>\n",
       "    .dataframe tbody tr th:only-of-type {\n",
       "        vertical-align: middle;\n",
       "    }\n",
       "\n",
       "    .dataframe tbody tr th {\n",
       "        vertical-align: top;\n",
       "    }\n",
       "\n",
       "    .dataframe thead th {\n",
       "        text-align: right;\n",
       "    }\n",
       "</style>\n",
       "<table border=\"1\" class=\"dataframe\">\n",
       "  <thead>\n",
       "    <tr style=\"text-align: right;\">\n",
       "      <th></th>\n",
       "      <th>user_score</th>\n",
       "      <th>critic_score</th>\n",
       "      <th>total_sales</th>\n",
       "    </tr>\n",
       "  </thead>\n",
       "  <tbody>\n",
       "    <tr>\n",
       "      <td>user_score</td>\n",
       "      <td>1.000000</td>\n",
       "      <td>0.547639</td>\n",
       "      <td>0.106706</td>\n",
       "    </tr>\n",
       "    <tr>\n",
       "      <td>critic_score</td>\n",
       "      <td>0.547639</td>\n",
       "      <td>1.000000</td>\n",
       "      <td>0.354252</td>\n",
       "    </tr>\n",
       "    <tr>\n",
       "      <td>total_sales</td>\n",
       "      <td>0.106706</td>\n",
       "      <td>0.354252</td>\n",
       "      <td>1.000000</td>\n",
       "    </tr>\n",
       "  </tbody>\n",
       "</table>\n",
       "</div>"
      ],
      "text/plain": [
       "              user_score  critic_score  total_sales\n",
       "user_score      1.000000      0.547639     0.106706\n",
       "critic_score    0.547639      1.000000     0.354252\n",
       "total_sales     0.106706      0.354252     1.000000"
      ]
     },
     "metadata": {},
     "output_type": "display_data"
    },
    {
     "data": {
      "image/png": "[encoded data removed]",
      "text/plain": [
       "<Figure size 432x288 with 1 Axes>"
      ]
     },
     "metadata": {
      "needs_background": "light"
     },
     "output_type": "display_data"
    },
    {
     "data": {
      "image/png": "[encoded data removed]",
      "text/plain": [
       "<Figure size 432x288 with 1 Axes>"
      ]
     },
     "metadata": {
      "needs_background": "light"
     },
     "output_type": "display_data"
    }
   ],
   "source": [
    "tt_platform = ['3DS', 'XOne']\n",
    "work2_data = actual_years.query('platform in @tt_platform')\n",
    "display(work2_data[['user_score', 'critic_score','total_sales']].corr())\n",
    "\n",
    "work2_data.plot(x='total_sales', y='user_score', kind='scatter', alpha = 0.3)\n",
    "plt.show()\n",
    "\n",
    "work2_data.plot(x='total_sales', y='critic_score', kind='scatter', alpha = 0.3)\n",
    "plt.show()"
   ]
  },
  {
   "cell_type": "markdown",
   "metadata": {},
   "source": [
    "В целом, графики зеркалятся по платформам без явных и критичных отклонений.\n",
    "\n",
    "\n",
    "<div style=\"border:solid green 2px; padding: 20px\"> <h1 style=\"color:green; margin-bottom:20px\">Комментарий наставника</h1>\n",
    "\n",
    "Ок, все верно."
   ]
  },
  {
   "cell_type": "markdown",
   "metadata": {},
   "source": [
    "# Посмотрите на общее распределение игр по жанрам. Что можно сказать о самых прибыльных жанрах? Выделяются ли жанры с высокими и низкими продажами?"
   ]
  },
  {
   "cell_type": "markdown",
   "metadata": {},
   "source": [
    "Распределение игр по жанрам:"
   ]
  },
  {
   "cell_type": "code",
   "execution_count": 49,
   "metadata": {},
   "outputs": [
    {
     "name": "stdout",
     "output_type": "stream",
     "text": [
      "              name\n",
      "genre             \n",
      "Action         416\n",
      "Role-Playing   152\n",
      "Sports         109\n",
      "Misc            93\n",
      "Shooter         85\n",
      "Adventure       79\n",
      "Racing          49\n",
      "Platform        45\n",
      "Fighting        39\n",
      "Simulation      39\n"
     ]
    }
   ],
   "source": [
    "actual_platforms = ['PS4', '3DS', 'XOne']\n",
    "\n",
    "new_data = actual_years.query('platform in @actual_platforms')\n",
    "\n",
    "print(new_data.pivot_table(index='genre', \n",
    "                        values ='name', \n",
    "                        aggfunc='count').sort_values(by = 'name',\n",
    "                                                     ascending = False).head(10))"
   ]
  },
  {
   "cell_type": "markdown",
   "metadata": {},
   "source": [
    "Жанры с высокими продажами:"
   ]
  },
  {
   "cell_type": "code",
   "execution_count": 50,
   "metadata": {},
   "outputs": [
    {
     "name": "stdout",
     "output_type": "stream",
     "text": [
      "              total_sales\n",
      "genre                    \n",
      "Action             191.25\n",
      "Shooter            150.11\n",
      "Role-Playing       123.74\n",
      "Sports              88.50\n",
      "Platform            41.15\n"
     ]
    }
   ],
   "source": [
    "print(new_data.pivot_table(index='genre', \n",
    "                        values ='total_sales', \n",
    "                        aggfunc='sum').sort_values(by = 'total_sales',\n",
    "                                                   ascending = False).head())"
   ]
  },
  {
   "cell_type": "markdown",
   "metadata": {},
   "source": [
    "Жанры с низкими продажами:"
   ]
  },
  {
   "cell_type": "code",
   "execution_count": 51,
   "metadata": {},
   "outputs": [
    {
     "name": "stdout",
     "output_type": "stream",
     "text": [
      "           total_sales\n",
      "genre                 \n",
      "Strategy          3.13\n",
      "Puzzle            5.59\n",
      "Adventure        13.85\n",
      "Fighting         21.66\n",
      "Misc             26.61\n"
     ]
    }
   ],
   "source": [
    "print(new_data.pivot_table(index='genre', \n",
    "                        values ='total_sales', \n",
    "                        aggfunc='sum').sort_values(by = 'total_sales',\n",
    "                                                   ascending = True).head())"
   ]
  },
  {
   "cell_type": "markdown",
   "metadata": {},
   "source": [
    "\n",
    "<div style=\"border:solid gold 2px; padding: 20px\"> <h1 style=\"color:gold; margin-bottom:20px\">Комментарий наставника</h1>\n",
    "\n",
    "Хорошо, но опять же диаграммы были бы полезными."
   ]
  },
  {
   "cell_type": "markdown",
   "metadata": {},
   "source": [
    "Пользователи предпочитают жанр Экшн и практически не играют в Стратегии. Стоит также отметить, что наибольшее количество игр выпускается в жанре Экшн, в то время как Стратегии даже не попали в Топ10. \n",
    "Я считаю, что рынком рулят потребители поэтому и количество игр такое высокое."
   ]
  },
  {
   "cell_type": "markdown",
   "metadata": {},
   "source": [
    "<div style=\"border:solid red 2px; padding: 20px\"> <h1 style=\"color:red; margin-bottom:20px\">Комментарий наставника</h1>\n",
    "\n",
    "Сама структура анализа не верна. самая популярная платформа и самый популярный жанр - это очень бедный анализ. Надо пройти следующие шаги:\n",
    "    \n",
    "    - определеить топ 10 платформ.\n",
    "    - для этих топ 10 платформ построить распределдение продаж по годам\n",
    "    - из полученного распределение получить время жтзни платформ\n",
    "    - из полученного времени жизни определить актуальный период\n",
    "    - отсеять данные по полученному актуальному периоду\n",
    "    - посмотреть динамику продаж в актуальный период\n",
    "    - посмотреть актуальные платформы\n",
    "    - только для актуальных платформ построить ящики с усами по продажам\n",
    "    - посмотреть топ жаноров и проанализировать."
   ]
  },
  {
   "cell_type": "markdown",
   "metadata": {},
   "source": [
    "\n",
    "<div style=\"border:solid red 2px; padding: 20px\"> <h1 style=\"color: red; margin-bottom:20px\">Комментарий наставника</h1>\n",
    "\n",
    "Здесь во-первых:\n",
    "    - надо рассматривать только актуальные платформы\n",
    "    - для одной платформы (которую считаешь самой перспективной) посмотерть корреляцию продаж с оценками критиков и пользователей - рассчитать коэффициенты корреляции, отобразить\n",
    "    - сравнить результат с другими актуальными платформами\n",
    "    - сделать выводы."
   ]
  },
  {
   "cell_type": "markdown",
   "metadata": {},
   "source": [
    "# Шаг 4. Составьте портрет пользователя каждого региона"
   ]
  },
  {
   "cell_type": "markdown",
   "metadata": {},
   "source": [
    "# Определите для пользователя каждого региона (NA, EU, JP)"
   ]
  },
  {
   "cell_type": "markdown",
   "metadata": {},
   "source": [
    "# Самые популярные платформы (топ-5). Опишите различия в долях продаж."
   ]
  },
  {
   "cell_type": "code",
   "execution_count": 52,
   "metadata": {},
   "outputs": [
    {
     "name": "stdout",
     "output_type": "stream",
     "text": [
      "          na_sales\n",
      "platform          \n",
      "X360        594.74\n",
      "Wii         486.87\n",
      "PS3         390.13\n",
      "PS4         108.74\n",
      "XOne         93.12\n",
      "\n",
      "          eu_sales\n",
      "platform          \n",
      "PS3         327.20\n",
      "X360        268.19\n",
      "Wii         258.32\n",
      "PS4         141.09\n",
      "PC          121.28\n",
      "\n",
      "          jp_sales\n",
      "platform          \n",
      "3DS         100.62\n",
      "PS3          79.41\n",
      "Wii          68.28\n",
      "PSV          21.84\n",
      "PS4          15.96\n",
      "\n"
     ]
    }
   ],
   "source": [
    "platforms_act = ['3DS','PC', 'PS3', 'PS4', 'PSV', 'Wii', 'WiiU', 'X360', 'XOne']\n",
    "\n",
    "final_data = actual_years.query('platform in @platforms_act')\n",
    "def top_5(data, location, genre):\n",
    "    print(final_data.pivot_table(index = genre, \n",
    "                            values = location, \n",
    "                            aggfunc='sum').sort_values(by = location,\n",
    "                                                         ascending = False).head())\n",
    "    print()\n",
    "for row in ['na_sales', 'eu_sales', 'jp_sales']:\n",
    "    top_5(final_data, row, 'platform')"
   ]
  },
  {
   "cell_type": "markdown",
   "metadata": {},
   "source": [
    "В Америке и Европе в топе X360, также стоит отметить, что PS3 занимает лидирующие позиции во всём мире."
   ]
  },
  {
   "cell_type": "markdown",
   "metadata": {},
   "source": [
    "# Самые популярные жанры (топ-5). Поясните разницу."
   ]
  },
  {
   "cell_type": "code",
   "execution_count": 53,
   "metadata": {},
   "outputs": [
    {
     "name": "stdout",
     "output_type": "stream",
     "text": [
      "              na_sales\n",
      "genre                 \n",
      "Action          417.96\n",
      "Shooter         357.43\n",
      "Sports          337.56\n",
      "Misc            218.86\n",
      "Role-Playing    139.68\n",
      "\n",
      "         eu_sales\n",
      "genre            \n",
      "Action     301.95\n",
      "Shooter    232.94\n",
      "Sports     224.39\n",
      "Misc       112.59\n",
      "Racing      99.70\n",
      "\n",
      "              jp_sales\n",
      "genre                 \n",
      "Role-Playing     79.22\n",
      "Action           73.02\n",
      "Sports           31.15\n",
      "Misc             26.26\n",
      "Platform         22.58\n",
      "\n"
     ]
    }
   ],
   "source": [
    "for row in ['na_sales', 'eu_sales', 'jp_sales']:\n",
    "    top_5(final_data, row, 'genre')"
   ]
  },
  {
   "cell_type": "markdown",
   "metadata": {},
   "source": [
    "Экшн и Спорт популярны везде, Шутеры популярны в Америке и Европе. Возможно тут есть определенная зависимость от пользовательских предпочтиней."
   ]
  },
  {
   "cell_type": "markdown",
   "metadata": {},
   "source": [
    "# Влияет ли рейтинг ESRB на продажи в отдельном регионе?"
   ]
  },
  {
   "cell_type": "code",
   "execution_count": 54,
   "metadata": {},
   "outputs": [
    {
     "name": "stdout",
     "output_type": "stream",
     "text": [
      "        na_sales\n",
      "rating          \n",
      "M         555.17\n",
      "E         544.44\n",
      "T         356.76\n",
      "E10+      230.99\n",
      "EC          0.71\n",
      "\n",
      "        eu_sales\n",
      "rating          \n",
      "M         389.22\n",
      "E         354.35\n",
      "T         221.00\n",
      "E10+      134.16\n",
      "RP          0.03\n",
      "\n",
      "        jp_sales\n",
      "rating          \n",
      "E          78.89\n",
      "T          53.39\n",
      "M          39.84\n",
      "E10+       13.58\n",
      "EC          0.00\n",
      "\n"
     ]
    }
   ],
   "source": [
    "for row in ['na_sales', 'eu_sales', 'jp_sales']:\n",
    "    top_5(final_data, row, 'rating')"
   ]
  },
  {
   "cell_type": "markdown",
   "metadata": {},
   "source": [
    "Топ3 выглядит одинаково в Америке и Европе, в Японии теже рейтинги, но с измененным порядком. Разница в долях продаж между М и Е минимальна в Америке и Европе, жанр Т слабее. В Японии отрывы более существенны."
   ]
  },
  {
   "cell_type": "markdown",
   "metadata": {},
   "source": [
    "\n",
    "\n",
    "<div style=\"border:solid green 2px; padding: 20px\"> <h1 style=\"color:green; margin-bottom:20px\">Комментарий наставника</h1>\n",
    "\n",
    "Хорошо, только лучше в конце еще раз привести info в качестве итога."
   ]
  },
  {
   "cell_type": "markdown",
   "metadata": {},
   "source": [
    "\n",
    "\n",
    "<div style=\"border:solid red 2px; padding: 20px\"> <h1 style=\"color: red; margin-bottom:20px\">Комментарий наставника</h1>\n",
    "\n",
    "В итоговых выводах по разделу надо описать портреты пользователей по каждому региону."
   ]
  },
  {
   "cell_type": "markdown",
   "metadata": {},
   "source": [
    "# Шаг 5. Проверьте гипотезы"
   ]
  },
  {
   "cell_type": "markdown",
   "metadata": {},
   "source": [
    "Альфу принимаю за 0.05."
   ]
  },
  {
   "cell_type": "code",
   "execution_count": 55,
   "metadata": {},
   "outputs": [],
   "source": [
    "def hp(data_1, data_2, alpha=0.05):\n",
    "    results = st.ttest_ind(\n",
    "        data_1['user_score'], \n",
    "        data_2['user_score'],\n",
    "        )\n",
    "\n",
    "    print('p-значение:', results.pvalue)\n",
    "\n",
    "    if (results.pvalue < alpha):\n",
    "        print(\"Отвергаем нулевую гипотезу\")\n",
    "    else:\n",
    "        print(\"Не получилось отвергнуть нулевую гипотезу\")"
   ]
  },
  {
   "cell_type": "markdown",
   "metadata": {},
   "source": [
    "<div style=\"border:solid green 2px; padding: 20px\"> <h1 style=\"color:green; margin-bottom:20px\">Комментарий наставника</h1>\n",
    "\n",
    "Использование функции - это хорошо."
   ]
  },
  {
   "cell_type": "code",
   "execution_count": 56,
   "metadata": {},
   "outputs": [],
   "source": [
    "final_data['critic_score'] = final_data['critic_score'].fillna(final_data['critic_score'].mean()).astype('int')\n",
    "final_data.loc[final_data['user_score'] == 'tbd', 'user_score'] = final_data['critic_score'].astype('float') / 10\n",
    "final_data['user_score'] = pd.to_numeric(final_data['user_score'], errors = 'raise')\n",
    "final_data['user_score'] = final_data['user_score'].fillna(final_data['user_score'].mean())\n",
    "final_data['user_score'] = final_data['user_score'] * 10\n",
    "final_data['user_score'] = final_data['user_score'].astype('int')"
   ]
  },
  {
   "cell_type": "markdown",
   "metadata": {},
   "source": [
    "# Средние пользовательские рейтинги платформ Xbox One и PC одинаковые."
   ]
  },
  {
   "cell_type": "code",
   "execution_count": 57,
   "metadata": {},
   "outputs": [
    {
     "name": "stdout",
     "output_type": "stream",
     "text": [
      "p-значение: 3.3644846065324786e-05\n",
      "Отвергаем нулевую гипотезу\n"
     ]
    }
   ],
   "source": [
    "hp(final_data.query('platform == \"XOne\"'), final_data.query('platform == \"PC\"'))"
   ]
  },
  {
   "cell_type": "markdown",
   "metadata": {},
   "source": [
    "Получается рейтинг платформ различен."
   ]
  },
  {
   "cell_type": "markdown",
   "metadata": {},
   "source": [
    "# Средние пользовательские рейтинги жанров Action (англ. «действие», экшен-игры) и Sports (англ. «спортивные соревнования») разные."
   ]
  },
  {
   "cell_type": "code",
   "execution_count": 58,
   "metadata": {},
   "outputs": [
    {
     "name": "stdout",
     "output_type": "stream",
     "text": [
      "p-значение: 6.708377487139887e-17\n",
      "Отвергаем нулевую гипотезу\n"
     ]
    }
   ],
   "source": [
    "hp(final_data.query('genre == \"Action\"'), final_data.query('genre == \"Sports\"'))"
   ]
  },
  {
   "cell_type": "markdown",
   "metadata": {},
   "source": [
    "Действительно, пользовательские рейтинги разные для обоих жанров."
   ]
  },
  {
   "cell_type": "markdown",
   "metadata": {},
   "source": [
    "# Шаг 6. Напишите общий вывод"
   ]
  },
  {
   "cell_type": "markdown",
   "metadata": {},
   "source": [
    "Пик выпуска и продаж игр был с 2006 по 2011 года. Соответственно, примерно на этот же период приходится и наибольшее количество продаж\n",
    "\n",
    "\n",
    "В 2016 году лидируют по продажам и популярности платформы PS4, XOne и 3DS с большим отрывом от остальных. Хотя если взять весь актуальный период, то лидеры PS2,X360 и PS3, но их продажи падают год от года. Самые популярные жанры - Экшн и Шутер.\n",
    "\n",
    "На данном этапе, я бы порекомендовал выпускать игру на PS4, XOne и 3DS в жанре Экшн и Шутер. На мой взгляд, очень близкие между собой жанры. \n",
    "\n",
    "Ведь самое важное, чтобы потребитель был доволен и покупал, а он доволен и покупает по всему миру. Также можно закрепить успех Спортом."
   ]
  },
  {
   "cell_type": "markdown",
   "metadata": {},
   "source": [
    "<div style=\"border:solid red 2px; padding: 20px\"> <h1 style=\"color: red; margin-bottom:20px\">Комментарий наставника</h1>\n",
    "\n",
    "Заполнять пропуски и домножать на 10 не нужно. Заполнение пропусков сильно искажает результат, а домножение на 10 просто не нужно. Надо рассматривать даннве только за определенный актуальный период."
   ]
  },
  {
   "cell_type": "markdown",
   "metadata": {},
   "source": [
    "<font color = red> Во-первых, актуальные данные - это не только 2016 год, а данные за актуальный период, который определен в анализе. Во-вторых взять данные с пропусками и взять данные с заполненными пропусками - это разные вещи. В данных мы отбросим пропуски и унас будут только достоверные данные, а так ты исказил распределение </font>\n",
    "\n",
    "\n",
    "<div style=\"border:solid gold 2px; padding: 20px\"> <h1 style=\"color:gold; margin-bottom:20px\">Комментарий наставника</h1>\n",
    "\n",
    "Хорошо, но стоило более подробно рассмотреть изучаемые наборы. Например просмотреть распределение, по условиям использования т-теста оно должно быть нормальным...."
   ]
  },
  {
   "cell_type": "code",
   "execution_count": null,
   "metadata": {},
   "outputs": [],
   "source": []
  }
 ],
 "metadata": {
  "kernelspec": {
   "display_name": "Python 3",
   "language": "python",
   "name": "python3"
  },
  "language_info": {
   "codemirror_mode": {
    "name": "ipython",
    "version": 3
   },
   "file_extension": ".py",
   "mimetype": "text/x-python",
   "name": "python",
   "nbconvert_exporter": "python",
   "pygments_lexer": "ipython3",
   "version": "3.8.3"
  }
 },
 "nbformat": 4,
 "nbformat_minor": 2
}
