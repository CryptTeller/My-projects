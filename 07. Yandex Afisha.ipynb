{
 "cells": [
  {
   "cell_type": "markdown",
   "metadata": {},
   "source": [
    "---\n",
    "\n",
    "**<font color=\"green\">Комментарий ревьюера V6</font>**\n",
    "\n",
    "И снова, здравствуйте\n",
    "\n",
    "\n",
    "---"
   ]
  },
  {
   "cell_type": "markdown",
   "metadata": {},
   "source": [
    "---\n",
    "\n",
    "**<font color=\"green\">Комментарий ревьюера V5</font>**\n",
    "\n",
    "Давай посмотрим, что получилось :)\n",
    "\n",
    "\n",
    "---"
   ]
  },
  {
   "cell_type": "markdown",
   "metadata": {},
   "source": [
    "---\n",
    "\n",
    "**<font color=\"green\">Комментарий ревьюера V3</font>**\n",
    "\n",
    "Андрей, добрый день! Продолжаем :)\n",
    "\n",
    "\n",
    "---\n"
   ]
  },
  {
   "cell_type": "markdown",
   "metadata": {},
   "source": [
    "<div class=\"alert alert-block alert-info\">\n",
    "\n",
    "Фуууух, я вроде всё перепахал =))))\n",
    "    \n",
    "Пользовался конспектами и мозгами.\n",
    "    \n",
    "Объясни, пожалуйста, один момент - почему нельзя было продолжать работать с когортами, которые я сделал слегка не по материалам Яндекса? То есть я хотел делать так изначально - начать калькуляции от 00.00.0000, поэтому и получились когорты типа 24210. Я, кстати, делал пометку с соответствием этих 24210 месяцам из наших датафреймов. То есть 24210 - это июнь 2017. Я эти пометки оставил перед каждым heatmap - 24210 - июнь 2017, 24221 - май 2018.\n",
    "    \n",
    "На мой взгляд, так тоже было удобно. =)\n",
    "    \n",
    "Жду наконец APPROVED и зелёных плашек)))))))\n",
    "    \n",
    "Спасибо за время твоё и наставление в нужном направлении.\n",
    "</div>\n",
    "    \n",
    "---"
   ]
  },
  {
   "cell_type": "markdown",
   "metadata": {},
   "source": [
    "---\n",
    "\n",
    "**<font color=\"green\">Комментарий ревьюера V2</font>**\n",
    "\n",
    "Привет! Спасибо за доработку задания.\n",
    "\n",
    "Извини за задержку с ответом\n",
    "\n",
    "\n",
    "---\n"
   ]
  },
  {
   "cell_type": "markdown",
   "metadata": {},
   "source": [
    "---\n",
    "\n",
    "**<font color=\"green\">Комментарий ревьюера</font>**\n",
    "\n",
    "Привет,Андрей! Спасибо тебе за выполненное задание!\n",
    "Меня зовут Юлий Афанасоглу, я буду проверять твою работу.\n",
    "\n",
    "По ходу тетрадки ты найдешь комментарии к проекту, они будут в отдельных ячейках Markdown с заголовком «Комментарий ревьюера». Постарайся учесть эти комментарии для дальнейших проектов.\n",
    "\n",
    "Пожалуйста, не удаляй комментарии. Будет здорово, если для своих ответов ты тоже выберешь какой-то **<font color=\"blue\">заметный цвет</font>**  или **формат**, так мне будет легче отследить изменения.\n",
    "\n",
    "---\n",
    "\n",
    "Я буду красить комментарии цветом:\n",
    "\n",
    "<div class=\"alert alert-block alert-danger\">\n",
    "    \n",
    "\n",
    "### Комментарий от ревьюера\n",
    "\n",
    "Такой комментарий нужно исправить обязательно, он критически влияет на удачное выполнение проекта.\n",
    "</div>\n",
    "    \n",
    "---\n",
    "\n",
    "<div class=\"alert alert-block alert-warning\">\n",
    "    \n",
    "\n",
    "### Комментарий от ревьюера\n",
    "\n",
    "\n",
    "Такой комментарий является рекомендацией или советом. Можешь использовать их на своё усмотрение.\n",
    "</div>\n",
    "\n",
    "---\n",
    "\n",
    "<div class=\"alert alert-block alert-success\">\n",
    "    \n",
    "\n",
    "### Комментарий от ревьюера\n",
    "\n",
    "Такой комментарий  говорит о том, что было сделано что-то качественное и правильное =)\n",
    "</div>\n",
    "\n",
    "---\n",
    "\n"
   ]
  },
  {
   "cell_type": "markdown",
   "metadata": {},
   "source": [
    "# Аналитика в Яндекс.Афише"
   ]
  },
  {
   "cell_type": "markdown",
   "metadata": {},
   "source": [
    "# Описание проекта"
   ]
  },
  {
   "cell_type": "markdown",
   "metadata": {},
   "source": [
    "Вас пригласили на стажировку в отдел аналитики Яндекс.Афиши. \n",
    "\n",
    "Первое задание: помочь маркетологам оптимизировать маркетинговые затраты.\n",
    "\n",
    "У вас в распоряжении есть данные от Яндекс.Афиши с июня 2017 по конец мая 2018 года:\n",
    "\n",
    "- лог сервера с данными о посещениях сайта Яндекс.Афиши,\n",
    "- выгрузка всех заказов за этот период,\n",
    "- статистика рекламных расходов."
   ]
  },
  {
   "cell_type": "markdown",
   "metadata": {},
   "source": [
    "Загружаю необходимые для работы библиотеки."
   ]
  },
  {
   "cell_type": "markdown",
   "metadata": {},
   "source": [
    "---\n",
    "\n",
    "\n",
    "<div class=\"alert alert-block alert-danger\">\n",
    "    \n",
    "\n",
    "### Комментарий от ревьюера\n",
    "\n",
    "\n",
    "Я заметил, что ячейки в твоей тетрадке начинаются не с 1. Перед отправкой работы рекомендую перезапускать ноутбук, чтобы убедиться, что все ячейки выполняются корректно\n",
    "\n",
    "P.S. Я прогнал твою работу и не все ячейки отработали. Проверь, пожалуйста, в чем дело и возвращайся скорее :)  \n",
    "    \n",
    "</div>\n",
    "    \n",
    "---\n"
   ]
  },
  {
   "cell_type": "markdown",
   "metadata": {},
   "source": [
    "## Юлий, привет! Спасибо. Я лоханулся из-за раскладки =( Там типа \"с\" русская, а не английская. \n",
    "\n",
    "## Расскажи, пожалуйста, как комментарии цветом выделять. Я тогда свои \"синими\" сделаю. "
   ]
  },
  {
   "cell_type": "markdown",
   "metadata": {},
   "source": [
    "<div class=\"alert alert-block alert-info\">\n",
    "    \n",
    "\n",
    "### Комментарий от ревьюера V2\n",
    "\n",
    "\n",
    "Плашка для синего ответа  \n",
    "    \n",
    "</div>\n",
    "    \n",
    "---"
   ]
  },
  {
   "cell_type": "markdown",
   "metadata": {},
   "source": [
    "<div class=\"alert alert-block alert-danger\">\n",
    "    \n",
    "\n",
    "### Комментарий от ревьюера V2\n",
    "\n",
    "\n",
    "Cпасибо, что быстро отреагировал на предыдущие замечания. Теперь код работает.\n",
    "\n",
    "Я начал проверять твою работу и дошел до 2 раздела, но, кажется, она выполнена не до конца. А именно:\n",
    "- Не хватает и выводов и промежуточных комментариев по ходу работы\n",
    "- Хочется увидеть подразделы внутри разделов (шагов) в виде заголовков в фомате Markdown (шпаргалка по маркдаун: https://paulradzkov.com/2014/markdown_cheatsheet/) \n",
    "\n",
    "Также я заметил следующие неточности, которые лучше доработать (что бросилось в глаза):\n",
    "- Заголовки и подписи к осям в графиках\n",
    "- В графиках по когортам по оси х должны быть названия когорт в формате даты (2017-01-01)\n",
    "- RR хорошо бы представить в %\n",
    "- обрати внимание на графики по источникам (например, \"Cost of one visit\") - кажется, что не совсем удачное представление информации, или если нет - требует пояснения\n",
    "- не нашел расчета среднего чека\n",
    "- не увидел расчета общей окупаемости (ROMI) по когортам\n",
    "- вывод также полезно структурировать и добавить комментарии к числовым значениям из расчетов\n",
    " \n",
    "    \n",
    "</div>\n",
    "    \n",
    "---"
   ]
  },
  {
   "cell_type": "markdown",
   "metadata": {},
   "source": [
    "<div class=\"alert alert-block alert-info\">\n",
    "Привет! Спасибо за комментарии. Прикладываю инструкцию от Яндекс, по которой я делал, если у тебя её нет. Просто хочу, чтобы мы были на одной волне =)\n",
    "\n",
    "Инструкция по выполнению проекта:\n",
    "    \n",
    "Шаг 1. Загрузите данные и подготовьте их к анализу\n",
    "Загрузите данные о визитах, заказах и расходах в переменные. Оптимизируйте данные для анализа. Убедитесь, что тип данных в каждой колонке — правильный. Путь к файлам:\n",
    "/datasets/visits_log.csv. Скачать датасет\n",
    "/datasets/orders_log.csv. Скачать датасет\n",
    "/datasets/costs.csv. Скачать датасет\n",
    "\n",
    "Шаг 2. Постройте отчёты и посчитайте метрики\n",
    "Продукт\n",
    "Сколько людей пользуются в день, неделю, месяц?\n",
    "Сколько сессий в день?\n",
    "Сколько длится одна сессия?\n",
    "Как часто люди возвращаются?\n",
    "Продажи\n",
    "Когда люди начинают покупать?\n",
    "Сколько раз покупают за период?\n",
    "Какой средний чек?\n",
    "Сколько денег приносят? (LTV)\n",
    "Маркетинг\n",
    "Сколько денег потратили? Всего / на каждый источник / по времени\n",
    "Сколько стоило привлечение одного покупателя из каждого источника?\n",
    "На сколько окупились расходы? (ROI)\n",
    "Отобразите на графиках, как эти метрики отличаются по устройствам и по рекламным источникам? Как они меняются во времени?\n",
    "\n",
    "Шаг 3. Напишите вывод: порекомендуйте маркетологам, куда и сколько им стоит вкладывать денег?\n",
    "Какие источники/платформы вы бы порекомендовали? Объясните свой выбор: на какие метрики вы ориентируетесь? Почему? Какие выводы вы сделали, узнав значение метрик?\n",
    "</div>"
   ]
  },
  {
   "cell_type": "markdown",
   "metadata": {},
   "source": [
    "---\n",
    "<div class=\"alert alert-block alert-warning\">\n",
    "    \n",
    "\n",
    "### Комментарий от ревьюера V3\n",
    "\n",
    "Здорово, что ты вывел перечень вопросов, на которые собираешься ответить в рамках исследования. \n",
    "    \n",
    "Также в начале работы всегда важно отметить цель - основной вопрос, на который ты даешь ответ своим исследованием. Чем твоя работа полезна получателю, на какой бизнес вопрос она ответит. \n",
    "</div>\n",
    "\n",
    "---\n"
   ]
  },
  {
   "cell_type": "markdown",
   "metadata": {},
   "source": [
    "<div class=\"alert alert-block alert-info\">\n",
    "\n",
    "Юлий, по поводу среднего чека - он есть в калькуляциях ближе к концу второго шага.\n",
    "    \n",
    "Насколько я знаю ROI = ROMI. Я могу поменять просто его название, а так я делал по методологии Яндекс из Тренажера.\n",
    "    \n",
    "Поправил остальные моменты согласно твоим комментариям (графики и Retention Rate %).\n",
    "    \n",
    "Что касается когорт, придётся тебе мне тут помочь и рассказать подробнее. Я в наших Яндекс.Шпаргалках не нашёл =( Также у нас когорты в Практикуме идут по У, а не Х. В реальной жизни по-другому? Также скажи, пожалуйста, как правильно создать форматирование для названий когорт. Так получилось, что те столбцы которые я использую, как названия когорт, они формата Int64 или float64. Значения в них, например, 24210. Я догадался, что это июнь 2017. Но как превратить в необходимый формат пока не понял. Объясни, пожалуйста.\n",
    "    \n",
    "    \n",
    "Спасибо тебе за твоё время и объяснения!!\n",
    "    \n",
    "Совсем забыл, Markdown освоил =)\n",
    "    \n",
    "</div>\n",
    "    \n",
    "---"
   ]
  },
  {
   "cell_type": "markdown",
   "metadata": {},
   "source": [
    "---\n",
    "<div class=\"alert alert-block alert-warning\">\n",
    "    \n",
    "### Комментарий от ревьюера V3\n",
    "\n",
    "- Действительно, в нашем случае (в этом проекте) ROI = ROMI, но в жизни это это разные показатели\n",
    "- Я написал по ошибке Х, конечно, я имел в виду ось Y. Ниже я укажу ячейку, где происходит неточность при расчете даты начала жизни когорты, из-за которой названия когорт отображаются некорректно\n",
    "- Если какая то тема вызывает сложности, то всегда можно обратиться к преподавателю по проектам, который подробно пояснит интересующие тебя моменты\n",
    "    \n",
    "</div>\n",
    "    \n",
    "---"
   ]
  },
  {
   "cell_type": "code",
   "execution_count": 1,
   "metadata": {},
   "outputs": [],
   "source": [
    "import pandas as pd\n",
    "import numpy as np\n",
    "import matplotlib.pyplot as plt\n",
    "from matplotlib import pyplot as plt\n",
    "import seaborn as sns\n",
    "import warnings\n",
    "import time\n",
    "warnings.filterwarnings('ignore')"
   ]
  },
  {
   "cell_type": "markdown",
   "metadata": {},
   "source": [
    "Эти библиотеки потребуются для работы с данными и построения визуализаций."
   ]
  },
  {
   "cell_type": "markdown",
   "metadata": {},
   "source": [
    "# Загрузите данные и подготовьте их к анализу"
   ]
  },
  {
   "cell_type": "code",
   "execution_count": 2,
   "metadata": {},
   "outputs": [],
   "source": [
    "visits = pd.read_csv('/datasets/visits_log.csv')\n",
    "orders = pd.read_csv('/datasets/orders_log.csv')\n",
    "costs = pd.read_csv('/datasets/costs.csv')"
   ]
  },
  {
   "cell_type": "markdown",
   "metadata": {},
   "source": [
    "### Посещения"
   ]
  },
  {
   "cell_type": "code",
   "execution_count": 3,
   "metadata": {},
   "outputs": [
    {
     "name": "stdout",
     "output_type": "stream",
     "text": [
      "<class 'pandas.core.frame.DataFrame'>\n",
      "RangeIndex: 359400 entries, 0 to 359399\n",
      "Data columns (total 5 columns):\n",
      "Device       359400 non-null object\n",
      "End Ts       359400 non-null object\n",
      "Source Id    359400 non-null int64\n",
      "Start Ts     359400 non-null object\n",
      "Uid          359400 non-null uint64\n",
      "dtypes: int64(1), object(3), uint64(1)\n",
      "memory usage: 13.7+ MB\n"
     ]
    },
    {
     "data": {
      "text/plain": [
       "None"
      ]
     },
     "metadata": {},
     "output_type": "display_data"
    },
    {
     "data": {
      "text/html": [
       "<div>\n",
       "<style scoped>\n",
       "    .dataframe tbody tr th:only-of-type {\n",
       "        vertical-align: middle;\n",
       "    }\n",
       "\n",
       "    .dataframe tbody tr th {\n",
       "        vertical-align: top;\n",
       "    }\n",
       "\n",
       "    .dataframe thead th {\n",
       "        text-align: right;\n",
       "    }\n",
       "</style>\n",
       "<table border=\"1\" class=\"dataframe\">\n",
       "  <thead>\n",
       "    <tr style=\"text-align: right;\">\n",
       "      <th></th>\n",
       "      <th>Device</th>\n",
       "      <th>End Ts</th>\n",
       "      <th>Source Id</th>\n",
       "      <th>Start Ts</th>\n",
       "      <th>Uid</th>\n",
       "    </tr>\n",
       "  </thead>\n",
       "  <tbody>\n",
       "    <tr>\n",
       "      <td>0</td>\n",
       "      <td>touch</td>\n",
       "      <td>2017-12-20 17:38:00</td>\n",
       "      <td>4</td>\n",
       "      <td>2017-12-20 17:20:00</td>\n",
       "      <td>16879256277535980062</td>\n",
       "    </tr>\n",
       "    <tr>\n",
       "      <td>1</td>\n",
       "      <td>desktop</td>\n",
       "      <td>2018-02-19 17:21:00</td>\n",
       "      <td>2</td>\n",
       "      <td>2018-02-19 16:53:00</td>\n",
       "      <td>104060357244891740</td>\n",
       "    </tr>\n",
       "    <tr>\n",
       "      <td>2</td>\n",
       "      <td>touch</td>\n",
       "      <td>2017-07-01 01:54:00</td>\n",
       "      <td>5</td>\n",
       "      <td>2017-07-01 01:54:00</td>\n",
       "      <td>7459035603376831527</td>\n",
       "    </tr>\n",
       "    <tr>\n",
       "      <td>3</td>\n",
       "      <td>desktop</td>\n",
       "      <td>2018-05-20 11:23:00</td>\n",
       "      <td>9</td>\n",
       "      <td>2018-05-20 10:59:00</td>\n",
       "      <td>16174680259334210214</td>\n",
       "    </tr>\n",
       "    <tr>\n",
       "      <td>4</td>\n",
       "      <td>desktop</td>\n",
       "      <td>2017-12-27 14:06:00</td>\n",
       "      <td>3</td>\n",
       "      <td>2017-12-27 14:06:00</td>\n",
       "      <td>9969694820036681168</td>\n",
       "    </tr>\n",
       "  </tbody>\n",
       "</table>\n",
       "</div>"
      ],
      "text/plain": [
       "    Device               End Ts  Source Id             Start Ts  \\\n",
       "0    touch  2017-12-20 17:38:00          4  2017-12-20 17:20:00   \n",
       "1  desktop  2018-02-19 17:21:00          2  2018-02-19 16:53:00   \n",
       "2    touch  2017-07-01 01:54:00          5  2017-07-01 01:54:00   \n",
       "3  desktop  2018-05-20 11:23:00          9  2018-05-20 10:59:00   \n",
       "4  desktop  2017-12-27 14:06:00          3  2017-12-27 14:06:00   \n",
       "\n",
       "                    Uid  \n",
       "0  16879256277535980062  \n",
       "1    104060357244891740  \n",
       "2   7459035603376831527  \n",
       "3  16174680259334210214  \n",
       "4   9969694820036681168  "
      ]
     },
     "metadata": {},
     "output_type": "display_data"
    }
   ],
   "source": [
    "display(visits.info())\n",
    "display(visits.head())"
   ]
  },
  {
   "cell_type": "markdown",
   "metadata": {},
   "source": [
    "В данном датафрейме содержатся данные о логах сервера с посещениями сайта Яндекс.Афиши.\n",
    "\n",
    "Информация трех типов - int64, object и uint64.\n",
    "\n",
    "По столбцам можно понять, что у нас есть информация об АйДи пользователя, времени начала и конца сессии, а также устройстве."
   ]
  },
  {
   "cell_type": "markdown",
   "metadata": {},
   "source": [
    "### Заказы"
   ]
  },
  {
   "cell_type": "code",
   "execution_count": 4,
   "metadata": {},
   "outputs": [
    {
     "name": "stdout",
     "output_type": "stream",
     "text": [
      "<class 'pandas.core.frame.DataFrame'>\n",
      "RangeIndex: 50415 entries, 0 to 50414\n",
      "Data columns (total 3 columns):\n",
      "Buy Ts     50415 non-null object\n",
      "Revenue    50415 non-null float64\n",
      "Uid        50415 non-null uint64\n",
      "dtypes: float64(1), object(1), uint64(1)\n",
      "memory usage: 1.2+ MB\n"
     ]
    },
    {
     "data": {
      "text/plain": [
       "None"
      ]
     },
     "metadata": {},
     "output_type": "display_data"
    },
    {
     "data": {
      "text/html": [
       "<div>\n",
       "<style scoped>\n",
       "    .dataframe tbody tr th:only-of-type {\n",
       "        vertical-align: middle;\n",
       "    }\n",
       "\n",
       "    .dataframe tbody tr th {\n",
       "        vertical-align: top;\n",
       "    }\n",
       "\n",
       "    .dataframe thead th {\n",
       "        text-align: right;\n",
       "    }\n",
       "</style>\n",
       "<table border=\"1\" class=\"dataframe\">\n",
       "  <thead>\n",
       "    <tr style=\"text-align: right;\">\n",
       "      <th></th>\n",
       "      <th>Buy Ts</th>\n",
       "      <th>Revenue</th>\n",
       "      <th>Uid</th>\n",
       "    </tr>\n",
       "  </thead>\n",
       "  <tbody>\n",
       "    <tr>\n",
       "      <td>0</td>\n",
       "      <td>2017-06-01 00:10:00</td>\n",
       "      <td>17.00</td>\n",
       "      <td>10329302124590727494</td>\n",
       "    </tr>\n",
       "    <tr>\n",
       "      <td>1</td>\n",
       "      <td>2017-06-01 00:25:00</td>\n",
       "      <td>0.55</td>\n",
       "      <td>11627257723692907447</td>\n",
       "    </tr>\n",
       "    <tr>\n",
       "      <td>2</td>\n",
       "      <td>2017-06-01 00:27:00</td>\n",
       "      <td>0.37</td>\n",
       "      <td>17903680561304213844</td>\n",
       "    </tr>\n",
       "    <tr>\n",
       "      <td>3</td>\n",
       "      <td>2017-06-01 00:29:00</td>\n",
       "      <td>0.55</td>\n",
       "      <td>16109239769442553005</td>\n",
       "    </tr>\n",
       "    <tr>\n",
       "      <td>4</td>\n",
       "      <td>2017-06-01 07:58:00</td>\n",
       "      <td>0.37</td>\n",
       "      <td>14200605875248379450</td>\n",
       "    </tr>\n",
       "  </tbody>\n",
       "</table>\n",
       "</div>"
      ],
      "text/plain": [
       "                Buy Ts  Revenue                   Uid\n",
       "0  2017-06-01 00:10:00    17.00  10329302124590727494\n",
       "1  2017-06-01 00:25:00     0.55  11627257723692907447\n",
       "2  2017-06-01 00:27:00     0.37  17903680561304213844\n",
       "3  2017-06-01 00:29:00     0.55  16109239769442553005\n",
       "4  2017-06-01 07:58:00     0.37  14200605875248379450"
      ]
     },
     "metadata": {},
     "output_type": "display_data"
    }
   ],
   "source": [
    "display(orders.info())\n",
    "display(orders.head())"
   ]
  },
  {
   "cell_type": "markdown",
   "metadata": {},
   "source": [
    "В данном датафрейме содержится информация о всех заказов с июня 2017 по конец мая 2018.\n",
    "\n",
    "Типы данных - object, float64 и uint64.\n",
    "\n",
    "В таблице видны время заказа, АйДи и доход."
   ]
  },
  {
   "cell_type": "markdown",
   "metadata": {},
   "source": [
    "### Расходы"
   ]
  },
  {
   "cell_type": "code",
   "execution_count": 5,
   "metadata": {},
   "outputs": [
    {
     "name": "stdout",
     "output_type": "stream",
     "text": [
      "<class 'pandas.core.frame.DataFrame'>\n",
      "RangeIndex: 2542 entries, 0 to 2541\n",
      "Data columns (total 3 columns):\n",
      "source_id    2542 non-null int64\n",
      "dt           2542 non-null object\n",
      "costs        2542 non-null float64\n",
      "dtypes: float64(1), int64(1), object(1)\n",
      "memory usage: 59.7+ KB\n"
     ]
    },
    {
     "data": {
      "text/plain": [
       "None"
      ]
     },
     "metadata": {},
     "output_type": "display_data"
    },
    {
     "data": {
      "text/html": [
       "<div>\n",
       "<style scoped>\n",
       "    .dataframe tbody tr th:only-of-type {\n",
       "        vertical-align: middle;\n",
       "    }\n",
       "\n",
       "    .dataframe tbody tr th {\n",
       "        vertical-align: top;\n",
       "    }\n",
       "\n",
       "    .dataframe thead th {\n",
       "        text-align: right;\n",
       "    }\n",
       "</style>\n",
       "<table border=\"1\" class=\"dataframe\">\n",
       "  <thead>\n",
       "    <tr style=\"text-align: right;\">\n",
       "      <th></th>\n",
       "      <th>source_id</th>\n",
       "      <th>dt</th>\n",
       "      <th>costs</th>\n",
       "    </tr>\n",
       "  </thead>\n",
       "  <tbody>\n",
       "    <tr>\n",
       "      <td>0</td>\n",
       "      <td>1</td>\n",
       "      <td>2017-06-01</td>\n",
       "      <td>75.20</td>\n",
       "    </tr>\n",
       "    <tr>\n",
       "      <td>1</td>\n",
       "      <td>1</td>\n",
       "      <td>2017-06-02</td>\n",
       "      <td>62.25</td>\n",
       "    </tr>\n",
       "    <tr>\n",
       "      <td>2</td>\n",
       "      <td>1</td>\n",
       "      <td>2017-06-03</td>\n",
       "      <td>36.53</td>\n",
       "    </tr>\n",
       "    <tr>\n",
       "      <td>3</td>\n",
       "      <td>1</td>\n",
       "      <td>2017-06-04</td>\n",
       "      <td>55.00</td>\n",
       "    </tr>\n",
       "    <tr>\n",
       "      <td>4</td>\n",
       "      <td>1</td>\n",
       "      <td>2017-06-05</td>\n",
       "      <td>57.08</td>\n",
       "    </tr>\n",
       "  </tbody>\n",
       "</table>\n",
       "</div>"
      ],
      "text/plain": [
       "   source_id          dt  costs\n",
       "0          1  2017-06-01  75.20\n",
       "1          1  2017-06-02  62.25\n",
       "2          1  2017-06-03  36.53\n",
       "3          1  2017-06-04  55.00\n",
       "4          1  2017-06-05  57.08"
      ]
     },
     "metadata": {},
     "output_type": "display_data"
    }
   ],
   "source": [
    "display(costs.info())\n",
    "display(costs.head())"
   ]
  },
  {
   "cell_type": "markdown",
   "metadata": {},
   "source": [
    "В данном датафрейме содержится информация о всех расходах за период.\n",
    "\n",
    "Типы данных - object, float64 и int64.\n",
    "\n",
    "В таблице видны время трат, сумма затрат и источник."
   ]
  },
  {
   "cell_type": "markdown",
   "metadata": {},
   "source": [
    "## Обработка данных"
   ]
  },
  {
   "cell_type": "markdown",
   "metadata": {},
   "source": [
    "Для удобства работы переименую столбцы так:"
   ]
  },
  {
   "cell_type": "code",
   "execution_count": 6,
   "metadata": {},
   "outputs": [],
   "source": [
    "visits.set_axis(['device', 'end_time', 'source_id', 'start_time', 'user_id'], axis = 'columns', inplace = True)\n",
    "orders.set_axis(['buy_time', 'sale', 'user_id'], axis = 'columns', inplace = True)\n",
    "costs.set_axis(['source_id', 'date', 'costs'], axis = 'columns', inplace = True)"
   ]
  },
  {
   "cell_type": "markdown",
   "metadata": {},
   "source": [
    "#### Далее перевожу тип данных в дату, где это необходимо."
   ]
  },
  {
   "cell_type": "code",
   "execution_count": 7,
   "metadata": {},
   "outputs": [],
   "source": [
    "visits['start_time'] = pd.to_datetime(visits['start_time'])\n",
    "visits['end_time'] = pd.to_datetime(visits['end_time'])\n",
    "orders['buy_time'] = pd.to_datetime(orders['buy_time'])\n",
    "costs['date'] = pd.to_datetime(costs['date'])"
   ]
  },
  {
   "cell_type": "markdown",
   "metadata": {},
   "source": [
    "#### Добавляю id сессия для аналитики по продукту."
   ]
  },
  {
   "cell_type": "code",
   "execution_count": 8,
   "metadata": {},
   "outputs": [],
   "source": [
    "id_counter = 1\n",
    "    \n",
    "def do_id(data):\n",
    "    global id_counter\n",
    "    id_to_return = id_counter\n",
    "    id_counter = id_counter + 1\n",
    "    return id_to_return\n",
    "\n",
    "visits['session_id'] = visits.apply(do_id, axis=1)"
   ]
  },
  {
   "cell_type": "markdown",
   "metadata": {},
   "source": [
    "#### Проверяем, что всё в порядке."
   ]
  },
  {
   "cell_type": "code",
   "execution_count": 9,
   "metadata": {},
   "outputs": [
    {
     "name": "stdout",
     "output_type": "stream",
     "text": [
      "<class 'pandas.core.frame.DataFrame'>\n",
      "RangeIndex: 359400 entries, 0 to 359399\n",
      "Data columns (total 6 columns):\n",
      "device        359400 non-null object\n",
      "end_time      359400 non-null datetime64[ns]\n",
      "source_id     359400 non-null int64\n",
      "start_time    359400 non-null datetime64[ns]\n",
      "user_id       359400 non-null uint64\n",
      "session_id    359400 non-null int64\n",
      "dtypes: datetime64[ns](2), int64(2), object(1), uint64(1)\n",
      "memory usage: 16.5+ MB\n"
     ]
    },
    {
     "data": {
      "text/plain": [
       "None"
      ]
     },
     "metadata": {},
     "output_type": "display_data"
    },
    {
     "data": {
      "text/html": [
       "<div>\n",
       "<style scoped>\n",
       "    .dataframe tbody tr th:only-of-type {\n",
       "        vertical-align: middle;\n",
       "    }\n",
       "\n",
       "    .dataframe tbody tr th {\n",
       "        vertical-align: top;\n",
       "    }\n",
       "\n",
       "    .dataframe thead th {\n",
       "        text-align: right;\n",
       "    }\n",
       "</style>\n",
       "<table border=\"1\" class=\"dataframe\">\n",
       "  <thead>\n",
       "    <tr style=\"text-align: right;\">\n",
       "      <th></th>\n",
       "      <th>device</th>\n",
       "      <th>end_time</th>\n",
       "      <th>source_id</th>\n",
       "      <th>start_time</th>\n",
       "      <th>user_id</th>\n",
       "      <th>session_id</th>\n",
       "    </tr>\n",
       "  </thead>\n",
       "  <tbody>\n",
       "    <tr>\n",
       "      <td>0</td>\n",
       "      <td>touch</td>\n",
       "      <td>2017-12-20 17:38:00</td>\n",
       "      <td>4</td>\n",
       "      <td>2017-12-20 17:20:00</td>\n",
       "      <td>16879256277535980062</td>\n",
       "      <td>1</td>\n",
       "    </tr>\n",
       "    <tr>\n",
       "      <td>1</td>\n",
       "      <td>desktop</td>\n",
       "      <td>2018-02-19 17:21:00</td>\n",
       "      <td>2</td>\n",
       "      <td>2018-02-19 16:53:00</td>\n",
       "      <td>104060357244891740</td>\n",
       "      <td>2</td>\n",
       "    </tr>\n",
       "    <tr>\n",
       "      <td>2</td>\n",
       "      <td>touch</td>\n",
       "      <td>2017-07-01 01:54:00</td>\n",
       "      <td>5</td>\n",
       "      <td>2017-07-01 01:54:00</td>\n",
       "      <td>7459035603376831527</td>\n",
       "      <td>3</td>\n",
       "    </tr>\n",
       "    <tr>\n",
       "      <td>3</td>\n",
       "      <td>desktop</td>\n",
       "      <td>2018-05-20 11:23:00</td>\n",
       "      <td>9</td>\n",
       "      <td>2018-05-20 10:59:00</td>\n",
       "      <td>16174680259334210214</td>\n",
       "      <td>4</td>\n",
       "    </tr>\n",
       "    <tr>\n",
       "      <td>4</td>\n",
       "      <td>desktop</td>\n",
       "      <td>2017-12-27 14:06:00</td>\n",
       "      <td>3</td>\n",
       "      <td>2017-12-27 14:06:00</td>\n",
       "      <td>9969694820036681168</td>\n",
       "      <td>5</td>\n",
       "    </tr>\n",
       "  </tbody>\n",
       "</table>\n",
       "</div>"
      ],
      "text/plain": [
       "    device            end_time  source_id          start_time  \\\n",
       "0    touch 2017-12-20 17:38:00          4 2017-12-20 17:20:00   \n",
       "1  desktop 2018-02-19 17:21:00          2 2018-02-19 16:53:00   \n",
       "2    touch 2017-07-01 01:54:00          5 2017-07-01 01:54:00   \n",
       "3  desktop 2018-05-20 11:23:00          9 2018-05-20 10:59:00   \n",
       "4  desktop 2017-12-27 14:06:00          3 2017-12-27 14:06:00   \n",
       "\n",
       "                user_id  session_id  \n",
       "0  16879256277535980062           1  \n",
       "1    104060357244891740           2  \n",
       "2   7459035603376831527           3  \n",
       "3  16174680259334210214           4  \n",
       "4   9969694820036681168           5  "
      ]
     },
     "metadata": {},
     "output_type": "display_data"
    }
   ],
   "source": [
    "display(visits.info())\n",
    "display(visits.head())"
   ]
  },
  {
   "cell_type": "markdown",
   "metadata": {},
   "source": [
    "#### Объединим датафреймы visits и orders"
   ]
  },
  {
   "cell_type": "code",
   "execution_count": 10,
   "metadata": {},
   "outputs": [
    {
     "name": "stdout",
     "output_type": "stream",
     "text": [
      "<class 'pandas.core.frame.DataFrame'>\n",
      "Int64Index: 359400 entries, 0 to 359399\n",
      "Data columns (total 9 columns):\n",
      "device        359400 non-null object\n",
      "end_time      359400 non-null datetime64[ns]\n",
      "source_id     359400 non-null int64\n",
      "start_time    359400 non-null datetime64[ns]\n",
      "user_id       359400 non-null uint64\n",
      "session_id    359400 non-null int64\n",
      "day           359400 non-null object\n",
      "buy_time      35742 non-null datetime64[ns]\n",
      "sale          35742 non-null float64\n",
      "dtypes: datetime64[ns](3), float64(1), int64(2), object(2), uint64(1)\n",
      "memory usage: 27.4+ MB\n"
     ]
    },
    {
     "data": {
      "text/plain": [
       "None"
      ]
     },
     "metadata": {},
     "output_type": "display_data"
    },
    {
     "data": {
      "text/html": [
       "<div>\n",
       "<style scoped>\n",
       "    .dataframe tbody tr th:only-of-type {\n",
       "        vertical-align: middle;\n",
       "    }\n",
       "\n",
       "    .dataframe tbody tr th {\n",
       "        vertical-align: top;\n",
       "    }\n",
       "\n",
       "    .dataframe thead th {\n",
       "        text-align: right;\n",
       "    }\n",
       "</style>\n",
       "<table border=\"1\" class=\"dataframe\">\n",
       "  <thead>\n",
       "    <tr style=\"text-align: right;\">\n",
       "      <th></th>\n",
       "      <th>device</th>\n",
       "      <th>end_time</th>\n",
       "      <th>source_id</th>\n",
       "      <th>start_time</th>\n",
       "      <th>user_id</th>\n",
       "      <th>session_id</th>\n",
       "      <th>day</th>\n",
       "      <th>buy_time</th>\n",
       "      <th>sale</th>\n",
       "    </tr>\n",
       "  </thead>\n",
       "  <tbody>\n",
       "    <tr>\n",
       "      <td>0</td>\n",
       "      <td>touch</td>\n",
       "      <td>2017-12-20 17:38:00</td>\n",
       "      <td>4</td>\n",
       "      <td>2017-12-20 17:20:00</td>\n",
       "      <td>16879256277535980062</td>\n",
       "      <td>1</td>\n",
       "      <td>2017-12-20</td>\n",
       "      <td>NaT</td>\n",
       "      <td>NaN</td>\n",
       "    </tr>\n",
       "    <tr>\n",
       "      <td>1</td>\n",
       "      <td>desktop</td>\n",
       "      <td>2018-02-19 17:21:00</td>\n",
       "      <td>2</td>\n",
       "      <td>2018-02-19 16:53:00</td>\n",
       "      <td>104060357244891740</td>\n",
       "      <td>2</td>\n",
       "      <td>2018-02-19</td>\n",
       "      <td>NaT</td>\n",
       "      <td>NaN</td>\n",
       "    </tr>\n",
       "    <tr>\n",
       "      <td>2</td>\n",
       "      <td>touch</td>\n",
       "      <td>2017-07-01 01:54:00</td>\n",
       "      <td>5</td>\n",
       "      <td>2017-07-01 01:54:00</td>\n",
       "      <td>7459035603376831527</td>\n",
       "      <td>3</td>\n",
       "      <td>2017-07-01</td>\n",
       "      <td>NaT</td>\n",
       "      <td>NaN</td>\n",
       "    </tr>\n",
       "    <tr>\n",
       "      <td>3</td>\n",
       "      <td>desktop</td>\n",
       "      <td>2018-05-20 11:23:00</td>\n",
       "      <td>9</td>\n",
       "      <td>2018-05-20 10:59:00</td>\n",
       "      <td>16174680259334210214</td>\n",
       "      <td>4</td>\n",
       "      <td>2018-05-20</td>\n",
       "      <td>NaT</td>\n",
       "      <td>NaN</td>\n",
       "    </tr>\n",
       "    <tr>\n",
       "      <td>4</td>\n",
       "      <td>desktop</td>\n",
       "      <td>2017-12-27 14:06:00</td>\n",
       "      <td>3</td>\n",
       "      <td>2017-12-27 14:06:00</td>\n",
       "      <td>9969694820036681168</td>\n",
       "      <td>5</td>\n",
       "      <td>2017-12-27</td>\n",
       "      <td>NaT</td>\n",
       "      <td>NaN</td>\n",
       "    </tr>\n",
       "  </tbody>\n",
       "</table>\n",
       "</div>"
      ],
      "text/plain": [
       "    device            end_time  source_id          start_time  \\\n",
       "0    touch 2017-12-20 17:38:00          4 2017-12-20 17:20:00   \n",
       "1  desktop 2018-02-19 17:21:00          2 2018-02-19 16:53:00   \n",
       "2    touch 2017-07-01 01:54:00          5 2017-07-01 01:54:00   \n",
       "3  desktop 2018-05-20 11:23:00          9 2018-05-20 10:59:00   \n",
       "4  desktop 2017-12-27 14:06:00          3 2017-12-27 14:06:00   \n",
       "\n",
       "                user_id  session_id         day buy_time  sale  \n",
       "0  16879256277535980062           1  2017-12-20      NaT   NaN  \n",
       "1    104060357244891740           2  2018-02-19      NaT   NaN  \n",
       "2   7459035603376831527           3  2017-07-01      NaT   NaN  \n",
       "3  16174680259334210214           4  2018-05-20      NaT   NaN  \n",
       "4   9969694820036681168           5  2017-12-27      NaT   NaN  "
      ]
     },
     "metadata": {},
     "output_type": "display_data"
    }
   ],
   "source": [
    "visits['day'] = visits['start_time'].dt.date\n",
    "orders['day'] = orders['buy_time'].dt.date\n",
    "\n",
    "visits_merge = visits.merge(orders, on = ['user_id', 'day'], how = 'left')\n",
    "visits_merge = visits_merge.query('end_time >= buy_time >= start_time')\n",
    "visits = visits.merge(visits_merge, on = ['user_id', \n",
    "                                          'device', \n",
    "                                          'end_time', \n",
    "                                          'source_id', \n",
    "                                          'start_time', \n",
    "                                          'session_id', \n",
    "                                          'day'], \n",
    "                      how = 'left')\n",
    "display(visits.info())\n",
    "display(visits.head())"
   ]
  },
  {
   "cell_type": "markdown",
   "metadata": {},
   "source": [
    "#### Проверка на дубликаты."
   ]
  },
  {
   "cell_type": "code",
   "execution_count": 11,
   "metadata": {
    "scrolled": false
   },
   "outputs": [
    {
     "name": "stdout",
     "output_type": "stream",
     "text": [
      "В датафрейме visits 0 дубликатов\n",
      "В датафрейме orders 0 дубликатов\n",
      "В датафрейме costs 0 дубликатов\n"
     ]
    }
   ],
   "source": [
    "print('В датафрейме visits', visits.duplicated().sum(), 'дубликатов')\n",
    "print('В датафрейме orders',orders.duplicated().sum(), 'дубликатов')\n",
    "print('В датафрейме costs',costs.duplicated().sum(), 'дубликатов')"
   ]
  },
  {
   "cell_type": "markdown",
   "metadata": {},
   "source": [
    "## Вывод по загрузке и обработке данных\n",
    "\n",
    "Выводы и комментарии написаны под каждым отдельным кодом.\n",
    "\n",
    "Также на первом этапе произвёл слияние датафреймов visits и orders для убобства работы и построения аналитики. С датафреймом costs - нет ключа, по которому их можно было бы корректно соединить.\n",
    "\n",
    "Дополнительно были прописаны корректные форматы даты и времени.\n",
    "    \n",
    "Ещё я создал дополнительные столбцы, которые помогут в дальнейшей аналитике. Хочется отметить, что при проработке всего проекта, я потом добавлял ещё столбцы.\n",
    "    "
   ]
  },
  {
   "cell_type": "markdown",
   "metadata": {},
   "source": [
    "---\n",
    "<div class=\"alert alert-block alert-warning\">\n",
    "    \n",
    "### Комментарий от ревьюера V3\n",
    "\n",
    "В pandas каждый датафрэйм имеет в строенный index, который ты добавляешь. \n",
    "    \n",
    "Или ты имел в виду что то другое, не нашел комментариев по этому поводу :)\n",
    "    \n",
    "</div>\n",
    "    \n",
    "---"
   ]
  },
  {
   "cell_type": "markdown",
   "metadata": {},
   "source": [
    "<div class=\"alert alert-block alert-info\">\n",
    "    \n",
    "Я чего-то не нашёл в датафрейме именно АйДи сессии. Она мне нужна, чтобы датафреймы visits и orders после соединения проверить. Так в принципе, можно и удалить =)\n",
    "    \n",
    "После твоих комментариев, решил, что нам в принципе не нужно объединять visits и orders.\n",
    "    \n",
    "Я дальше сильно пересмотрел структуру, не обижайся =)\n",
    "    \n",
    "</div>"
   ]
  },
  {
   "cell_type": "markdown",
   "metadata": {},
   "source": [
    "<div class=\"alert alert-block alert-info\">\n",
    "\n",
    "- Спасибо, забыл про дубликаты. Проверил, ни в одном из датафреймов их, к счастью не оказалось.\n",
    "    \n",
    "- Выводы я частично писал под каждым из блоков. Я также на первом этапе произвёл слияние датафреймов visits и orders для убобства работы и построения аналитики. С датафреймом costs - нет ключа, по которому их можно было бы корректно соединить.\n",
    "    \n",
    "- Также я прописал корректные форматы даты и времени.\n",
    "    \n",
    "- Создал столбцы, которые помогут в дальнейшей аналитике.\n",
    "    \n",
    "</div>\n",
    "    \n",
    "---"
   ]
  },
  {
   "cell_type": "markdown",
   "metadata": {},
   "source": [
    "## Анализ продукта"
   ]
  },
  {
   "cell_type": "markdown",
   "metadata": {},
   "source": [
    "Посчитаем DAU, WAU, MAU по посещениям"
   ]
  },
  {
   "cell_type": "markdown",
   "metadata": {},
   "source": [
    "Добавим необходимые данные дней, недель, месяцев и годов для анализа пользовательских метрик."
   ]
  },
  {
   "cell_type": "code",
   "execution_count": 12,
   "metadata": {},
   "outputs": [],
   "source": [
    "visits['session_year']  = visits['start_time'].dt.year\n",
    "visits['session_month'] = visits['start_time'].dt.month\n",
    "visits['session_week']  = visits['start_time'].dt.week\n",
    "visits['session_date'] = visits['start_time'].dt.date"
   ]
  },
  {
   "cell_type": "code",
   "execution_count": 13,
   "metadata": {},
   "outputs": [
    {
     "name": "stdout",
     "output_type": "stream",
     "text": [
      "Среднее количество пользователей в день: user_id    908\n",
      "dtype: int64\n",
      "Среднее количество пользователей в неделю: user_id    5716\n",
      "dtype: int64\n",
      "Среднее количество пользователей в месяц: user_id    23228\n",
      "dtype: int64\n"
     ]
    }
   ],
   "source": [
    "dau_use = visits.groupby('session_date').agg({'user_id': 'nunique'}).mean().round().astype('int')\n",
    "wau_use = visits.groupby(['session_year', 'session_week']).agg({'user_id': 'nunique'}).mean().round().astype('int')\n",
    "mau_use = visits.groupby(['session_year', 'session_month']).agg({'user_id': 'nunique'}).mean().round().astype('int')\n",
    "\n",
    "print('Среднее количество пользователей в день:', dau_use)\n",
    "print('Среднее количество пользователей в неделю:', wau_use)\n",
    "print('Среднее количество пользователей в месяц:', mau_use)"
   ]
  },
  {
   "cell_type": "code",
   "execution_count": 14,
   "metadata": {
    "scrolled": true
   },
   "outputs": [
    {
     "name": "stdout",
     "output_type": "stream",
     "text": [
      "Медианное число сессий в день: session_id    1003.0\n",
      "dtype: float64\n"
     ]
    },
    {
     "data": {
      "image/png": "[encoded data removed]",
      "text/plain": [
       "<Figure size 432x288 with 1 Axes>"
      ]
     },
     "metadata": {
      "needs_background": "light"
     },
     "output_type": "display_data"
    }
   ],
   "source": [
    "dau_session = visits.groupby('session_date').agg({'session_id': 'count'})\n",
    "dau_session['session_id'].hist(bins = 100)\n",
    "plt.title('Медианное число сессий в день')\n",
    "plt.xlabel('session_id')\n",
    "plt.ylabel('dau')\n",
    "print('Медианное число сессий в день:', dau_session.median())"
   ]
  },
  {
   "cell_type": "code",
   "execution_count": 15,
   "metadata": {},
   "outputs": [
    {
     "data": {
      "text/plain": [
       "user_id    15.885234\n",
       "dtype: float64"
      ]
     },
     "metadata": {},
     "output_type": "display_data"
    },
    {
     "data": {
      "text/plain": [
       "user_id    3.909075\n",
       "dtype: float64"
      ]
     },
     "metadata": {},
     "output_type": "display_data"
    }
   ],
   "source": [
    "sticky_week = dau_use/wau_use * 100\n",
    "sticky_month = dau_use/mau_use * 100\n",
    "display(sticky_week)\n",
    "display(sticky_month)"
   ]
  },
  {
   "cell_type": "markdown",
   "metadata": {},
   "source": [
    "### Вывод: \n",
    "\n",
    "Усредненно пользователи проводят достаточно долгое время на сайте. Тут можно думать в двух ключах - им интересен материал и контент, либо что-то не так с сайтом и им непонятна навигация. \n",
    "\n",
    "Сайт обладает хорошими показателями по DAU/WAU/MAU.\n",
    "\n",
    "Стоит отметить также высокую частоту недельного использования, хотя, если смотреть на месяц, то она падает."
   ]
  },
  {
   "cell_type": "markdown",
   "metadata": {},
   "source": [
    "#### Длительность сессии."
   ]
  },
  {
   "cell_type": "code",
   "execution_count": 16,
   "metadata": {},
   "outputs": [
    {
     "name": "stdout",
     "output_type": "stream",
     "text": [
      "Медианное время сессии(в секундах): 300.0\n"
     ]
    },
    {
     "data": {
      "image/png": "[encoded data removed]",
      "text/plain": [
       "<Figure size 432x288 with 1 Axes>"
      ]
     },
     "metadata": {
      "needs_background": "light"
     },
     "output_type": "display_data"
    }
   ],
   "source": [
    "visits['duration'] = ((visits['end_time'] - visits['start_time'])/ np.timedelta64(1,'s')).astype(int)\n",
    "visits['duration'].hist(bins = 100)\n",
    "plt.title('Длительность сессии')\n",
    "plt.xlabel('duration')\n",
    "plt.ylabel('duration')\n",
    "\n",
    "print('Медианное время сессии(в секундах):', visits['duration'].median())"
   ]
  },
  {
   "cell_type": "markdown",
   "metadata": {},
   "source": [
    "##### Процент вернувшихся пользователей."
   ]
  },
  {
   "cell_type": "code",
   "execution_count": 17,
   "metadata": {},
   "outputs": [
    {
     "name": "stdout",
     "output_type": "stream",
     "text": [
      "Процент вернувшихся пользователей: 90.86\n"
     ]
    }
   ],
   "source": [
    "visits_first_activity_date = visits.groupby('user_id')['start_time'].min()\n",
    "visits_first_activity_date.name = 'first_activity_time'\n",
    "visits = visits.join(visits_first_activity_date,on='user_id')\n",
    "visits['lifetime'] = visits['end_time'].dt.date - visits['first_activity_time'].dt.date\n",
    "\n",
    "visits_uniq_user_id = visits.groupby('user_id').agg({'duration': 'max', 'lifetime': 'max'})\n",
    "visits_uniq_user_id['lifetime'] = (visits_uniq_user_id['lifetime']/ np.timedelta64(1,'s')).astype(int)\n",
    "\n",
    "visits_uniq_user_id['reverse'] = visits_uniq_user_id['lifetime'] == visits_uniq_user_id['duration']\n",
    "print('Процент вернувшихся пользователей:', \n",
    "      (visits_uniq_user_id[visits_uniq_user_id['reverse'] == False]['reverse'].count() / visits_uniq_user_id['reverse'].count() * 100).round(2))"
   ]
  },
  {
   "cell_type": "markdown",
   "metadata": {},
   "source": [
    "#### Вывод: \n",
    "\n",
    "Средняя сессия длилась порядка 300 секунд, что говорит о том, что пользователям интересно сидеть на сайте и они проводят там это время с пользой. \n",
    "\n",
    "Это подтверждается также высоким показателем процента вернувшихся пользователей. По сути, все кто зашли, обязательно вернутся."
   ]
  },
  {
   "cell_type": "markdown",
   "metadata": {},
   "source": [
    "### Retention Rate"
   ]
  },
  {
   "cell_type": "code",
   "execution_count": 18,
   "metadata": {},
   "outputs": [],
   "source": [
    "first_activity_date = visits.groupby(['user_id'])['start_time'].min()\n",
    "first_activity_date.name = 'first_activity_date'\n",
    "visits = visits.join(first_activity_date,on='user_id')\n",
    "visits['first_activity_month'] = visits['first_activity_date'].astype('datetime64[M]')\n",
    "visits['activity_month'] = visits['start_time'].astype('datetime64[M]')\n",
    "visits['cohort_lifetime'] = (visits['activity_month'] - visits['first_activity_month'])/ np.timedelta64(1,'M')"
   ]
  },
  {
   "cell_type": "code",
   "execution_count": 19,
   "metadata": {},
   "outputs": [
    {
     "data": {
      "text/html": [
       "<div>\n",
       "<style scoped>\n",
       "    .dataframe tbody tr th:only-of-type {\n",
       "        vertical-align: middle;\n",
       "    }\n",
       "\n",
       "    .dataframe tbody tr th {\n",
       "        vertical-align: top;\n",
       "    }\n",
       "\n",
       "    .dataframe thead th {\n",
       "        text-align: right;\n",
       "    }\n",
       "</style>\n",
       "<table border=\"1\" class=\"dataframe\">\n",
       "  <thead>\n",
       "    <tr style=\"text-align: right;\">\n",
       "      <th></th>\n",
       "      <th>device</th>\n",
       "      <th>end_time</th>\n",
       "      <th>source_id</th>\n",
       "      <th>start_time</th>\n",
       "      <th>user_id</th>\n",
       "      <th>session_id</th>\n",
       "      <th>day</th>\n",
       "      <th>buy_time</th>\n",
       "      <th>sale</th>\n",
       "      <th>session_year</th>\n",
       "      <th>session_month</th>\n",
       "      <th>session_week</th>\n",
       "      <th>session_date</th>\n",
       "      <th>duration</th>\n",
       "      <th>first_activity_time</th>\n",
       "      <th>lifetime</th>\n",
       "      <th>first_activity_date</th>\n",
       "      <th>first_activity_month</th>\n",
       "      <th>activity_month</th>\n",
       "      <th>cohort_lifetime</th>\n",
       "    </tr>\n",
       "  </thead>\n",
       "  <tbody>\n",
       "    <tr>\n",
       "      <td>0</td>\n",
       "      <td>touch</td>\n",
       "      <td>2017-12-20 17:38:00</td>\n",
       "      <td>4</td>\n",
       "      <td>2017-12-20 17:20:00</td>\n",
       "      <td>16879256277535980062</td>\n",
       "      <td>1</td>\n",
       "      <td>2017-12-20</td>\n",
       "      <td>NaT</td>\n",
       "      <td>NaN</td>\n",
       "      <td>2017</td>\n",
       "      <td>12</td>\n",
       "      <td>51</td>\n",
       "      <td>2017-12-20</td>\n",
       "      <td>1080</td>\n",
       "      <td>2017-12-20 17:20:00</td>\n",
       "      <td>0 days</td>\n",
       "      <td>2017-12-20 17:20:00</td>\n",
       "      <td>2017-12-01</td>\n",
       "      <td>2017-12-01</td>\n",
       "      <td>0</td>\n",
       "    </tr>\n",
       "    <tr>\n",
       "      <td>1</td>\n",
       "      <td>desktop</td>\n",
       "      <td>2018-02-19 17:21:00</td>\n",
       "      <td>2</td>\n",
       "      <td>2018-02-19 16:53:00</td>\n",
       "      <td>104060357244891740</td>\n",
       "      <td>2</td>\n",
       "      <td>2018-02-19</td>\n",
       "      <td>NaT</td>\n",
       "      <td>NaN</td>\n",
       "      <td>2018</td>\n",
       "      <td>2</td>\n",
       "      <td>8</td>\n",
       "      <td>2018-02-19</td>\n",
       "      <td>1680</td>\n",
       "      <td>2018-02-19 16:53:00</td>\n",
       "      <td>0 days</td>\n",
       "      <td>2018-02-19 16:53:00</td>\n",
       "      <td>2018-02-01</td>\n",
       "      <td>2018-02-01</td>\n",
       "      <td>0</td>\n",
       "    </tr>\n",
       "    <tr>\n",
       "      <td>2</td>\n",
       "      <td>touch</td>\n",
       "      <td>2017-07-01 01:54:00</td>\n",
       "      <td>5</td>\n",
       "      <td>2017-07-01 01:54:00</td>\n",
       "      <td>7459035603376831527</td>\n",
       "      <td>3</td>\n",
       "      <td>2017-07-01</td>\n",
       "      <td>NaT</td>\n",
       "      <td>NaN</td>\n",
       "      <td>2017</td>\n",
       "      <td>7</td>\n",
       "      <td>26</td>\n",
       "      <td>2017-07-01</td>\n",
       "      <td>0</td>\n",
       "      <td>2017-07-01 01:54:00</td>\n",
       "      <td>0 days</td>\n",
       "      <td>2017-07-01 01:54:00</td>\n",
       "      <td>2017-07-01</td>\n",
       "      <td>2017-07-01</td>\n",
       "      <td>0</td>\n",
       "    </tr>\n",
       "    <tr>\n",
       "      <td>3</td>\n",
       "      <td>desktop</td>\n",
       "      <td>2018-05-20 11:23:00</td>\n",
       "      <td>9</td>\n",
       "      <td>2018-05-20 10:59:00</td>\n",
       "      <td>16174680259334210214</td>\n",
       "      <td>4</td>\n",
       "      <td>2018-05-20</td>\n",
       "      <td>NaT</td>\n",
       "      <td>NaN</td>\n",
       "      <td>2018</td>\n",
       "      <td>5</td>\n",
       "      <td>20</td>\n",
       "      <td>2018-05-20</td>\n",
       "      <td>1440</td>\n",
       "      <td>2018-03-09 20:05:00</td>\n",
       "      <td>72 days</td>\n",
       "      <td>2018-03-09 20:05:00</td>\n",
       "      <td>2018-03-01</td>\n",
       "      <td>2018-05-01</td>\n",
       "      <td>2</td>\n",
       "    </tr>\n",
       "    <tr>\n",
       "      <td>4</td>\n",
       "      <td>desktop</td>\n",
       "      <td>2017-12-27 14:06:00</td>\n",
       "      <td>3</td>\n",
       "      <td>2017-12-27 14:06:00</td>\n",
       "      <td>9969694820036681168</td>\n",
       "      <td>5</td>\n",
       "      <td>2017-12-27</td>\n",
       "      <td>NaT</td>\n",
       "      <td>NaN</td>\n",
       "      <td>2017</td>\n",
       "      <td>12</td>\n",
       "      <td>52</td>\n",
       "      <td>2017-12-27</td>\n",
       "      <td>0</td>\n",
       "      <td>2017-12-27 14:06:00</td>\n",
       "      <td>0 days</td>\n",
       "      <td>2017-12-27 14:06:00</td>\n",
       "      <td>2017-12-01</td>\n",
       "      <td>2017-12-01</td>\n",
       "      <td>0</td>\n",
       "    </tr>\n",
       "  </tbody>\n",
       "</table>\n",
       "</div>"
      ],
      "text/plain": [
       "    device            end_time  source_id          start_time  \\\n",
       "0    touch 2017-12-20 17:38:00          4 2017-12-20 17:20:00   \n",
       "1  desktop 2018-02-19 17:21:00          2 2018-02-19 16:53:00   \n",
       "2    touch 2017-07-01 01:54:00          5 2017-07-01 01:54:00   \n",
       "3  desktop 2018-05-20 11:23:00          9 2018-05-20 10:59:00   \n",
       "4  desktop 2017-12-27 14:06:00          3 2017-12-27 14:06:00   \n",
       "\n",
       "                user_id  session_id         day buy_time  sale  session_year  \\\n",
       "0  16879256277535980062           1  2017-12-20      NaT   NaN          2017   \n",
       "1    104060357244891740           2  2018-02-19      NaT   NaN          2018   \n",
       "2   7459035603376831527           3  2017-07-01      NaT   NaN          2017   \n",
       "3  16174680259334210214           4  2018-05-20      NaT   NaN          2018   \n",
       "4   9969694820036681168           5  2017-12-27      NaT   NaN          2017   \n",
       "\n",
       "   session_month  session_week session_date  duration first_activity_time  \\\n",
       "0             12            51   2017-12-20      1080 2017-12-20 17:20:00   \n",
       "1              2             8   2018-02-19      1680 2018-02-19 16:53:00   \n",
       "2              7            26   2017-07-01         0 2017-07-01 01:54:00   \n",
       "3              5            20   2018-05-20      1440 2018-03-09 20:05:00   \n",
       "4             12            52   2017-12-27         0 2017-12-27 14:06:00   \n",
       "\n",
       "  lifetime first_activity_date first_activity_month activity_month  \\\n",
       "0   0 days 2017-12-20 17:20:00           2017-12-01     2017-12-01   \n",
       "1   0 days 2018-02-19 16:53:00           2018-02-01     2018-02-01   \n",
       "2   0 days 2017-07-01 01:54:00           2017-07-01     2017-07-01   \n",
       "3  72 days 2018-03-09 20:05:00           2018-03-01     2018-05-01   \n",
       "4   0 days 2017-12-27 14:06:00           2017-12-01     2017-12-01   \n",
       "\n",
       "   cohort_lifetime  \n",
       "0                0  \n",
       "1                0  \n",
       "2                0  \n",
       "3                2  \n",
       "4                0  "
      ]
     },
     "metadata": {},
     "output_type": "display_data"
    }
   ],
   "source": [
    "visits['cohort_lifetime'] = round(visits['cohort_lifetime'].astype('float'))\n",
    "visits['cohort_lifetime'] = visits['cohort_lifetime'].astype('int')\n",
    "display(visits.head())"
   ]
  },
  {
   "cell_type": "code",
   "execution_count": 20,
   "metadata": {},
   "outputs": [],
   "source": [
    "cohorts = visits.groupby(['first_activity_month','cohort_lifetime']).agg({'user_id':'nunique'}).reset_index()"
   ]
  },
  {
   "cell_type": "markdown",
   "metadata": {},
   "source": [
    "##### Исходное число пользователей."
   ]
  },
  {
   "cell_type": "code",
   "execution_count": 21,
   "metadata": {
    "scrolled": true
   },
   "outputs": [
    {
     "data": {
      "text/html": [
       "<div>\n",
       "<style scoped>\n",
       "    .dataframe tbody tr th:only-of-type {\n",
       "        vertical-align: middle;\n",
       "    }\n",
       "\n",
       "    .dataframe tbody tr th {\n",
       "        vertical-align: top;\n",
       "    }\n",
       "\n",
       "    .dataframe thead th {\n",
       "        text-align: right;\n",
       "    }\n",
       "</style>\n",
       "<table border=\"1\" class=\"dataframe\">\n",
       "  <thead>\n",
       "    <tr style=\"text-align: right;\">\n",
       "      <th></th>\n",
       "      <th>first_activity_month</th>\n",
       "      <th>user_id</th>\n",
       "    </tr>\n",
       "  </thead>\n",
       "  <tbody>\n",
       "    <tr>\n",
       "      <td>0</td>\n",
       "      <td>2017-06-01</td>\n",
       "      <td>13259</td>\n",
       "    </tr>\n",
       "    <tr>\n",
       "      <td>12</td>\n",
       "      <td>2017-07-01</td>\n",
       "      <td>13140</td>\n",
       "    </tr>\n",
       "    <tr>\n",
       "      <td>23</td>\n",
       "      <td>2017-08-01</td>\n",
       "      <td>10181</td>\n",
       "    </tr>\n",
       "    <tr>\n",
       "      <td>33</td>\n",
       "      <td>2017-09-01</td>\n",
       "      <td>16704</td>\n",
       "    </tr>\n",
       "    <tr>\n",
       "      <td>42</td>\n",
       "      <td>2017-10-01</td>\n",
       "      <td>25977</td>\n",
       "    </tr>\n",
       "    <tr>\n",
       "      <td>50</td>\n",
       "      <td>2017-11-01</td>\n",
       "      <td>27248</td>\n",
       "    </tr>\n",
       "    <tr>\n",
       "      <td>57</td>\n",
       "      <td>2017-12-01</td>\n",
       "      <td>25268</td>\n",
       "    </tr>\n",
       "    <tr>\n",
       "      <td>63</td>\n",
       "      <td>2018-01-01</td>\n",
       "      <td>22624</td>\n",
       "    </tr>\n",
       "    <tr>\n",
       "      <td>68</td>\n",
       "      <td>2018-02-01</td>\n",
       "      <td>22197</td>\n",
       "    </tr>\n",
       "    <tr>\n",
       "      <td>72</td>\n",
       "      <td>2018-03-01</td>\n",
       "      <td>20589</td>\n",
       "    </tr>\n",
       "    <tr>\n",
       "      <td>75</td>\n",
       "      <td>2018-04-01</td>\n",
       "      <td>15709</td>\n",
       "    </tr>\n",
       "    <tr>\n",
       "      <td>77</td>\n",
       "      <td>2018-05-01</td>\n",
       "      <td>15273</td>\n",
       "    </tr>\n",
       "  </tbody>\n",
       "</table>\n",
       "</div>"
      ],
      "text/plain": [
       "   first_activity_month  user_id\n",
       "0            2017-06-01    13259\n",
       "12           2017-07-01    13140\n",
       "23           2017-08-01    10181\n",
       "33           2017-09-01    16704\n",
       "42           2017-10-01    25977\n",
       "50           2017-11-01    27248\n",
       "57           2017-12-01    25268\n",
       "63           2018-01-01    22624\n",
       "68           2018-02-01    22197\n",
       "72           2018-03-01    20589\n",
       "75           2018-04-01    15709\n",
       "77           2018-05-01    15273"
      ]
     },
     "metadata": {},
     "output_type": "display_data"
    }
   ],
   "source": [
    "initial_users_count = cohorts[cohorts['cohort_lifetime'] == 0][['first_activity_month','user_id']]\n",
    "display(initial_users_count)"
   ]
  },
  {
   "cell_type": "code",
   "execution_count": 22,
   "metadata": {},
   "outputs": [],
   "source": [
    "initial_users_count = initial_users_count.rename(columns={'user_id':'cohort_users'})"
   ]
  },
  {
   "cell_type": "markdown",
   "metadata": {},
   "source": [
    "Объеденим два датафрейма."
   ]
  },
  {
   "cell_type": "code",
   "execution_count": 23,
   "metadata": {},
   "outputs": [],
   "source": [
    "cohorts = cohorts.merge(initial_users_count,on='first_activity_month')"
   ]
  },
  {
   "cell_type": "markdown",
   "metadata": {},
   "source": [
    "#### Retention rate"
   ]
  },
  {
   "cell_type": "code",
   "execution_count": 24,
   "metadata": {},
   "outputs": [],
   "source": [
    "cohorts['retention'] = cohorts['user_id']/cohorts['cohort_users']"
   ]
  },
  {
   "cell_type": "markdown",
   "metadata": {},
   "source": [
    "##### Pivot Table"
   ]
  },
  {
   "cell_type": "code",
   "execution_count": 25,
   "metadata": {},
   "outputs": [
    {
     "data": {
      "text/html": [
       "<div>\n",
       "<style scoped>\n",
       "    .dataframe tbody tr th:only-of-type {\n",
       "        vertical-align: middle;\n",
       "    }\n",
       "\n",
       "    .dataframe tbody tr th {\n",
       "        vertical-align: top;\n",
       "    }\n",
       "\n",
       "    .dataframe thead th {\n",
       "        text-align: right;\n",
       "    }\n",
       "</style>\n",
       "<table border=\"1\" class=\"dataframe\">\n",
       "  <thead>\n",
       "    <tr style=\"text-align: right;\">\n",
       "      <th>cohort_lifetime</th>\n",
       "      <th>0</th>\n",
       "      <th>1</th>\n",
       "      <th>2</th>\n",
       "      <th>3</th>\n",
       "      <th>4</th>\n",
       "      <th>5</th>\n",
       "      <th>6</th>\n",
       "      <th>7</th>\n",
       "      <th>8</th>\n",
       "      <th>9</th>\n",
       "      <th>10</th>\n",
       "      <th>11</th>\n",
       "    </tr>\n",
       "    <tr>\n",
       "      <th>first_activity_month</th>\n",
       "      <th></th>\n",
       "      <th></th>\n",
       "      <th></th>\n",
       "      <th></th>\n",
       "      <th></th>\n",
       "      <th></th>\n",
       "      <th></th>\n",
       "      <th></th>\n",
       "      <th></th>\n",
       "      <th></th>\n",
       "      <th></th>\n",
       "      <th></th>\n",
       "    </tr>\n",
       "  </thead>\n",
       "  <tbody>\n",
       "    <tr>\n",
       "      <td>2017-06-01</td>\n",
       "      <td>1.0</td>\n",
       "      <td>0.078664</td>\n",
       "      <td>0.053775</td>\n",
       "      <td>0.061392</td>\n",
       "      <td>0.068557</td>\n",
       "      <td>0.071423</td>\n",
       "      <td>0.061015</td>\n",
       "      <td>0.057772</td>\n",
       "      <td>0.052342</td>\n",
       "      <td>0.050833</td>\n",
       "      <td>0.040652</td>\n",
       "      <td>0.044951</td>\n",
       "    </tr>\n",
       "    <tr>\n",
       "      <td>2017-07-01</td>\n",
       "      <td>1.0</td>\n",
       "      <td>0.056088</td>\n",
       "      <td>0.051294</td>\n",
       "      <td>0.056164</td>\n",
       "      <td>0.058219</td>\n",
       "      <td>0.048174</td>\n",
       "      <td>0.045358</td>\n",
       "      <td>0.045738</td>\n",
       "      <td>0.038813</td>\n",
       "      <td>0.028615</td>\n",
       "      <td>0.027473</td>\n",
       "      <td>NaN</td>\n",
       "    </tr>\n",
       "    <tr>\n",
       "      <td>2017-08-01</td>\n",
       "      <td>1.0</td>\n",
       "      <td>0.076908</td>\n",
       "      <td>0.062862</td>\n",
       "      <td>0.062764</td>\n",
       "      <td>0.050093</td>\n",
       "      <td>0.044004</td>\n",
       "      <td>0.036342</td>\n",
       "      <td>0.039485</td>\n",
       "      <td>0.027895</td>\n",
       "      <td>0.026029</td>\n",
       "      <td>NaN</td>\n",
       "      <td>NaN</td>\n",
       "    </tr>\n",
       "    <tr>\n",
       "      <td>2017-09-01</td>\n",
       "      <td>1.0</td>\n",
       "      <td>0.085489</td>\n",
       "      <td>0.069205</td>\n",
       "      <td>0.050706</td>\n",
       "      <td>0.039392</td>\n",
       "      <td>0.037835</td>\n",
       "      <td>0.035860</td>\n",
       "      <td>0.024186</td>\n",
       "      <td>0.022809</td>\n",
       "      <td>NaN</td>\n",
       "      <td>NaN</td>\n",
       "      <td>NaN</td>\n",
       "    </tr>\n",
       "    <tr>\n",
       "      <td>2017-10-01</td>\n",
       "      <td>1.0</td>\n",
       "      <td>0.078608</td>\n",
       "      <td>0.052239</td>\n",
       "      <td>0.038958</td>\n",
       "      <td>0.034261</td>\n",
       "      <td>0.032221</td>\n",
       "      <td>0.021365</td>\n",
       "      <td>0.020364</td>\n",
       "      <td>NaN</td>\n",
       "      <td>NaN</td>\n",
       "      <td>NaN</td>\n",
       "      <td>NaN</td>\n",
       "    </tr>\n",
       "    <tr>\n",
       "      <td>2017-11-01</td>\n",
       "      <td>1.0</td>\n",
       "      <td>0.078281</td>\n",
       "      <td>0.044113</td>\n",
       "      <td>0.038682</td>\n",
       "      <td>0.033727</td>\n",
       "      <td>0.023415</td>\n",
       "      <td>0.021800</td>\n",
       "      <td>NaN</td>\n",
       "      <td>NaN</td>\n",
       "      <td>NaN</td>\n",
       "      <td>NaN</td>\n",
       "      <td>NaN</td>\n",
       "    </tr>\n",
       "    <tr>\n",
       "      <td>2017-12-01</td>\n",
       "      <td>1.0</td>\n",
       "      <td>0.055802</td>\n",
       "      <td>0.037993</td>\n",
       "      <td>0.031107</td>\n",
       "      <td>0.020263</td>\n",
       "      <td>0.019036</td>\n",
       "      <td>NaN</td>\n",
       "      <td>NaN</td>\n",
       "      <td>NaN</td>\n",
       "      <td>NaN</td>\n",
       "      <td>NaN</td>\n",
       "      <td>NaN</td>\n",
       "    </tr>\n",
       "    <tr>\n",
       "      <td>2018-01-01</td>\n",
       "      <td>1.0</td>\n",
       "      <td>0.059715</td>\n",
       "      <td>0.039339</td>\n",
       "      <td>0.024973</td>\n",
       "      <td>0.020244</td>\n",
       "      <td>NaN</td>\n",
       "      <td>NaN</td>\n",
       "      <td>NaN</td>\n",
       "      <td>NaN</td>\n",
       "      <td>NaN</td>\n",
       "      <td>NaN</td>\n",
       "      <td>NaN</td>\n",
       "    </tr>\n",
       "    <tr>\n",
       "      <td>2018-02-01</td>\n",
       "      <td>1.0</td>\n",
       "      <td>0.057080</td>\n",
       "      <td>0.025454</td>\n",
       "      <td>0.020093</td>\n",
       "      <td>NaN</td>\n",
       "      <td>NaN</td>\n",
       "      <td>NaN</td>\n",
       "      <td>NaN</td>\n",
       "      <td>NaN</td>\n",
       "      <td>NaN</td>\n",
       "      <td>NaN</td>\n",
       "      <td>NaN</td>\n",
       "    </tr>\n",
       "    <tr>\n",
       "      <td>2018-03-01</td>\n",
       "      <td>1.0</td>\n",
       "      <td>0.041818</td>\n",
       "      <td>0.027053</td>\n",
       "      <td>NaN</td>\n",
       "      <td>NaN</td>\n",
       "      <td>NaN</td>\n",
       "      <td>NaN</td>\n",
       "      <td>NaN</td>\n",
       "      <td>NaN</td>\n",
       "      <td>NaN</td>\n",
       "      <td>NaN</td>\n",
       "      <td>NaN</td>\n",
       "    </tr>\n",
       "    <tr>\n",
       "      <td>2018-04-01</td>\n",
       "      <td>1.0</td>\n",
       "      <td>0.048380</td>\n",
       "      <td>NaN</td>\n",
       "      <td>NaN</td>\n",
       "      <td>NaN</td>\n",
       "      <td>NaN</td>\n",
       "      <td>NaN</td>\n",
       "      <td>NaN</td>\n",
       "      <td>NaN</td>\n",
       "      <td>NaN</td>\n",
       "      <td>NaN</td>\n",
       "      <td>NaN</td>\n",
       "    </tr>\n",
       "    <tr>\n",
       "      <td>2018-05-01</td>\n",
       "      <td>1.0</td>\n",
       "      <td>NaN</td>\n",
       "      <td>NaN</td>\n",
       "      <td>NaN</td>\n",
       "      <td>NaN</td>\n",
       "      <td>NaN</td>\n",
       "      <td>NaN</td>\n",
       "      <td>NaN</td>\n",
       "      <td>NaN</td>\n",
       "      <td>NaN</td>\n",
       "      <td>NaN</td>\n",
       "      <td>NaN</td>\n",
       "    </tr>\n",
       "  </tbody>\n",
       "</table>\n",
       "</div>"
      ],
      "text/plain": [
       "cohort_lifetime        0         1         2         3         4         5   \\\n",
       "first_activity_month                                                          \n",
       "2017-06-01            1.0  0.078664  0.053775  0.061392  0.068557  0.071423   \n",
       "2017-07-01            1.0  0.056088  0.051294  0.056164  0.058219  0.048174   \n",
       "2017-08-01            1.0  0.076908  0.062862  0.062764  0.050093  0.044004   \n",
       "2017-09-01            1.0  0.085489  0.069205  0.050706  0.039392  0.037835   \n",
       "2017-10-01            1.0  0.078608  0.052239  0.038958  0.034261  0.032221   \n",
       "2017-11-01            1.0  0.078281  0.044113  0.038682  0.033727  0.023415   \n",
       "2017-12-01            1.0  0.055802  0.037993  0.031107  0.020263  0.019036   \n",
       "2018-01-01            1.0  0.059715  0.039339  0.024973  0.020244       NaN   \n",
       "2018-02-01            1.0  0.057080  0.025454  0.020093       NaN       NaN   \n",
       "2018-03-01            1.0  0.041818  0.027053       NaN       NaN       NaN   \n",
       "2018-04-01            1.0  0.048380       NaN       NaN       NaN       NaN   \n",
       "2018-05-01            1.0       NaN       NaN       NaN       NaN       NaN   \n",
       "\n",
       "cohort_lifetime             6         7         8         9         10  \\\n",
       "first_activity_month                                                     \n",
       "2017-06-01            0.061015  0.057772  0.052342  0.050833  0.040652   \n",
       "2017-07-01            0.045358  0.045738  0.038813  0.028615  0.027473   \n",
       "2017-08-01            0.036342  0.039485  0.027895  0.026029       NaN   \n",
       "2017-09-01            0.035860  0.024186  0.022809       NaN       NaN   \n",
       "2017-10-01            0.021365  0.020364       NaN       NaN       NaN   \n",
       "2017-11-01            0.021800       NaN       NaN       NaN       NaN   \n",
       "2017-12-01                 NaN       NaN       NaN       NaN       NaN   \n",
       "2018-01-01                 NaN       NaN       NaN       NaN       NaN   \n",
       "2018-02-01                 NaN       NaN       NaN       NaN       NaN   \n",
       "2018-03-01                 NaN       NaN       NaN       NaN       NaN   \n",
       "2018-04-01                 NaN       NaN       NaN       NaN       NaN   \n",
       "2018-05-01                 NaN       NaN       NaN       NaN       NaN   \n",
       "\n",
       "cohort_lifetime             11  \n",
       "first_activity_month            \n",
       "2017-06-01            0.044951  \n",
       "2017-07-01                 NaN  \n",
       "2017-08-01                 NaN  \n",
       "2017-09-01                 NaN  \n",
       "2017-10-01                 NaN  \n",
       "2017-11-01                 NaN  \n",
       "2017-12-01                 NaN  \n",
       "2018-01-01                 NaN  \n",
       "2018-02-01                 NaN  \n",
       "2018-03-01                 NaN  \n",
       "2018-04-01                 NaN  \n",
       "2018-05-01                 NaN  "
      ]
     },
     "metadata": {},
     "output_type": "display_data"
    }
   ],
   "source": [
    "retention_pivot = cohorts.pivot_table(index='first_activity_month',columns='cohort_lifetime',values='retention',aggfunc='sum')\n",
    "display(retention_pivot)"
   ]
  },
  {
   "cell_type": "markdown",
   "metadata": {},
   "source": [
    "График"
   ]
  },
  {
   "cell_type": "code",
   "execution_count": 26,
   "metadata": {
    "scrolled": false
   },
   "outputs": [
    {
     "data": {
      "text/plain": [
       "Text(93.49999999999999, 0.5, 'Cohort')"
      ]
     },
     "execution_count": 26,
     "metadata": {},
     "output_type": "execute_result"
    },
    {
     "data": {
      "image/png": "[encoded data removed]",
      "text/plain": [
       "<Figure size 936x648 with 2 Axes>"
      ]
     },
     "metadata": {},
     "output_type": "display_data"
    }
   ],
   "source": [
    "sns.set(style='white')\n",
    "plt.figure(figsize=(13, 9))\n",
    "plt.title('Cohorts: User Retention')\n",
    "sns.heatmap(retention_pivot, annot=True, fmt='.1%', linewidths=1, linecolor='gray')\n",
    "plt.xlabel('Lifetime')\n",
    "plt.ylabel('Cohort')"
   ]
  },
  {
   "cell_type": "markdown",
   "metadata": {},
   "source": [
    "### Вывод: \n",
    "\n",
    "Первый месяц отличается самыми высокими показателями RR для всех когорт, также стоит отметить высокий уровень с 3 по 5 месяц.\n",
    "\n",
    "В остальные периоды заметны более незикие показатели.\n",
    "\n",
    "Сильный спад начинается в конце 2017."
   ]
  },
  {
   "cell_type": "markdown",
   "metadata": {},
   "source": [
    "## Анализ продаж"
   ]
  },
  {
   "cell_type": "code",
   "execution_count": 27,
   "metadata": {},
   "outputs": [],
   "source": [
    "first_order_date_by_customers = orders.groupby('user_id')['buy_time'].min()\n",
    "first_order_date_by_customers.name = 'first_order_date'"
   ]
  },
  {
   "cell_type": "code",
   "execution_count": 28,
   "metadata": {},
   "outputs": [
    {
     "data": {
      "text/html": [
       "<div>\n",
       "<style scoped>\n",
       "    .dataframe tbody tr th:only-of-type {\n",
       "        vertical-align: middle;\n",
       "    }\n",
       "\n",
       "    .dataframe tbody tr th {\n",
       "        vertical-align: top;\n",
       "    }\n",
       "\n",
       "    .dataframe thead th {\n",
       "        text-align: right;\n",
       "    }\n",
       "</style>\n",
       "<table border=\"1\" class=\"dataframe\">\n",
       "  <thead>\n",
       "    <tr style=\"text-align: right;\">\n",
       "      <th></th>\n",
       "      <th>user_id</th>\n",
       "      <th>sale</th>\n",
       "    </tr>\n",
       "    <tr>\n",
       "      <th>first_order_month</th>\n",
       "      <th></th>\n",
       "      <th></th>\n",
       "    </tr>\n",
       "  </thead>\n",
       "  <tbody>\n",
       "    <tr>\n",
       "      <td>2017-06-01</td>\n",
       "      <td>2023</td>\n",
       "      <td>24031.69</td>\n",
       "    </tr>\n",
       "    <tr>\n",
       "      <td>2017-07-01</td>\n",
       "      <td>1923</td>\n",
       "      <td>16127.92</td>\n",
       "    </tr>\n",
       "    <tr>\n",
       "      <td>2017-08-01</td>\n",
       "      <td>1370</td>\n",
       "      <td>11606.26</td>\n",
       "    </tr>\n",
       "    <tr>\n",
       "      <td>2017-09-01</td>\n",
       "      <td>2581</td>\n",
       "      <td>34676.32</td>\n",
       "    </tr>\n",
       "    <tr>\n",
       "      <td>2017-10-01</td>\n",
       "      <td>4340</td>\n",
       "      <td>27603.45</td>\n",
       "    </tr>\n",
       "    <tr>\n",
       "      <td>2017-11-01</td>\n",
       "      <td>4081</td>\n",
       "      <td>26098.99</td>\n",
       "    </tr>\n",
       "    <tr>\n",
       "      <td>2017-12-01</td>\n",
       "      <td>4383</td>\n",
       "      <td>33485.74</td>\n",
       "    </tr>\n",
       "    <tr>\n",
       "      <td>2018-01-01</td>\n",
       "      <td>3373</td>\n",
       "      <td>16663.13</td>\n",
       "    </tr>\n",
       "    <tr>\n",
       "      <td>2018-02-01</td>\n",
       "      <td>3651</td>\n",
       "      <td>16750.50</td>\n",
       "    </tr>\n",
       "    <tr>\n",
       "      <td>2018-03-01</td>\n",
       "      <td>3533</td>\n",
       "      <td>19273.41</td>\n",
       "    </tr>\n",
       "    <tr>\n",
       "      <td>2018-04-01</td>\n",
       "      <td>2276</td>\n",
       "      <td>11810.61</td>\n",
       "    </tr>\n",
       "    <tr>\n",
       "      <td>2018-05-01</td>\n",
       "      <td>2988</td>\n",
       "      <td>13925.76</td>\n",
       "    </tr>\n",
       "    <tr>\n",
       "      <td>2018-06-01</td>\n",
       "      <td>1</td>\n",
       "      <td>3.42</td>\n",
       "    </tr>\n",
       "  </tbody>\n",
       "</table>\n",
       "</div>"
      ],
      "text/plain": [
       "                   user_id      sale\n",
       "first_order_month                   \n",
       "2017-06-01            2023  24031.69\n",
       "2017-07-01            1923  16127.92\n",
       "2017-08-01            1370  11606.26\n",
       "2017-09-01            2581  34676.32\n",
       "2017-10-01            4340  27603.45\n",
       "2017-11-01            4081  26098.99\n",
       "2017-12-01            4383  33485.74\n",
       "2018-01-01            3373  16663.13\n",
       "2018-02-01            3651  16750.50\n",
       "2018-03-01            3533  19273.41\n",
       "2018-04-01            2276  11810.61\n",
       "2018-05-01            2988  13925.76\n",
       "2018-06-01               1      3.42"
      ]
     },
     "metadata": {},
     "output_type": "display_data"
    }
   ],
   "source": [
    "orders = orders.join(first_order_date_by_customers,on='user_id')\n",
    "orders['first_order_month'] = orders['first_order_date'].astype('datetime64[M]')\n",
    "orders['order_month'] = orders['buy_time'].astype('datetime64[M]')\n",
    "\n",
    "cohort_grouped = orders.groupby('first_order_month').agg({'user_id':'nunique','sale':'sum'})\n",
    "display(cohort_grouped)"
   ]
  },
  {
   "cell_type": "markdown",
   "metadata": {},
   "source": [
    "Декабрьская и сентябрьская когорта лидируют в нашем списке."
   ]
  },
  {
   "cell_type": "markdown",
   "metadata": {},
   "source": [
    "## Средний чек"
   ]
  },
  {
   "cell_type": "markdown",
   "metadata": {},
   "source": [
    "Построим сводную таблицу изменения среднего чека в когортах по месяцу совершения покупки и оценим, как изменяется средний чек с течением времени:"
   ]
  },
  {
   "cell_type": "code",
   "execution_count": 29,
   "metadata": {
    "scrolled": false
   },
   "outputs": [
    {
     "data": {
      "text/html": [
       "<div>\n",
       "<style scoped>\n",
       "    .dataframe tbody tr th:only-of-type {\n",
       "        vertical-align: middle;\n",
       "    }\n",
       "\n",
       "    .dataframe tbody tr th {\n",
       "        vertical-align: top;\n",
       "    }\n",
       "\n",
       "    .dataframe thead th {\n",
       "        text-align: right;\n",
       "    }\n",
       "</style>\n",
       "<table border=\"1\" class=\"dataframe\">\n",
       "  <thead>\n",
       "    <tr style=\"text-align: right;\">\n",
       "      <th>order_month</th>\n",
       "      <th>2017-06-01</th>\n",
       "      <th>2017-07-01</th>\n",
       "      <th>2017-08-01</th>\n",
       "      <th>2017-09-01</th>\n",
       "      <th>2017-10-01</th>\n",
       "      <th>2017-11-01</th>\n",
       "      <th>2017-12-01</th>\n",
       "      <th>2018-01-01</th>\n",
       "      <th>2018-02-01</th>\n",
       "      <th>2018-03-01</th>\n",
       "      <th>2018-04-01</th>\n",
       "      <th>2018-05-01</th>\n",
       "      <th>2018-06-01</th>\n",
       "    </tr>\n",
       "    <tr>\n",
       "      <th>first_order_month</th>\n",
       "      <th></th>\n",
       "      <th></th>\n",
       "      <th></th>\n",
       "      <th></th>\n",
       "      <th></th>\n",
       "      <th></th>\n",
       "      <th></th>\n",
       "      <th></th>\n",
       "      <th></th>\n",
       "      <th></th>\n",
       "      <th></th>\n",
       "      <th></th>\n",
       "      <th></th>\n",
       "    </tr>\n",
       "  </thead>\n",
       "  <tbody>\n",
       "    <tr>\n",
       "      <td>2017-06-01</td>\n",
       "      <td>4.724414</td>\n",
       "      <td>16.095410</td>\n",
       "      <td>17.706800</td>\n",
       "      <td>35.764815</td>\n",
       "      <td>23.506591</td>\n",
       "      <td>22.207761</td>\n",
       "      <td>31.011935</td>\n",
       "      <td>25.033191</td>\n",
       "      <td>19.295690</td>\n",
       "      <td>27.233556</td>\n",
       "      <td>25.681333</td>\n",
       "      <td>9.804151</td>\n",
       "      <td>NaN</td>\n",
       "    </tr>\n",
       "    <tr>\n",
       "      <td>2017-07-01</td>\n",
       "      <td>NaN</td>\n",
       "      <td>6.010218</td>\n",
       "      <td>12.396346</td>\n",
       "      <td>21.035965</td>\n",
       "      <td>10.786094</td>\n",
       "      <td>6.938163</td>\n",
       "      <td>7.896842</td>\n",
       "      <td>6.421111</td>\n",
       "      <td>6.992821</td>\n",
       "      <td>7.382143</td>\n",
       "      <td>12.861818</td>\n",
       "      <td>11.513846</td>\n",
       "      <td>NaN</td>\n",
       "    </tr>\n",
       "    <tr>\n",
       "      <td>2017-08-01</td>\n",
       "      <td>NaN</td>\n",
       "      <td>NaN</td>\n",
       "      <td>5.276518</td>\n",
       "      <td>11.148793</td>\n",
       "      <td>11.851321</td>\n",
       "      <td>12.182955</td>\n",
       "      <td>16.921250</td>\n",
       "      <td>12.139063</td>\n",
       "      <td>9.620333</td>\n",
       "      <td>12.610455</td>\n",
       "      <td>21.070000</td>\n",
       "      <td>8.307419</td>\n",
       "      <td>NaN</td>\n",
       "    </tr>\n",
       "    <tr>\n",
       "      <td>2017-09-01</td>\n",
       "      <td>NaN</td>\n",
       "      <td>NaN</td>\n",
       "      <td>NaN</td>\n",
       "      <td>5.644529</td>\n",
       "      <td>22.188385</td>\n",
       "      <td>13.445200</td>\n",
       "      <td>138.669189</td>\n",
       "      <td>19.881538</td>\n",
       "      <td>26.095000</td>\n",
       "      <td>27.437121</td>\n",
       "      <td>16.961351</td>\n",
       "      <td>11.044651</td>\n",
       "      <td>NaN</td>\n",
       "    </tr>\n",
       "    <tr>\n",
       "      <td>2017-10-01</td>\n",
       "      <td>NaN</td>\n",
       "      <td>NaN</td>\n",
       "      <td>NaN</td>\n",
       "      <td>NaN</td>\n",
       "      <td>5.003733</td>\n",
       "      <td>11.287427</td>\n",
       "      <td>6.753252</td>\n",
       "      <td>7.413152</td>\n",
       "      <td>7.072796</td>\n",
       "      <td>7.255139</td>\n",
       "      <td>6.573214</td>\n",
       "      <td>7.479701</td>\n",
       "      <td>NaN</td>\n",
       "    </tr>\n",
       "    <tr>\n",
       "      <td>2017-11-01</td>\n",
       "      <td>NaN</td>\n",
       "      <td>NaN</td>\n",
       "      <td>NaN</td>\n",
       "      <td>NaN</td>\n",
       "      <td>NaN</td>\n",
       "      <td>5.154683</td>\n",
       "      <td>7.339054</td>\n",
       "      <td>6.786583</td>\n",
       "      <td>12.510660</td>\n",
       "      <td>7.457284</td>\n",
       "      <td>4.580833</td>\n",
       "      <td>7.564839</td>\n",
       "      <td>NaN</td>\n",
       "    </tr>\n",
       "    <tr>\n",
       "      <td>2017-12-01</td>\n",
       "      <td>NaN</td>\n",
       "      <td>NaN</td>\n",
       "      <td>NaN</td>\n",
       "      <td>NaN</td>\n",
       "      <td>NaN</td>\n",
       "      <td>NaN</td>\n",
       "      <td>4.738191</td>\n",
       "      <td>7.816575</td>\n",
       "      <td>39.366019</td>\n",
       "      <td>48.135052</td>\n",
       "      <td>27.431400</td>\n",
       "      <td>23.518413</td>\n",
       "      <td>NaN</td>\n",
       "    </tr>\n",
       "    <tr>\n",
       "      <td>2018-01-01</td>\n",
       "      <td>NaN</td>\n",
       "      <td>NaN</td>\n",
       "      <td>NaN</td>\n",
       "      <td>NaN</td>\n",
       "      <td>NaN</td>\n",
       "      <td>NaN</td>\n",
       "      <td>NaN</td>\n",
       "      <td>4.135636</td>\n",
       "      <td>8.721228</td>\n",
       "      <td>12.365542</td>\n",
       "      <td>11.199767</td>\n",
       "      <td>4.699556</td>\n",
       "      <td>NaN</td>\n",
       "    </tr>\n",
       "    <tr>\n",
       "      <td>2018-02-01</td>\n",
       "      <td>NaN</td>\n",
       "      <td>NaN</td>\n",
       "      <td>NaN</td>\n",
       "      <td>NaN</td>\n",
       "      <td>NaN</td>\n",
       "      <td>NaN</td>\n",
       "      <td>NaN</td>\n",
       "      <td>NaN</td>\n",
       "      <td>4.156987</td>\n",
       "      <td>8.610000</td>\n",
       "      <td>4.942414</td>\n",
       "      <td>6.941026</td>\n",
       "      <td>NaN</td>\n",
       "    </tr>\n",
       "    <tr>\n",
       "      <td>2018-03-01</td>\n",
       "      <td>NaN</td>\n",
       "      <td>NaN</td>\n",
       "      <td>NaN</td>\n",
       "      <td>NaN</td>\n",
       "      <td>NaN</td>\n",
       "      <td>NaN</td>\n",
       "      <td>NaN</td>\n",
       "      <td>NaN</td>\n",
       "      <td>NaN</td>\n",
       "      <td>4.838803</td>\n",
       "      <td>11.811667</td>\n",
       "      <td>19.221897</td>\n",
       "      <td>NaN</td>\n",
       "    </tr>\n",
       "    <tr>\n",
       "      <td>2018-04-01</td>\n",
       "      <td>NaN</td>\n",
       "      <td>NaN</td>\n",
       "      <td>NaN</td>\n",
       "      <td>NaN</td>\n",
       "      <td>NaN</td>\n",
       "      <td>NaN</td>\n",
       "      <td>NaN</td>\n",
       "      <td>NaN</td>\n",
       "      <td>NaN</td>\n",
       "      <td>NaN</td>\n",
       "      <td>4.657597</td>\n",
       "      <td>17.535072</td>\n",
       "      <td>NaN</td>\n",
       "    </tr>\n",
       "    <tr>\n",
       "      <td>2018-05-01</td>\n",
       "      <td>NaN</td>\n",
       "      <td>NaN</td>\n",
       "      <td>NaN</td>\n",
       "      <td>NaN</td>\n",
       "      <td>NaN</td>\n",
       "      <td>NaN</td>\n",
       "      <td>NaN</td>\n",
       "      <td>NaN</td>\n",
       "      <td>NaN</td>\n",
       "      <td>NaN</td>\n",
       "      <td>NaN</td>\n",
       "      <td>4.660562</td>\n",
       "      <td>NaN</td>\n",
       "    </tr>\n",
       "    <tr>\n",
       "      <td>2018-06-01</td>\n",
       "      <td>NaN</td>\n",
       "      <td>NaN</td>\n",
       "      <td>NaN</td>\n",
       "      <td>NaN</td>\n",
       "      <td>NaN</td>\n",
       "      <td>NaN</td>\n",
       "      <td>NaN</td>\n",
       "      <td>NaN</td>\n",
       "      <td>NaN</td>\n",
       "      <td>NaN</td>\n",
       "      <td>NaN</td>\n",
       "      <td>NaN</td>\n",
       "      <td>3.42</td>\n",
       "    </tr>\n",
       "  </tbody>\n",
       "</table>\n",
       "</div>"
      ],
      "text/plain": [
       "order_month        2017-06-01  2017-07-01  2017-08-01  2017-09-01  2017-10-01  \\\n",
       "first_order_month                                                               \n",
       "2017-06-01           4.724414   16.095410   17.706800   35.764815   23.506591   \n",
       "2017-07-01                NaN    6.010218   12.396346   21.035965   10.786094   \n",
       "2017-08-01                NaN         NaN    5.276518   11.148793   11.851321   \n",
       "2017-09-01                NaN         NaN         NaN    5.644529   22.188385   \n",
       "2017-10-01                NaN         NaN         NaN         NaN    5.003733   \n",
       "2017-11-01                NaN         NaN         NaN         NaN         NaN   \n",
       "2017-12-01                NaN         NaN         NaN         NaN         NaN   \n",
       "2018-01-01                NaN         NaN         NaN         NaN         NaN   \n",
       "2018-02-01                NaN         NaN         NaN         NaN         NaN   \n",
       "2018-03-01                NaN         NaN         NaN         NaN         NaN   \n",
       "2018-04-01                NaN         NaN         NaN         NaN         NaN   \n",
       "2018-05-01                NaN         NaN         NaN         NaN         NaN   \n",
       "2018-06-01                NaN         NaN         NaN         NaN         NaN   \n",
       "\n",
       "order_month        2017-11-01  2017-12-01  2018-01-01  2018-02-01  2018-03-01  \\\n",
       "first_order_month                                                               \n",
       "2017-06-01          22.207761   31.011935   25.033191   19.295690   27.233556   \n",
       "2017-07-01           6.938163    7.896842    6.421111    6.992821    7.382143   \n",
       "2017-08-01          12.182955   16.921250   12.139063    9.620333   12.610455   \n",
       "2017-09-01          13.445200  138.669189   19.881538   26.095000   27.437121   \n",
       "2017-10-01          11.287427    6.753252    7.413152    7.072796    7.255139   \n",
       "2017-11-01           5.154683    7.339054    6.786583   12.510660    7.457284   \n",
       "2017-12-01                NaN    4.738191    7.816575   39.366019   48.135052   \n",
       "2018-01-01                NaN         NaN    4.135636    8.721228   12.365542   \n",
       "2018-02-01                NaN         NaN         NaN    4.156987    8.610000   \n",
       "2018-03-01                NaN         NaN         NaN         NaN    4.838803   \n",
       "2018-04-01                NaN         NaN         NaN         NaN         NaN   \n",
       "2018-05-01                NaN         NaN         NaN         NaN         NaN   \n",
       "2018-06-01                NaN         NaN         NaN         NaN         NaN   \n",
       "\n",
       "order_month        2018-04-01  2018-05-01  2018-06-01  \n",
       "first_order_month                                      \n",
       "2017-06-01          25.681333    9.804151         NaN  \n",
       "2017-07-01          12.861818   11.513846         NaN  \n",
       "2017-08-01          21.070000    8.307419         NaN  \n",
       "2017-09-01          16.961351   11.044651         NaN  \n",
       "2017-10-01           6.573214    7.479701         NaN  \n",
       "2017-11-01           4.580833    7.564839         NaN  \n",
       "2017-12-01          27.431400   23.518413         NaN  \n",
       "2018-01-01          11.199767    4.699556         NaN  \n",
       "2018-02-01           4.942414    6.941026         NaN  \n",
       "2018-03-01          11.811667   19.221897         NaN  \n",
       "2018-04-01           4.657597   17.535072         NaN  \n",
       "2018-05-01                NaN    4.660562         NaN  \n",
       "2018-06-01                NaN         NaN        3.42  "
      ]
     },
     "execution_count": 29,
     "metadata": {},
     "output_type": "execute_result"
    }
   ],
   "source": [
    "orders_grouped_by_cohorts = orders.groupby(['first_order_month','order_month']).agg({'sale':'sum','user_id':'nunique'})\n",
    "\n",
    "orders_grouped_by_cohorts['revenue_per_user'] = orders_grouped_by_cohorts['sale'] / orders_grouped_by_cohorts['user_id']\n",
    "\n",
    "orders_grouped_by_cohorts.pivot_table(index='first_order_month',columns='order_month',values='revenue_per_user',aggfunc='mean')"
   ]
  },
  {
   "cell_type": "markdown",
   "metadata": {},
   "source": [
    "## Lifetime когорты."
   ]
  },
  {
   "cell_type": "code",
   "execution_count": 30,
   "metadata": {},
   "outputs": [
    {
     "data": {
      "text/plain": [
       "0     0 days\n",
       "1    30 days\n",
       "2    61 days\n",
       "3    92 days\n",
       "4   122 days\n",
       "Name: cohort_lifetime, dtype: timedelta64[ns]"
      ]
     },
     "execution_count": 30,
     "metadata": {},
     "output_type": "execute_result"
    }
   ],
   "source": [
    "orders_grouped_by_cohorts = orders_grouped_by_cohorts.reset_index()\n",
    "orders_grouped_by_cohorts['cohort_lifetime'] = orders_grouped_by_cohorts['order_month'] - orders_grouped_by_cohorts['first_order_month']\n",
    "orders_grouped_by_cohorts['cohort_lifetime'].head()"
   ]
  },
  {
   "cell_type": "code",
   "execution_count": 31,
   "metadata": {},
   "outputs": [
    {
     "data": {
      "text/plain": [
       "0    0.000000\n",
       "1    0.985647\n",
       "2    2.004148\n",
       "3    3.022649\n",
       "4    4.008296\n",
       "Name: cohort_lifetime, dtype: float64"
      ]
     },
     "metadata": {},
     "output_type": "display_data"
    }
   ],
   "source": [
    "orders_grouped_by_cohorts['cohort_lifetime'] = orders_grouped_by_cohorts['cohort_lifetime'] / np.timedelta64(1,'M')\n",
    "display(orders_grouped_by_cohorts['cohort_lifetime'].head())"
   ]
  },
  {
   "cell_type": "markdown",
   "metadata": {},
   "source": [
    "Округлим значения столбца cohort_lifetime и приведём к целочисленному"
   ]
  },
  {
   "cell_type": "code",
   "execution_count": 32,
   "metadata": {},
   "outputs": [
    {
     "data": {
      "text/html": [
       "<div>\n",
       "<style scoped>\n",
       "    .dataframe tbody tr th:only-of-type {\n",
       "        vertical-align: middle;\n",
       "    }\n",
       "\n",
       "    .dataframe tbody tr th {\n",
       "        vertical-align: top;\n",
       "    }\n",
       "\n",
       "    .dataframe thead th {\n",
       "        text-align: right;\n",
       "    }\n",
       "</style>\n",
       "<table border=\"1\" class=\"dataframe\">\n",
       "  <thead>\n",
       "    <tr style=\"text-align: right;\">\n",
       "      <th></th>\n",
       "      <th>first_order_month</th>\n",
       "      <th>order_month</th>\n",
       "      <th>cohort_lifetime</th>\n",
       "    </tr>\n",
       "  </thead>\n",
       "  <tbody>\n",
       "    <tr>\n",
       "      <td>0</td>\n",
       "      <td>2017-06-01</td>\n",
       "      <td>2017-06-01</td>\n",
       "      <td>0</td>\n",
       "    </tr>\n",
       "    <tr>\n",
       "      <td>1</td>\n",
       "      <td>2017-06-01</td>\n",
       "      <td>2017-07-01</td>\n",
       "      <td>1</td>\n",
       "    </tr>\n",
       "    <tr>\n",
       "      <td>2</td>\n",
       "      <td>2017-06-01</td>\n",
       "      <td>2017-08-01</td>\n",
       "      <td>2</td>\n",
       "    </tr>\n",
       "    <tr>\n",
       "      <td>3</td>\n",
       "      <td>2017-06-01</td>\n",
       "      <td>2017-09-01</td>\n",
       "      <td>3</td>\n",
       "    </tr>\n",
       "    <tr>\n",
       "      <td>4</td>\n",
       "      <td>2017-06-01</td>\n",
       "      <td>2017-10-01</td>\n",
       "      <td>4</td>\n",
       "    </tr>\n",
       "  </tbody>\n",
       "</table>\n",
       "</div>"
      ],
      "text/plain": [
       "  first_order_month order_month  cohort_lifetime\n",
       "0        2017-06-01  2017-06-01                0\n",
       "1        2017-06-01  2017-07-01                1\n",
       "2        2017-06-01  2017-08-01                2\n",
       "3        2017-06-01  2017-09-01                3\n",
       "4        2017-06-01  2017-10-01                4"
      ]
     },
     "metadata": {},
     "output_type": "display_data"
    },
    {
     "data": {
      "text/html": [
       "<div>\n",
       "<style scoped>\n",
       "    .dataframe tbody tr th:only-of-type {\n",
       "        vertical-align: middle;\n",
       "    }\n",
       "\n",
       "    .dataframe tbody tr th {\n",
       "        vertical-align: top;\n",
       "    }\n",
       "\n",
       "    .dataframe thead th {\n",
       "        text-align: right;\n",
       "    }\n",
       "</style>\n",
       "<table border=\"1\" class=\"dataframe\">\n",
       "  <thead>\n",
       "    <tr style=\"text-align: right;\">\n",
       "      <th></th>\n",
       "      <th>first_order_month</th>\n",
       "      <th>order_month</th>\n",
       "      <th>cohort_lifetime</th>\n",
       "    </tr>\n",
       "  </thead>\n",
       "  <tbody>\n",
       "    <tr>\n",
       "      <td>74</td>\n",
       "      <td>2018-03-01</td>\n",
       "      <td>2018-05-01</td>\n",
       "      <td>2</td>\n",
       "    </tr>\n",
       "    <tr>\n",
       "      <td>75</td>\n",
       "      <td>2018-04-01</td>\n",
       "      <td>2018-04-01</td>\n",
       "      <td>0</td>\n",
       "    </tr>\n",
       "    <tr>\n",
       "      <td>76</td>\n",
       "      <td>2018-04-01</td>\n",
       "      <td>2018-05-01</td>\n",
       "      <td>1</td>\n",
       "    </tr>\n",
       "    <tr>\n",
       "      <td>77</td>\n",
       "      <td>2018-05-01</td>\n",
       "      <td>2018-05-01</td>\n",
       "      <td>0</td>\n",
       "    </tr>\n",
       "    <tr>\n",
       "      <td>78</td>\n",
       "      <td>2018-06-01</td>\n",
       "      <td>2018-06-01</td>\n",
       "      <td>0</td>\n",
       "    </tr>\n",
       "  </tbody>\n",
       "</table>\n",
       "</div>"
      ],
      "text/plain": [
       "   first_order_month order_month  cohort_lifetime\n",
       "74        2018-03-01  2018-05-01                2\n",
       "75        2018-04-01  2018-04-01                0\n",
       "76        2018-04-01  2018-05-01                1\n",
       "77        2018-05-01  2018-05-01                0\n",
       "78        2018-06-01  2018-06-01                0"
      ]
     },
     "metadata": {},
     "output_type": "display_data"
    }
   ],
   "source": [
    "orders_grouped_by_cohorts['cohort_lifetime'] = orders_grouped_by_cohorts['cohort_lifetime'].round().astype('int')\n",
    "display(orders_grouped_by_cohorts[['first_order_month','order_month','cohort_lifetime']].head())\n",
    "display(orders_grouped_by_cohorts[['first_order_month','order_month','cohort_lifetime']].tail())"
   ]
  },
  {
   "cell_type": "markdown",
   "metadata": {},
   "source": [
    "Оставим в обозначении когорты только год и месяц"
   ]
  },
  {
   "cell_type": "code",
   "execution_count": 33,
   "metadata": {},
   "outputs": [],
   "source": [
    "orders_grouped_by_cohorts['first_order_month'] = orders_grouped_by_cohorts['first_order_month'].dt.strftime('%Y-%m')"
   ]
  },
  {
   "cell_type": "markdown",
   "metadata": {},
   "source": [
    "Построим сводную таблицу изменения среднего чека, где в столбцах будет lifetime, а строках — когорты:"
   ]
  },
  {
   "cell_type": "code",
   "execution_count": 34,
   "metadata": {},
   "outputs": [
    {
     "data": {
      "text/html": [
       "<div>\n",
       "<style scoped>\n",
       "    .dataframe tbody tr th:only-of-type {\n",
       "        vertical-align: middle;\n",
       "    }\n",
       "\n",
       "    .dataframe tbody tr th {\n",
       "        vertical-align: top;\n",
       "    }\n",
       "\n",
       "    .dataframe thead th {\n",
       "        text-align: right;\n",
       "    }\n",
       "</style>\n",
       "<table border=\"1\" class=\"dataframe\">\n",
       "  <thead>\n",
       "    <tr style=\"text-align: right;\">\n",
       "      <th>cohort_lifetime</th>\n",
       "      <th>0</th>\n",
       "      <th>1</th>\n",
       "      <th>2</th>\n",
       "      <th>3</th>\n",
       "      <th>4</th>\n",
       "      <th>5</th>\n",
       "      <th>6</th>\n",
       "      <th>7</th>\n",
       "      <th>8</th>\n",
       "      <th>9</th>\n",
       "      <th>10</th>\n",
       "      <th>11</th>\n",
       "    </tr>\n",
       "    <tr>\n",
       "      <th>first_order_month</th>\n",
       "      <th></th>\n",
       "      <th></th>\n",
       "      <th></th>\n",
       "      <th></th>\n",
       "      <th></th>\n",
       "      <th></th>\n",
       "      <th></th>\n",
       "      <th></th>\n",
       "      <th></th>\n",
       "      <th></th>\n",
       "      <th></th>\n",
       "      <th></th>\n",
       "    </tr>\n",
       "  </thead>\n",
       "  <tbody>\n",
       "    <tr>\n",
       "      <td>2017-06</td>\n",
       "      <td>4.724414</td>\n",
       "      <td>16.095410</td>\n",
       "      <td>17.706800</td>\n",
       "      <td>35.764815</td>\n",
       "      <td>23.506591</td>\n",
       "      <td>22.207761</td>\n",
       "      <td>31.011935</td>\n",
       "      <td>25.033191</td>\n",
       "      <td>19.295690</td>\n",
       "      <td>27.233556</td>\n",
       "      <td>25.681333</td>\n",
       "      <td>9.804151</td>\n",
       "    </tr>\n",
       "    <tr>\n",
       "      <td>2017-07</td>\n",
       "      <td>6.010218</td>\n",
       "      <td>12.396346</td>\n",
       "      <td>21.035965</td>\n",
       "      <td>10.786094</td>\n",
       "      <td>6.938163</td>\n",
       "      <td>7.896842</td>\n",
       "      <td>6.421111</td>\n",
       "      <td>6.992821</td>\n",
       "      <td>7.382143</td>\n",
       "      <td>12.861818</td>\n",
       "      <td>11.513846</td>\n",
       "      <td>NaN</td>\n",
       "    </tr>\n",
       "    <tr>\n",
       "      <td>2017-08</td>\n",
       "      <td>5.276518</td>\n",
       "      <td>11.148793</td>\n",
       "      <td>11.851321</td>\n",
       "      <td>12.182955</td>\n",
       "      <td>16.921250</td>\n",
       "      <td>12.139063</td>\n",
       "      <td>9.620333</td>\n",
       "      <td>12.610455</td>\n",
       "      <td>21.070000</td>\n",
       "      <td>8.307419</td>\n",
       "      <td>NaN</td>\n",
       "      <td>NaN</td>\n",
       "    </tr>\n",
       "    <tr>\n",
       "      <td>2017-09</td>\n",
       "      <td>5.644529</td>\n",
       "      <td>22.188385</td>\n",
       "      <td>13.445200</td>\n",
       "      <td>138.669189</td>\n",
       "      <td>19.881538</td>\n",
       "      <td>26.095000</td>\n",
       "      <td>27.437121</td>\n",
       "      <td>16.961351</td>\n",
       "      <td>11.044651</td>\n",
       "      <td>NaN</td>\n",
       "      <td>NaN</td>\n",
       "      <td>NaN</td>\n",
       "    </tr>\n",
       "    <tr>\n",
       "      <td>2017-10</td>\n",
       "      <td>5.003733</td>\n",
       "      <td>11.287427</td>\n",
       "      <td>6.753252</td>\n",
       "      <td>7.413152</td>\n",
       "      <td>7.072796</td>\n",
       "      <td>7.255139</td>\n",
       "      <td>6.573214</td>\n",
       "      <td>7.479701</td>\n",
       "      <td>NaN</td>\n",
       "      <td>NaN</td>\n",
       "      <td>NaN</td>\n",
       "      <td>NaN</td>\n",
       "    </tr>\n",
       "    <tr>\n",
       "      <td>2017-11</td>\n",
       "      <td>5.154683</td>\n",
       "      <td>7.339054</td>\n",
       "      <td>6.786583</td>\n",
       "      <td>12.510660</td>\n",
       "      <td>7.457284</td>\n",
       "      <td>4.580833</td>\n",
       "      <td>7.564839</td>\n",
       "      <td>NaN</td>\n",
       "      <td>NaN</td>\n",
       "      <td>NaN</td>\n",
       "      <td>NaN</td>\n",
       "      <td>NaN</td>\n",
       "    </tr>\n",
       "    <tr>\n",
       "      <td>2017-12</td>\n",
       "      <td>4.738191</td>\n",
       "      <td>7.816575</td>\n",
       "      <td>39.366019</td>\n",
       "      <td>48.135052</td>\n",
       "      <td>27.431400</td>\n",
       "      <td>23.518413</td>\n",
       "      <td>NaN</td>\n",
       "      <td>NaN</td>\n",
       "      <td>NaN</td>\n",
       "      <td>NaN</td>\n",
       "      <td>NaN</td>\n",
       "      <td>NaN</td>\n",
       "    </tr>\n",
       "    <tr>\n",
       "      <td>2018-01</td>\n",
       "      <td>4.135636</td>\n",
       "      <td>8.721228</td>\n",
       "      <td>12.365542</td>\n",
       "      <td>11.199767</td>\n",
       "      <td>4.699556</td>\n",
       "      <td>NaN</td>\n",
       "      <td>NaN</td>\n",
       "      <td>NaN</td>\n",
       "      <td>NaN</td>\n",
       "      <td>NaN</td>\n",
       "      <td>NaN</td>\n",
       "      <td>NaN</td>\n",
       "    </tr>\n",
       "    <tr>\n",
       "      <td>2018-02</td>\n",
       "      <td>4.156987</td>\n",
       "      <td>8.610000</td>\n",
       "      <td>4.942414</td>\n",
       "      <td>6.941026</td>\n",
       "      <td>NaN</td>\n",
       "      <td>NaN</td>\n",
       "      <td>NaN</td>\n",
       "      <td>NaN</td>\n",
       "      <td>NaN</td>\n",
       "      <td>NaN</td>\n",
       "      <td>NaN</td>\n",
       "      <td>NaN</td>\n",
       "    </tr>\n",
       "    <tr>\n",
       "      <td>2018-03</td>\n",
       "      <td>4.838803</td>\n",
       "      <td>11.811667</td>\n",
       "      <td>19.221897</td>\n",
       "      <td>NaN</td>\n",
       "      <td>NaN</td>\n",
       "      <td>NaN</td>\n",
       "      <td>NaN</td>\n",
       "      <td>NaN</td>\n",
       "      <td>NaN</td>\n",
       "      <td>NaN</td>\n",
       "      <td>NaN</td>\n",
       "      <td>NaN</td>\n",
       "    </tr>\n",
       "    <tr>\n",
       "      <td>2018-04</td>\n",
       "      <td>4.657597</td>\n",
       "      <td>17.535072</td>\n",
       "      <td>NaN</td>\n",
       "      <td>NaN</td>\n",
       "      <td>NaN</td>\n",
       "      <td>NaN</td>\n",
       "      <td>NaN</td>\n",
       "      <td>NaN</td>\n",
       "      <td>NaN</td>\n",
       "      <td>NaN</td>\n",
       "      <td>NaN</td>\n",
       "      <td>NaN</td>\n",
       "    </tr>\n",
       "    <tr>\n",
       "      <td>2018-05</td>\n",
       "      <td>4.660562</td>\n",
       "      <td>NaN</td>\n",
       "      <td>NaN</td>\n",
       "      <td>NaN</td>\n",
       "      <td>NaN</td>\n",
       "      <td>NaN</td>\n",
       "      <td>NaN</td>\n",
       "      <td>NaN</td>\n",
       "      <td>NaN</td>\n",
       "      <td>NaN</td>\n",
       "      <td>NaN</td>\n",
       "      <td>NaN</td>\n",
       "    </tr>\n",
       "    <tr>\n",
       "      <td>2018-06</td>\n",
       "      <td>3.420000</td>\n",
       "      <td>NaN</td>\n",
       "      <td>NaN</td>\n",
       "      <td>NaN</td>\n",
       "      <td>NaN</td>\n",
       "      <td>NaN</td>\n",
       "      <td>NaN</td>\n",
       "      <td>NaN</td>\n",
       "      <td>NaN</td>\n",
       "      <td>NaN</td>\n",
       "      <td>NaN</td>\n",
       "      <td>NaN</td>\n",
       "    </tr>\n",
       "  </tbody>\n",
       "</table>\n",
       "</div>"
      ],
      "text/plain": [
       "cohort_lifetime          0          1          2           3          4   \\\n",
       "first_order_month                                                          \n",
       "2017-06            4.724414  16.095410  17.706800   35.764815  23.506591   \n",
       "2017-07            6.010218  12.396346  21.035965   10.786094   6.938163   \n",
       "2017-08            5.276518  11.148793  11.851321   12.182955  16.921250   \n",
       "2017-09            5.644529  22.188385  13.445200  138.669189  19.881538   \n",
       "2017-10            5.003733  11.287427   6.753252    7.413152   7.072796   \n",
       "2017-11            5.154683   7.339054   6.786583   12.510660   7.457284   \n",
       "2017-12            4.738191   7.816575  39.366019   48.135052  27.431400   \n",
       "2018-01            4.135636   8.721228  12.365542   11.199767   4.699556   \n",
       "2018-02            4.156987   8.610000   4.942414    6.941026        NaN   \n",
       "2018-03            4.838803  11.811667  19.221897         NaN        NaN   \n",
       "2018-04            4.657597  17.535072        NaN         NaN        NaN   \n",
       "2018-05            4.660562        NaN        NaN         NaN        NaN   \n",
       "2018-06            3.420000        NaN        NaN         NaN        NaN   \n",
       "\n",
       "cohort_lifetime           5          6          7          8          9   \\\n",
       "first_order_month                                                          \n",
       "2017-06            22.207761  31.011935  25.033191  19.295690  27.233556   \n",
       "2017-07             7.896842   6.421111   6.992821   7.382143  12.861818   \n",
       "2017-08            12.139063   9.620333  12.610455  21.070000   8.307419   \n",
       "2017-09            26.095000  27.437121  16.961351  11.044651        NaN   \n",
       "2017-10             7.255139   6.573214   7.479701        NaN        NaN   \n",
       "2017-11             4.580833   7.564839        NaN        NaN        NaN   \n",
       "2017-12            23.518413        NaN        NaN        NaN        NaN   \n",
       "2018-01                  NaN        NaN        NaN        NaN        NaN   \n",
       "2018-02                  NaN        NaN        NaN        NaN        NaN   \n",
       "2018-03                  NaN        NaN        NaN        NaN        NaN   \n",
       "2018-04                  NaN        NaN        NaN        NaN        NaN   \n",
       "2018-05                  NaN        NaN        NaN        NaN        NaN   \n",
       "2018-06                  NaN        NaN        NaN        NaN        NaN   \n",
       "\n",
       "cohort_lifetime           10        11  \n",
       "first_order_month                       \n",
       "2017-06            25.681333  9.804151  \n",
       "2017-07            11.513846       NaN  \n",
       "2017-08                  NaN       NaN  \n",
       "2017-09                  NaN       NaN  \n",
       "2017-10                  NaN       NaN  \n",
       "2017-11                  NaN       NaN  \n",
       "2017-12                  NaN       NaN  \n",
       "2018-01                  NaN       NaN  \n",
       "2018-02                  NaN       NaN  \n",
       "2018-03                  NaN       NaN  \n",
       "2018-04                  NaN       NaN  \n",
       "2018-05                  NaN       NaN  \n",
       "2018-06                  NaN       NaN  "
      ]
     },
     "metadata": {},
     "output_type": "display_data"
    }
   ],
   "source": [
    "revenue_per_user_pivot = orders_grouped_by_cohorts.pivot_table(index='first_order_month',columns='cohort_lifetime',values='revenue_per_user',aggfunc='mean')\n",
    "display(revenue_per_user_pivot)"
   ]
  },
  {
   "cell_type": "markdown",
   "metadata": {},
   "source": [
    "В сентябрьской когорте был самый высокий чек - 138.66, но июльская когорта выглядит стабильнее и прибыльнее от месяца к месяцу. Возможно, в сентябрьской когорте была аномально высокая покупка какого-то одного покупателя."
   ]
  },
  {
   "cell_type": "markdown",
   "metadata": {},
   "source": [
    "## Средний чек покупателя на графике"
   ]
  },
  {
   "cell_type": "code",
   "execution_count": 35,
   "metadata": {
    "scrolled": false
   },
   "outputs": [
    {
     "data": {
      "text/plain": [
       "Text(93.5, 0.5, 'Cohorts')"
      ]
     },
     "execution_count": 35,
     "metadata": {},
     "output_type": "execute_result"
    },
    {
     "data": {
      "image/png": "[encoded data removed]",
      "text/plain": [
       "<Figure size 936x648 with 2 Axes>"
      ]
     },
     "metadata": {},
     "output_type": "display_data"
    }
   ],
   "source": [
    "plt.figure(figsize=(13, 9))\n",
    "plt.title('Средний чек покупателей')\n",
    "sns.heatmap(revenue_per_user_pivot, annot=True, fmt='.1f', linewidths=1, linecolor='gray')\n",
    "plt.xlabel('Lifetime')\n",
    "plt.ylabel('Cohorts')"
   ]
  },
  {
   "cell_type": "markdown",
   "metadata": {},
   "source": [
    "---\n",
    "\n",
    "<div class=\"alert alert-block alert-warning\">\n",
    "    \n",
    "\n",
    "### Комментарий от ревьюера V5\n",
    "\n",
    "\n",
    "Выше критичных замечаний нет, за исключением подписей к осям графиков.\n",
    "Давай еще раз попробуем восстановить все замечания вместе :)\n",
    "    \n",
    "</div>\n",
    "\n",
    "---"
   ]
  },
  {
   "cell_type": "markdown",
   "metadata": {},
   "source": [
    "<div class=\"alert alert-block alert-info\">\n",
    "    \n",
    "Юлий, к гистограммам и графикам ниже - подписи добавил путём plt.xlabel и  plt.ylabel\n",
    "    \n",
    "</div>"
   ]
  },
  {
   "cell_type": "markdown",
   "metadata": {},
   "source": [
    "---\n",
    "\n",
    "<div class=\"alert alert-block alert-success\">\n",
    "    \n",
    "\n",
    "### Комментарий от ревьюера V6\n",
    "\n",
    "\n",
    "Теперь твои графики просто загляденье :)\n",
    "    \n",
    "</div>\n",
    "\n",
    "---"
   ]
  },
  {
   "cell_type": "markdown",
   "metadata": {},
   "source": [
    "#### Посчитаем DAU, WAU, MAU по покупкам"
   ]
  },
  {
   "cell_type": "markdown",
   "metadata": {},
   "source": [
    "Добавлю необходимые данные для расчётов."
   ]
  },
  {
   "cell_type": "code",
   "execution_count": 36,
   "metadata": {},
   "outputs": [],
   "source": [
    "orders['buy_time_day'] = orders['buy_time'].dt.date\n",
    "orders['buy_time_week'] = orders['buy_time'].dt.week\n",
    "orders['buy_time_month'] = orders['buy_time'].dt.month\n",
    "orders['buy_time_year'] = orders['buy_time'].dt.year"
   ]
  },
  {
   "cell_type": "code",
   "execution_count": 37,
   "metadata": {},
   "outputs": [
    {
     "name": "stdout",
     "output_type": "stream",
     "text": [
      "Среднее количество покупателей в день: user_id    128\n",
      "dtype: int64\n",
      "Среднее количество покупателей в неделю: user_id    817\n",
      "dtype: int64\n",
      "Среднее количество покупателей в месяц: user_id    3155\n",
      "dtype: int64\n"
     ]
    }
   ],
   "source": [
    "dau_buy = orders.groupby('buy_time_day').agg({'user_id': 'nunique'}).mean().round().astype('int')\n",
    "wau_buy = orders.groupby(['buy_time_year', 'buy_time_week']).agg({'user_id': 'nunique'}).mean().round().astype('int')\n",
    "mau_buy = orders.groupby(['buy_time_year', 'buy_time_month']).agg({'user_id': 'nunique'}).mean().round().astype('int')\n",
    "\n",
    "print('Среднее количество покупателей в день:', dau_buy)\n",
    "print('Среднее количество покупателей в неделю:', wau_buy)\n",
    "print('Среднее количество покупателей в месяц:', mau_buy)"
   ]
  },
  {
   "cell_type": "markdown",
   "metadata": {},
   "source": [
    "#### LTV и CAC"
   ]
  },
  {
   "cell_type": "code",
   "execution_count": 38,
   "metadata": {},
   "outputs": [],
   "source": [
    "orders['order_month'] = orders['buy_time'].astype('datetime64[M]')\n",
    "costs['month'] = costs['date'].astype('datetime64[M]')"
   ]
  },
  {
   "cell_type": "markdown",
   "metadata": {},
   "source": [
    "Месяц первой покупки."
   ]
  },
  {
   "cell_type": "code",
   "execution_count": 39,
   "metadata": {},
   "outputs": [],
   "source": [
    "first_orders = orders.groupby('user_id').agg({'order_month': 'min'}).reset_index()\n",
    "first_orders.columns = ['user_id', '1st_order_month']"
   ]
  },
  {
   "cell_type": "markdown",
   "metadata": {},
   "source": [
    "Предварительно считаю кол-во покупателей."
   ]
  },
  {
   "cell_type": "code",
   "execution_count": 40,
   "metadata": {},
   "outputs": [
    {
     "data": {
      "text/html": [
       "<div>\n",
       "<style scoped>\n",
       "    .dataframe tbody tr th:only-of-type {\n",
       "        vertical-align: middle;\n",
       "    }\n",
       "\n",
       "    .dataframe tbody tr th {\n",
       "        vertical-align: top;\n",
       "    }\n",
       "\n",
       "    .dataframe thead th {\n",
       "        text-align: right;\n",
       "    }\n",
       "</style>\n",
       "<table border=\"1\" class=\"dataframe\">\n",
       "  <thead>\n",
       "    <tr style=\"text-align: right;\">\n",
       "      <th></th>\n",
       "      <th>1st_order_month</th>\n",
       "      <th>n_buyers</th>\n",
       "    </tr>\n",
       "  </thead>\n",
       "  <tbody>\n",
       "    <tr>\n",
       "      <td>0</td>\n",
       "      <td>2017-06-01</td>\n",
       "      <td>2023</td>\n",
       "    </tr>\n",
       "    <tr>\n",
       "      <td>1</td>\n",
       "      <td>2017-07-01</td>\n",
       "      <td>1923</td>\n",
       "    </tr>\n",
       "    <tr>\n",
       "      <td>2</td>\n",
       "      <td>2017-08-01</td>\n",
       "      <td>1370</td>\n",
       "    </tr>\n",
       "    <tr>\n",
       "      <td>3</td>\n",
       "      <td>2017-09-01</td>\n",
       "      <td>2581</td>\n",
       "    </tr>\n",
       "    <tr>\n",
       "      <td>4</td>\n",
       "      <td>2017-10-01</td>\n",
       "      <td>4340</td>\n",
       "    </tr>\n",
       "    <tr>\n",
       "      <td>5</td>\n",
       "      <td>2017-11-01</td>\n",
       "      <td>4081</td>\n",
       "    </tr>\n",
       "    <tr>\n",
       "      <td>6</td>\n",
       "      <td>2017-12-01</td>\n",
       "      <td>4383</td>\n",
       "    </tr>\n",
       "    <tr>\n",
       "      <td>7</td>\n",
       "      <td>2018-01-01</td>\n",
       "      <td>3373</td>\n",
       "    </tr>\n",
       "    <tr>\n",
       "      <td>8</td>\n",
       "      <td>2018-02-01</td>\n",
       "      <td>3651</td>\n",
       "    </tr>\n",
       "    <tr>\n",
       "      <td>9</td>\n",
       "      <td>2018-03-01</td>\n",
       "      <td>3533</td>\n",
       "    </tr>\n",
       "    <tr>\n",
       "      <td>10</td>\n",
       "      <td>2018-04-01</td>\n",
       "      <td>2276</td>\n",
       "    </tr>\n",
       "    <tr>\n",
       "      <td>11</td>\n",
       "      <td>2018-05-01</td>\n",
       "      <td>2988</td>\n",
       "    </tr>\n",
       "    <tr>\n",
       "      <td>12</td>\n",
       "      <td>2018-06-01</td>\n",
       "      <td>1</td>\n",
       "    </tr>\n",
       "  </tbody>\n",
       "</table>\n",
       "</div>"
      ],
      "text/plain": [
       "   1st_order_month  n_buyers\n",
       "0       2017-06-01      2023\n",
       "1       2017-07-01      1923\n",
       "2       2017-08-01      1370\n",
       "3       2017-09-01      2581\n",
       "4       2017-10-01      4340\n",
       "5       2017-11-01      4081\n",
       "6       2017-12-01      4383\n",
       "7       2018-01-01      3373\n",
       "8       2018-02-01      3651\n",
       "9       2018-03-01      3533\n",
       "10      2018-04-01      2276\n",
       "11      2018-05-01      2988\n",
       "12      2018-06-01         1"
      ]
     },
     "metadata": {},
     "output_type": "display_data"
    }
   ],
   "source": [
    "cohort_sizes = first_orders.groupby('1st_order_month').agg({'user_id': 'nunique'}).reset_index()\n",
    "cohort_sizes.columns = ['1st_order_month', 'n_buyers']\n",
    "display(cohort_sizes)"
   ]
  },
  {
   "cell_type": "markdown",
   "metadata": {},
   "source": [
    "Добавлю месяц первой покупки к датафрейму."
   ]
  },
  {
   "cell_type": "code",
   "execution_count": 41,
   "metadata": {},
   "outputs": [],
   "source": [
    "orders_new = pd.merge(orders,first_orders, on='user_id')"
   ]
  },
  {
   "cell_type": "markdown",
   "metadata": {},
   "source": [
    "Когорты."
   ]
  },
  {
   "cell_type": "code",
   "execution_count": 42,
   "metadata": {
    "scrolled": true
   },
   "outputs": [
    {
     "data": {
      "text/html": [
       "<div>\n",
       "<style scoped>\n",
       "    .dataframe tbody tr th:only-of-type {\n",
       "        vertical-align: middle;\n",
       "    }\n",
       "\n",
       "    .dataframe tbody tr th {\n",
       "        vertical-align: top;\n",
       "    }\n",
       "\n",
       "    .dataframe thead th {\n",
       "        text-align: right;\n",
       "    }\n",
       "</style>\n",
       "<table border=\"1\" class=\"dataframe\">\n",
       "  <thead>\n",
       "    <tr style=\"text-align: right;\">\n",
       "      <th></th>\n",
       "      <th>1st_order_month</th>\n",
       "      <th>order_month</th>\n",
       "      <th>sale</th>\n",
       "    </tr>\n",
       "  </thead>\n",
       "  <tbody>\n",
       "    <tr>\n",
       "      <td>0</td>\n",
       "      <td>2017-06-01</td>\n",
       "      <td>2017-06-01</td>\n",
       "      <td>9557.49</td>\n",
       "    </tr>\n",
       "    <tr>\n",
       "      <td>1</td>\n",
       "      <td>2017-06-01</td>\n",
       "      <td>2017-07-01</td>\n",
       "      <td>981.82</td>\n",
       "    </tr>\n",
       "    <tr>\n",
       "      <td>2</td>\n",
       "      <td>2017-06-01</td>\n",
       "      <td>2017-08-01</td>\n",
       "      <td>885.34</td>\n",
       "    </tr>\n",
       "    <tr>\n",
       "      <td>3</td>\n",
       "      <td>2017-06-01</td>\n",
       "      <td>2017-09-01</td>\n",
       "      <td>1931.30</td>\n",
       "    </tr>\n",
       "    <tr>\n",
       "      <td>4</td>\n",
       "      <td>2017-06-01</td>\n",
       "      <td>2017-10-01</td>\n",
       "      <td>2068.58</td>\n",
       "    </tr>\n",
       "  </tbody>\n",
       "</table>\n",
       "</div>"
      ],
      "text/plain": [
       "  1st_order_month order_month     sale\n",
       "0      2017-06-01  2017-06-01  9557.49\n",
       "1      2017-06-01  2017-07-01   981.82\n",
       "2      2017-06-01  2017-08-01   885.34\n",
       "3      2017-06-01  2017-09-01  1931.30\n",
       "4      2017-06-01  2017-10-01  2068.58"
      ]
     },
     "metadata": {},
     "output_type": "display_data"
    }
   ],
   "source": [
    "cohorts = orders_new.groupby(['1st_order_month','order_month']).agg({'sale': 'sum'}).reset_index()\n",
    "display(cohorts.head())"
   ]
  },
  {
   "cell_type": "markdown",
   "metadata": {},
   "source": [
    "Первая покупка в каждый из месяцев."
   ]
  },
  {
   "cell_type": "code",
   "execution_count": 43,
   "metadata": {},
   "outputs": [
    {
     "data": {
      "text/html": [
       "<div>\n",
       "<style scoped>\n",
       "    .dataframe tbody tr th:only-of-type {\n",
       "        vertical-align: middle;\n",
       "    }\n",
       "\n",
       "    .dataframe tbody tr th {\n",
       "        vertical-align: top;\n",
       "    }\n",
       "\n",
       "    .dataframe thead th {\n",
       "        text-align: right;\n",
       "    }\n",
       "</style>\n",
       "<table border=\"1\" class=\"dataframe\">\n",
       "  <thead>\n",
       "    <tr style=\"text-align: right;\">\n",
       "      <th></th>\n",
       "      <th>1st_order_month</th>\n",
       "      <th>n_buyers</th>\n",
       "      <th>order_month</th>\n",
       "      <th>sale</th>\n",
       "    </tr>\n",
       "  </thead>\n",
       "  <tbody>\n",
       "    <tr>\n",
       "      <td>0</td>\n",
       "      <td>2017-06-01</td>\n",
       "      <td>2023</td>\n",
       "      <td>2017-06-01</td>\n",
       "      <td>9557.49</td>\n",
       "    </tr>\n",
       "    <tr>\n",
       "      <td>1</td>\n",
       "      <td>2017-06-01</td>\n",
       "      <td>2023</td>\n",
       "      <td>2017-07-01</td>\n",
       "      <td>981.82</td>\n",
       "    </tr>\n",
       "    <tr>\n",
       "      <td>2</td>\n",
       "      <td>2017-06-01</td>\n",
       "      <td>2023</td>\n",
       "      <td>2017-08-01</td>\n",
       "      <td>885.34</td>\n",
       "    </tr>\n",
       "    <tr>\n",
       "      <td>3</td>\n",
       "      <td>2017-06-01</td>\n",
       "      <td>2023</td>\n",
       "      <td>2017-09-01</td>\n",
       "      <td>1931.30</td>\n",
       "    </tr>\n",
       "    <tr>\n",
       "      <td>4</td>\n",
       "      <td>2017-06-01</td>\n",
       "      <td>2023</td>\n",
       "      <td>2017-10-01</td>\n",
       "      <td>2068.58</td>\n",
       "    </tr>\n",
       "  </tbody>\n",
       "</table>\n",
       "</div>"
      ],
      "text/plain": [
       "  1st_order_month  n_buyers order_month     sale\n",
       "0      2017-06-01      2023  2017-06-01  9557.49\n",
       "1      2017-06-01      2023  2017-07-01   981.82\n",
       "2      2017-06-01      2023  2017-08-01   885.34\n",
       "3      2017-06-01      2023  2017-09-01  1931.30\n",
       "4      2017-06-01      2023  2017-10-01  2068.58"
      ]
     },
     "metadata": {},
     "output_type": "display_data"
    }
   ],
   "source": [
    "report = pd.merge(cohort_sizes, cohorts, on='1st_order_month')\n",
    "display(report.head())"
   ]
  },
  {
   "cell_type": "markdown",
   "metadata": {},
   "source": [
    "Считаем LTV"
   ]
  },
  {
   "cell_type": "code",
   "execution_count": 44,
   "metadata": {
    "scrolled": false
   },
   "outputs": [
    {
     "data": {
      "text/html": [
       "<div>\n",
       "<style scoped>\n",
       "    .dataframe tbody tr th:only-of-type {\n",
       "        vertical-align: middle;\n",
       "    }\n",
       "\n",
       "    .dataframe tbody tr th {\n",
       "        vertical-align: top;\n",
       "    }\n",
       "\n",
       "    .dataframe thead th {\n",
       "        text-align: right;\n",
       "    }\n",
       "</style>\n",
       "<table border=\"1\" class=\"dataframe\">\n",
       "  <thead>\n",
       "    <tr style=\"text-align: right;\">\n",
       "      <th>age</th>\n",
       "      <th>0</th>\n",
       "      <th>1</th>\n",
       "      <th>2</th>\n",
       "      <th>3</th>\n",
       "      <th>4</th>\n",
       "      <th>5</th>\n",
       "      <th>6</th>\n",
       "      <th>7</th>\n",
       "      <th>8</th>\n",
       "      <th>9</th>\n",
       "      <th>10</th>\n",
       "      <th>11</th>\n",
       "    </tr>\n",
       "    <tr>\n",
       "      <th>1st_order_month</th>\n",
       "      <th></th>\n",
       "      <th></th>\n",
       "      <th></th>\n",
       "      <th></th>\n",
       "      <th></th>\n",
       "      <th></th>\n",
       "      <th></th>\n",
       "      <th></th>\n",
       "      <th></th>\n",
       "      <th></th>\n",
       "      <th></th>\n",
       "      <th></th>\n",
       "    </tr>\n",
       "  </thead>\n",
       "  <tbody>\n",
       "    <tr>\n",
       "      <td>2017-06-01</td>\n",
       "      <td>4.724414</td>\n",
       "      <td>0.485329</td>\n",
       "      <td>0.437637</td>\n",
       "      <td>0.954671</td>\n",
       "      <td>1.02253</td>\n",
       "      <td>0.735502</td>\n",
       "      <td>0.95044</td>\n",
       "      <td>0.581592</td>\n",
       "      <td>0.553213</td>\n",
       "      <td>0.605788</td>\n",
       "      <td>0.571261</td>\n",
       "      <td>0.256856</td>\n",
       "    </tr>\n",
       "    <tr>\n",
       "      <td>2017-07-01</td>\n",
       "      <td>6.010218</td>\n",
       "      <td>0.335211</td>\n",
       "      <td>0.623531</td>\n",
       "      <td>0.358976</td>\n",
       "      <td>0.176791</td>\n",
       "      <td>0.156048</td>\n",
       "      <td>0.120208</td>\n",
       "      <td>0.14182</td>\n",
       "      <td>0.161232</td>\n",
       "      <td>0.147145</td>\n",
       "      <td>0.155673</td>\n",
       "      <td></td>\n",
       "    </tr>\n",
       "    <tr>\n",
       "      <td>2017-08-01</td>\n",
       "      <td>5.276518</td>\n",
       "      <td>0.471993</td>\n",
       "      <td>0.458482</td>\n",
       "      <td>0.391277</td>\n",
       "      <td>0.494051</td>\n",
       "      <td>0.28354</td>\n",
       "      <td>0.210664</td>\n",
       "      <td>0.405007</td>\n",
       "      <td>0.292212</td>\n",
       "      <td>0.187978</td>\n",
       "      <td></td>\n",
       "      <td></td>\n",
       "    </tr>\n",
       "    <tr>\n",
       "      <td>2017-09-01</td>\n",
       "      <td>5.644529</td>\n",
       "      <td>1.11759</td>\n",
       "      <td>0.52093</td>\n",
       "      <td>3.97579</td>\n",
       "      <td>0.400558</td>\n",
       "      <td>0.647067</td>\n",
       "      <td>0.701608</td>\n",
       "      <td>0.24315</td>\n",
       "      <td>0.184006</td>\n",
       "      <td></td>\n",
       "      <td></td>\n",
       "      <td></td>\n",
       "    </tr>\n",
       "    <tr>\n",
       "      <td>2017-10-01</td>\n",
       "      <td>5.003733</td>\n",
       "      <td>0.535763</td>\n",
       "      <td>0.191394</td>\n",
       "      <td>0.157145</td>\n",
       "      <td>0.15156</td>\n",
       "      <td>0.120362</td>\n",
       "      <td>0.0848157</td>\n",
       "      <td>0.11547</td>\n",
       "      <td></td>\n",
       "      <td></td>\n",
       "      <td></td>\n",
       "      <td></td>\n",
       "    </tr>\n",
       "    <tr>\n",
       "      <td>2017-11-01</td>\n",
       "      <td>5.154683</td>\n",
       "      <td>0.399233</td>\n",
       "      <td>0.199556</td>\n",
       "      <td>0.324952</td>\n",
       "      <td>0.148013</td>\n",
       "      <td>0.053879</td>\n",
       "      <td>0.114928</td>\n",
       "      <td></td>\n",
       "      <td></td>\n",
       "      <td></td>\n",
       "      <td></td>\n",
       "      <td></td>\n",
       "    </tr>\n",
       "    <tr>\n",
       "      <td>2017-12-01</td>\n",
       "      <td>4.738191</td>\n",
       "      <td>0.260374</td>\n",
       "      <td>0.925097</td>\n",
       "      <td>1.06527</td>\n",
       "      <td>0.31293</td>\n",
       "      <td>0.338047</td>\n",
       "      <td></td>\n",
       "      <td></td>\n",
       "      <td></td>\n",
       "      <td></td>\n",
       "      <td></td>\n",
       "      <td></td>\n",
       "    </tr>\n",
       "    <tr>\n",
       "      <td>2018-01-01</td>\n",
       "      <td>4.135636</td>\n",
       "      <td>0.294758</td>\n",
       "      <td>0.304281</td>\n",
       "      <td>0.142778</td>\n",
       "      <td>0.0626979</td>\n",
       "      <td></td>\n",
       "      <td></td>\n",
       "      <td></td>\n",
       "      <td></td>\n",
       "      <td></td>\n",
       "      <td></td>\n",
       "      <td></td>\n",
       "    </tr>\n",
       "    <tr>\n",
       "      <td>2018-02-01</td>\n",
       "      <td>4.156987</td>\n",
       "      <td>0.278274</td>\n",
       "      <td>0.0785155</td>\n",
       "      <td>0.0741441</td>\n",
       "      <td></td>\n",
       "      <td></td>\n",
       "      <td></td>\n",
       "      <td></td>\n",
       "      <td></td>\n",
       "      <td></td>\n",
       "      <td></td>\n",
       "      <td></td>\n",
       "    </tr>\n",
       "    <tr>\n",
       "      <td>2018-03-01</td>\n",
       "      <td>4.838803</td>\n",
       "      <td>0.300892</td>\n",
       "      <td>0.315559</td>\n",
       "      <td></td>\n",
       "      <td></td>\n",
       "      <td></td>\n",
       "      <td></td>\n",
       "      <td></td>\n",
       "      <td></td>\n",
       "      <td></td>\n",
       "      <td></td>\n",
       "      <td></td>\n",
       "    </tr>\n",
       "    <tr>\n",
       "      <td>2018-04-01</td>\n",
       "      <td>4.657597</td>\n",
       "      <td>0.531599</td>\n",
       "      <td></td>\n",
       "      <td></td>\n",
       "      <td></td>\n",
       "      <td></td>\n",
       "      <td></td>\n",
       "      <td></td>\n",
       "      <td></td>\n",
       "      <td></td>\n",
       "      <td></td>\n",
       "      <td></td>\n",
       "    </tr>\n",
       "    <tr>\n",
       "      <td>2018-05-01</td>\n",
       "      <td>4.660562</td>\n",
       "      <td></td>\n",
       "      <td></td>\n",
       "      <td></td>\n",
       "      <td></td>\n",
       "      <td></td>\n",
       "      <td></td>\n",
       "      <td></td>\n",
       "      <td></td>\n",
       "      <td></td>\n",
       "      <td></td>\n",
       "      <td></td>\n",
       "    </tr>\n",
       "    <tr>\n",
       "      <td>2018-06-01</td>\n",
       "      <td>3.420000</td>\n",
       "      <td></td>\n",
       "      <td></td>\n",
       "      <td></td>\n",
       "      <td></td>\n",
       "      <td></td>\n",
       "      <td></td>\n",
       "      <td></td>\n",
       "      <td></td>\n",
       "      <td></td>\n",
       "      <td></td>\n",
       "      <td></td>\n",
       "    </tr>\n",
       "  </tbody>\n",
       "</table>\n",
       "</div>"
      ],
      "text/plain": [
       "age                    0         1          2          3          4   \\\n",
       "1st_order_month                                                        \n",
       "2017-06-01       4.724414  0.485329   0.437637   0.954671    1.02253   \n",
       "2017-07-01       6.010218  0.335211   0.623531   0.358976   0.176791   \n",
       "2017-08-01       5.276518  0.471993   0.458482   0.391277   0.494051   \n",
       "2017-09-01       5.644529   1.11759    0.52093    3.97579   0.400558   \n",
       "2017-10-01       5.003733  0.535763   0.191394   0.157145    0.15156   \n",
       "2017-11-01       5.154683  0.399233   0.199556   0.324952   0.148013   \n",
       "2017-12-01       4.738191  0.260374   0.925097    1.06527    0.31293   \n",
       "2018-01-01       4.135636  0.294758   0.304281   0.142778  0.0626979   \n",
       "2018-02-01       4.156987  0.278274  0.0785155  0.0741441              \n",
       "2018-03-01       4.838803  0.300892   0.315559                         \n",
       "2018-04-01       4.657597  0.531599                                    \n",
       "2018-05-01       4.660562                                              \n",
       "2018-06-01       3.420000                                              \n",
       "\n",
       "age                    5          6         7         8         9         10  \\\n",
       "1st_order_month                                                                \n",
       "2017-06-01       0.735502    0.95044  0.581592  0.553213  0.605788  0.571261   \n",
       "2017-07-01       0.156048   0.120208   0.14182  0.161232  0.147145  0.155673   \n",
       "2017-08-01        0.28354   0.210664  0.405007  0.292212  0.187978             \n",
       "2017-09-01       0.647067   0.701608   0.24315  0.184006                       \n",
       "2017-10-01       0.120362  0.0848157   0.11547                                 \n",
       "2017-11-01       0.053879   0.114928                                           \n",
       "2017-12-01       0.338047                                                      \n",
       "2018-01-01                                                                     \n",
       "2018-02-01                                                                     \n",
       "2018-03-01                                                                     \n",
       "2018-04-01                                                                     \n",
       "2018-05-01                                                                     \n",
       "2018-06-01                                                                     \n",
       "\n",
       "age                    11  \n",
       "1st_order_month            \n",
       "2017-06-01       0.256856  \n",
       "2017-07-01                 \n",
       "2017-08-01                 \n",
       "2017-09-01                 \n",
       "2017-10-01                 \n",
       "2017-11-01                 \n",
       "2017-12-01                 \n",
       "2018-01-01                 \n",
       "2018-02-01                 \n",
       "2018-03-01                 \n",
       "2018-04-01                 \n",
       "2018-05-01                 \n",
       "2018-06-01                 "
      ]
     },
     "execution_count": 44,
     "metadata": {},
     "output_type": "execute_result"
    }
   ],
   "source": [
    "report['age'] = (report['order_month'] - report['1st_order_month']) / np.timedelta64(1, 'M')\n",
    "report['age'] = report['age'].round().astype('int')\n",
    "\n",
    "report['ltv'] = report['sale'] / report['n_buyers']\n",
    "report = report.reset_index()\n",
    "    \n",
    "output = report.pivot_table(\n",
    "        index='1st_order_month', \n",
    "        columns='age', \n",
    "        values='ltv', \n",
    "        aggfunc='mean')\n",
    "    \n",
    "output.fillna('')"
   ]
  },
  {
   "cell_type": "markdown",
   "metadata": {},
   "source": [
    "### LTV на графике."
   ]
  },
  {
   "cell_type": "code",
   "execution_count": 45,
   "metadata": {
    "scrolled": false
   },
   "outputs": [
    {
     "data": {
      "text/plain": [
       "Text(93.49999999999999, 0.5, 'Cohorts')"
      ]
     },
     "execution_count": 45,
     "metadata": {},
     "output_type": "execute_result"
    },
    {
     "data": {
      "image/png": "[encoded data removed]",
      "text/plain": [
       "<Figure size 936x648 with 2 Axes>"
      ]
     },
     "metadata": {},
     "output_type": "display_data"
    }
   ],
   "source": [
    "plt.figure(figsize=(13, 9))\n",
    "plt.title('Сколько денег принес посетитель (LTV)')\n",
    "sns.heatmap(output, annot=True, fmt='.2f', linewidths=1, linecolor='black')\n",
    "plt.xlabel('Age')\n",
    "plt.ylabel('Cohorts')"
   ]
  },
  {
   "cell_type": "markdown",
   "metadata": {},
   "source": [
    "---\n",
    "\n",
    "<div class=\"alert alert-block alert-danger\">\n",
    "    \n",
    "\n",
    "### Комментарий от ревьюера V5\n",
    "\n",
    "Здорово, что попытался посчитать LTV. Но LTV - накопительная метрика \n",
    "\n",
    "</div>\n",
    "\n",
    "---"
   ]
  },
  {
   "cell_type": "markdown",
   "metadata": {},
   "source": [
    "<div class=\"alert alert-block alert-info\">\n",
    "    \n",
    "Ну с этим то я точно справлюсь =)\n",
    "    \n",
    "    Этот блок по первой когорте я сделал для себя. Ниже расчитан CAC как нужно, в секции CAC ROMI\n",
    "    \n",
    "</div>\n",
    "    \n",
    "---"
   ]
  },
  {
   "cell_type": "code",
   "execution_count": 46,
   "metadata": {},
   "outputs": [
    {
     "name": "stdout",
     "output_type": "stream",
     "text": [
      "Накопительный LTV: 7.285714285714286\n"
     ]
    }
   ],
   "source": [
    "result = report.pivot_table(\n",
    "         index = '1st_order_month',\n",
    "         columns = 'age',\n",
    "         values = 'ltv',\n",
    "         aggfunc = 'mean').round()\n",
    "m6_cum_ltv = result.cumsum(axis = 1).mean(axis = 0)[5]\n",
    "print('Накопительный LTV:', m6_cum_ltv)"
   ]
  },
  {
   "cell_type": "markdown",
   "metadata": {},
   "source": [
    "### Вывод по LTV\n",
    "\n",
    "Как мы видим, за первые 6 месяцев средняя ценность клиента 7.285714285714286. Значит, маркетологам надо тратить меньше этой суммы на привлечение клиента.\n",
    "\n",
    "Мы выяснили, что в среднем проходит около 10 минут, прежде чем пользователь делает покупку. Покупают пользователи более 2 раз в месяц. Это хороший показатель, учитывая специфику сервиса.\n",
    "С точки зрения прибыли самые успешные месяцы **сентябрь и декабрь 2017**. Это легко объясняется сезонностью. Ценнсоть клиента 7.285714285714286. Значит маркетологам надо тратить меньше этой суммы на привлечение клиента"
   ]
  },
  {
   "cell_type": "markdown",
   "metadata": {},
   "source": [
    "---\n",
    "\n",
    "<div class=\"alert alert-block alert-success\">\n",
    "    \n",
    "\n",
    "### Комментарий от ревьюера V6\n",
    "\n",
    "Отлично - теперь верно\n",
    "\n",
    "</div>\n",
    "\n",
    "---"
   ]
  },
  {
   "cell_type": "markdown",
   "metadata": {},
   "source": [
    "#### Посчитаем LTV и CAC по 2017-06"
   ]
  },
  {
   "cell_type": "code",
   "execution_count": 47,
   "metadata": {
    "scrolled": true
   },
   "outputs": [
    {
     "name": "stdout",
     "output_type": "stream",
     "text": [
      "CAC = 8.905091448344043\n",
      "LTV = 11.879233811171527\n"
     ]
    }
   ],
   "source": [
    "ltv_201706 = output.loc['2017-06-01'].sum()\n",
    "cohort_201706 = report[report['1st_order_month'] == '2017-06-01']\n",
    "\n",
    "costs_201706 = costs[costs['month'] == '2017-06-01']['costs'].sum()\n",
    "\n",
    "n_buyers_201706 = cohort_201706['n_buyers'][0]\n",
    "cac_201706 = costs_201706 / n_buyers_201706\n",
    "ltv_201706   = output.loc['2017-06-01'].sum()\n",
    "\n",
    "print('CAC =', cac_201706)\n",
    "print('LTV =', ltv_201706)"
   ]
  },
  {
   "cell_type": "markdown",
   "metadata": {},
   "source": [
    "Посчитаем расходы по месяцу."
   ]
  },
  {
   "cell_type": "code",
   "execution_count": 48,
   "metadata": {},
   "outputs": [
    {
     "data": {
      "text/html": [
       "<div>\n",
       "<style scoped>\n",
       "    .dataframe tbody tr th:only-of-type {\n",
       "        vertical-align: middle;\n",
       "    }\n",
       "\n",
       "    .dataframe tbody tr th {\n",
       "        vertical-align: top;\n",
       "    }\n",
       "\n",
       "    .dataframe thead th {\n",
       "        text-align: right;\n",
       "    }\n",
       "</style>\n",
       "<table border=\"1\" class=\"dataframe\">\n",
       "  <thead>\n",
       "    <tr style=\"text-align: right;\">\n",
       "      <th></th>\n",
       "      <th>source_id</th>\n",
       "      <th>costs</th>\n",
       "    </tr>\n",
       "    <tr>\n",
       "      <th>month</th>\n",
       "      <th></th>\n",
       "      <th></th>\n",
       "    </tr>\n",
       "  </thead>\n",
       "  <tbody>\n",
       "    <tr>\n",
       "      <td>2017-06-01</td>\n",
       "      <td>1020</td>\n",
       "      <td>18015.00</td>\n",
       "    </tr>\n",
       "    <tr>\n",
       "      <td>2017-07-01</td>\n",
       "      <td>1054</td>\n",
       "      <td>18240.59</td>\n",
       "    </tr>\n",
       "    <tr>\n",
       "      <td>2017-08-01</td>\n",
       "      <td>1054</td>\n",
       "      <td>14790.54</td>\n",
       "    </tr>\n",
       "    <tr>\n",
       "      <td>2017-09-01</td>\n",
       "      <td>1020</td>\n",
       "      <td>24368.91</td>\n",
       "    </tr>\n",
       "    <tr>\n",
       "      <td>2017-10-01</td>\n",
       "      <td>1054</td>\n",
       "      <td>36322.88</td>\n",
       "    </tr>\n",
       "  </tbody>\n",
       "</table>\n",
       "</div>"
      ],
      "text/plain": [
       "            source_id     costs\n",
       "month                          \n",
       "2017-06-01       1020  18015.00\n",
       "2017-07-01       1054  18240.59\n",
       "2017-08-01       1054  14790.54\n",
       "2017-09-01       1020  24368.91\n",
       "2017-10-01       1054  36322.88"
      ]
     },
     "execution_count": 48,
     "metadata": {},
     "output_type": "execute_result"
    }
   ],
   "source": [
    "monthly_costs = costs.groupby('month').sum()\n",
    "monthly_costs.head()"
   ]
  },
  {
   "cell_type": "markdown",
   "metadata": {},
   "source": [
    "---\n",
    "\n",
    "<div class=\"alert alert-block alert-danger\">\n",
    "    \n",
    "\n",
    "### Комментарий от ревьюера V5\n",
    "\n",
    "\n",
    "Здесь ты посчитал и сравнил показатели только по первой когорте, но выводы нужно сделать по итогам сравнения LTV и CAC по когортам, \"прожившим\" одинаковое время\n",
    "</div>\n",
    "\n",
    "---"
   ]
  },
  {
   "cell_type": "markdown",
   "metadata": {},
   "source": [
    "<div class=\"alert alert-block alert-info\">\n",
    "    \n",
    "Этот блок по первой когорте я сделал для себя. Ниже расчитан CAC как нужно, в секции CAC ROMI\n",
    "    \n",
    "</div>\n",
    "    \n",
    "---"
   ]
  },
  {
   "cell_type": "markdown",
   "metadata": {},
   "source": [
    "---\n",
    "\n",
    "<div class=\"alert alert-block alert-success\">\n",
    "    \n",
    "\n",
    "### Комментарий от ревьюера V6\n",
    "\n",
    "Ясно\n",
    "\n",
    "</div>\n",
    "\n",
    "---"
   ]
  },
  {
   "cell_type": "markdown",
   "metadata": {},
   "source": [
    "##### CAC и ROMI"
   ]
  },
  {
   "cell_type": "code",
   "execution_count": 49,
   "metadata": {},
   "outputs": [
    {
     "name": "stdout",
     "output_type": "stream",
     "text": [
      "CAC 9.319905176921116\n"
     ]
    },
    {
     "data": {
      "text/html": [
       "<div>\n",
       "<style scoped>\n",
       "    .dataframe tbody tr th:only-of-type {\n",
       "        vertical-align: middle;\n",
       "    }\n",
       "\n",
       "    .dataframe tbody tr th {\n",
       "        vertical-align: top;\n",
       "    }\n",
       "\n",
       "    .dataframe thead th {\n",
       "        text-align: right;\n",
       "    }\n",
       "</style>\n",
       "<table border=\"1\" class=\"dataframe\">\n",
       "  <thead>\n",
       "    <tr style=\"text-align: right;\">\n",
       "      <th>age</th>\n",
       "      <th>0</th>\n",
       "      <th>1</th>\n",
       "      <th>2</th>\n",
       "      <th>3</th>\n",
       "      <th>4</th>\n",
       "      <th>5</th>\n",
       "      <th>6</th>\n",
       "      <th>7</th>\n",
       "      <th>8</th>\n",
       "      <th>9</th>\n",
       "      <th>10</th>\n",
       "      <th>11</th>\n",
       "    </tr>\n",
       "    <tr>\n",
       "      <th>1st_order_month</th>\n",
       "      <th></th>\n",
       "      <th></th>\n",
       "      <th></th>\n",
       "      <th></th>\n",
       "      <th></th>\n",
       "      <th></th>\n",
       "      <th></th>\n",
       "      <th></th>\n",
       "      <th></th>\n",
       "      <th></th>\n",
       "      <th></th>\n",
       "      <th></th>\n",
       "    </tr>\n",
       "  </thead>\n",
       "  <tbody>\n",
       "    <tr>\n",
       "      <td>2017-06-01</td>\n",
       "      <td>0.53</td>\n",
       "      <td>0.59</td>\n",
       "      <td>0.63</td>\n",
       "      <td>0.74</td>\n",
       "      <td>0.86</td>\n",
       "      <td>0.94</td>\n",
       "      <td>1.05</td>\n",
       "      <td>1.11</td>\n",
       "      <td>1.17</td>\n",
       "      <td>1.24</td>\n",
       "      <td>1.31</td>\n",
       "      <td>1.33</td>\n",
       "    </tr>\n",
       "    <tr>\n",
       "      <td>2017-07-01</td>\n",
       "      <td>0.63</td>\n",
       "      <td>0.67</td>\n",
       "      <td>0.73</td>\n",
       "      <td>0.77</td>\n",
       "      <td>0.79</td>\n",
       "      <td>0.81</td>\n",
       "      <td>0.82</td>\n",
       "      <td>0.84</td>\n",
       "      <td>0.85</td>\n",
       "      <td>0.87</td>\n",
       "      <td>0.88</td>\n",
       "      <td>NaN</td>\n",
       "    </tr>\n",
       "    <tr>\n",
       "      <td>2017-08-01</td>\n",
       "      <td>0.49</td>\n",
       "      <td>0.53</td>\n",
       "      <td>0.57</td>\n",
       "      <td>0.61</td>\n",
       "      <td>0.66</td>\n",
       "      <td>0.68</td>\n",
       "      <td>0.70</td>\n",
       "      <td>0.74</td>\n",
       "      <td>0.77</td>\n",
       "      <td>0.78</td>\n",
       "      <td>NaN</td>\n",
       "      <td>NaN</td>\n",
       "    </tr>\n",
       "    <tr>\n",
       "      <td>2017-09-01</td>\n",
       "      <td>0.60</td>\n",
       "      <td>0.72</td>\n",
       "      <td>0.77</td>\n",
       "      <td>1.19</td>\n",
       "      <td>1.23</td>\n",
       "      <td>1.30</td>\n",
       "      <td>1.38</td>\n",
       "      <td>1.40</td>\n",
       "      <td>1.42</td>\n",
       "      <td>NaN</td>\n",
       "      <td>NaN</td>\n",
       "      <td>NaN</td>\n",
       "    </tr>\n",
       "    <tr>\n",
       "      <td>2017-10-01</td>\n",
       "      <td>0.60</td>\n",
       "      <td>0.66</td>\n",
       "      <td>0.68</td>\n",
       "      <td>0.70</td>\n",
       "      <td>0.72</td>\n",
       "      <td>0.74</td>\n",
       "      <td>0.75</td>\n",
       "      <td>0.76</td>\n",
       "      <td>NaN</td>\n",
       "      <td>NaN</td>\n",
       "      <td>NaN</td>\n",
       "      <td>NaN</td>\n",
       "    </tr>\n",
       "    <tr>\n",
       "      <td>2017-11-01</td>\n",
       "      <td>0.55</td>\n",
       "      <td>0.60</td>\n",
       "      <td>0.62</td>\n",
       "      <td>0.65</td>\n",
       "      <td>0.67</td>\n",
       "      <td>0.68</td>\n",
       "      <td>0.69</td>\n",
       "      <td>NaN</td>\n",
       "      <td>NaN</td>\n",
       "      <td>NaN</td>\n",
       "      <td>NaN</td>\n",
       "      <td>NaN</td>\n",
       "    </tr>\n",
       "    <tr>\n",
       "      <td>2017-12-01</td>\n",
       "      <td>0.54</td>\n",
       "      <td>0.57</td>\n",
       "      <td>0.68</td>\n",
       "      <td>0.80</td>\n",
       "      <td>0.84</td>\n",
       "      <td>0.87</td>\n",
       "      <td>NaN</td>\n",
       "      <td>NaN</td>\n",
       "      <td>NaN</td>\n",
       "      <td>NaN</td>\n",
       "      <td>NaN</td>\n",
       "      <td>NaN</td>\n",
       "    </tr>\n",
       "    <tr>\n",
       "      <td>2018-01-01</td>\n",
       "      <td>0.42</td>\n",
       "      <td>0.45</td>\n",
       "      <td>0.48</td>\n",
       "      <td>0.49</td>\n",
       "      <td>0.50</td>\n",
       "      <td>NaN</td>\n",
       "      <td>NaN</td>\n",
       "      <td>NaN</td>\n",
       "      <td>NaN</td>\n",
       "      <td>NaN</td>\n",
       "      <td>NaN</td>\n",
       "      <td>NaN</td>\n",
       "    </tr>\n",
       "    <tr>\n",
       "      <td>2018-02-01</td>\n",
       "      <td>0.46</td>\n",
       "      <td>0.49</td>\n",
       "      <td>0.50</td>\n",
       "      <td>0.51</td>\n",
       "      <td>NaN</td>\n",
       "      <td>NaN</td>\n",
       "      <td>NaN</td>\n",
       "      <td>NaN</td>\n",
       "      <td>NaN</td>\n",
       "      <td>NaN</td>\n",
       "      <td>NaN</td>\n",
       "      <td>NaN</td>\n",
       "    </tr>\n",
       "    <tr>\n",
       "      <td>2018-03-01</td>\n",
       "      <td>0.56</td>\n",
       "      <td>0.60</td>\n",
       "      <td>0.63</td>\n",
       "      <td>NaN</td>\n",
       "      <td>NaN</td>\n",
       "      <td>NaN</td>\n",
       "      <td>NaN</td>\n",
       "      <td>NaN</td>\n",
       "      <td>NaN</td>\n",
       "      <td>NaN</td>\n",
       "      <td>NaN</td>\n",
       "      <td>NaN</td>\n",
       "    </tr>\n",
       "    <tr>\n",
       "      <td>2018-04-01</td>\n",
       "      <td>0.48</td>\n",
       "      <td>0.53</td>\n",
       "      <td>NaN</td>\n",
       "      <td>NaN</td>\n",
       "      <td>NaN</td>\n",
       "      <td>NaN</td>\n",
       "      <td>NaN</td>\n",
       "      <td>NaN</td>\n",
       "      <td>NaN</td>\n",
       "      <td>NaN</td>\n",
       "      <td>NaN</td>\n",
       "      <td>NaN</td>\n",
       "    </tr>\n",
       "    <tr>\n",
       "      <td>2018-05-01</td>\n",
       "      <td>0.63</td>\n",
       "      <td>NaN</td>\n",
       "      <td>NaN</td>\n",
       "      <td>NaN</td>\n",
       "      <td>NaN</td>\n",
       "      <td>NaN</td>\n",
       "      <td>NaN</td>\n",
       "      <td>NaN</td>\n",
       "      <td>NaN</td>\n",
       "      <td>NaN</td>\n",
       "      <td>NaN</td>\n",
       "      <td>NaN</td>\n",
       "    </tr>\n",
       "  </tbody>\n",
       "</table>\n",
       "</div>"
      ],
      "text/plain": [
       "age                0     1     2     3     4     5     6     7     8     9   \\\n",
       "1st_order_month                                                               \n",
       "2017-06-01       0.53  0.59  0.63  0.74  0.86  0.94  1.05  1.11  1.17  1.24   \n",
       "2017-07-01       0.63  0.67  0.73  0.77  0.79  0.81  0.82  0.84  0.85  0.87   \n",
       "2017-08-01       0.49  0.53  0.57  0.61  0.66  0.68  0.70  0.74  0.77  0.78   \n",
       "2017-09-01       0.60  0.72  0.77  1.19  1.23  1.30  1.38  1.40  1.42   NaN   \n",
       "2017-10-01       0.60  0.66  0.68  0.70  0.72  0.74  0.75  0.76   NaN   NaN   \n",
       "2017-11-01       0.55  0.60  0.62  0.65  0.67  0.68  0.69   NaN   NaN   NaN   \n",
       "2017-12-01       0.54  0.57  0.68  0.80  0.84  0.87   NaN   NaN   NaN   NaN   \n",
       "2018-01-01       0.42  0.45  0.48  0.49  0.50   NaN   NaN   NaN   NaN   NaN   \n",
       "2018-02-01       0.46  0.49  0.50  0.51   NaN   NaN   NaN   NaN   NaN   NaN   \n",
       "2018-03-01       0.56  0.60  0.63   NaN   NaN   NaN   NaN   NaN   NaN   NaN   \n",
       "2018-04-01       0.48  0.53   NaN   NaN   NaN   NaN   NaN   NaN   NaN   NaN   \n",
       "2018-05-01       0.63   NaN   NaN   NaN   NaN   NaN   NaN   NaN   NaN   NaN   \n",
       "\n",
       "age                10    11  \n",
       "1st_order_month              \n",
       "2017-06-01       1.31  1.33  \n",
       "2017-07-01       0.88   NaN  \n",
       "2017-08-01        NaN   NaN  \n",
       "2017-09-01        NaN   NaN  \n",
       "2017-10-01        NaN   NaN  \n",
       "2017-11-01        NaN   NaN  \n",
       "2017-12-01        NaN   NaN  \n",
       "2018-01-01        NaN   NaN  \n",
       "2018-02-01        NaN   NaN  \n",
       "2018-03-01        NaN   NaN  \n",
       "2018-04-01        NaN   NaN  \n",
       "2018-05-01        NaN   NaN  "
      ]
     },
     "execution_count": 49,
     "metadata": {},
     "output_type": "execute_result"
    }
   ],
   "source": [
    "report_new = pd.merge(report, monthly_costs, left_on='1st_order_month', right_on='month')\n",
    "report_new['cac'] = report_new['costs'] / report_new['n_buyers']\n",
    "report_new['romi'] = report_new['ltv'] / report_new['cac']\n",
    "\n",
    "print('CAC',report_new['cac'].mean())\n",
    "output = report_new.pivot_table(\n",
    "        index='1st_order_month', \n",
    "        columns='age', \n",
    "        values='romi', \n",
    "        aggfunc='mean')\n",
    "\n",
    "output.cumsum(axis=1).round(2)"
   ]
  },
  {
   "cell_type": "markdown",
   "metadata": {},
   "source": [
    "Только две когорты на данный момент окупились - июньская и сентябрьская."
   ]
  },
  {
   "cell_type": "markdown",
   "metadata": {},
   "source": [
    "Посмотрим на \"среднюю когорту\"."
   ]
  },
  {
   "cell_type": "code",
   "execution_count": 50,
   "metadata": {},
   "outputs": [
    {
     "data": {
      "text/plain": [
       "age\n",
       "0     0.540816\n",
       "1     0.581985\n",
       "2     0.631069\n",
       "3     0.719740\n",
       "4     0.782946\n",
       "5     0.859876\n",
       "6     0.896819\n",
       "7     0.969951\n",
       "8     1.053871\n",
       "9     0.964488\n",
       "10    1.094658\n",
       "11    1.333982\n",
       "dtype: float64"
      ]
     },
     "execution_count": 50,
     "metadata": {},
     "output_type": "execute_result"
    }
   ],
   "source": [
    "output.cumsum(axis=1).mean(axis=0)"
   ]
  },
  {
   "cell_type": "markdown",
   "metadata": {},
   "source": [
    "В среднем, когорты окупаются только через 8 месяцев."
   ]
  },
  {
   "cell_type": "markdown",
   "metadata": {},
   "source": [
    "---\n",
    "\n",
    "<div class=\"alert alert-block alert-success\">\n",
    "    \n",
    "\n",
    "### Комментарий от ревьюера V3\n",
    "\n",
    "\n",
    "По окупаемости когорт верный вывод, и по средней когорте тоже все отлично\n",
    "</div>\n",
    "\n",
    "---"
   ]
  },
  {
   "cell_type": "markdown",
   "metadata": {},
   "source": [
    "## Вывод по продажам: \n",
    "\n",
    "Средняя окупаемость когорты составляет 8 месяцев.\n",
    "\n",
    "Окупились когорты июня и сентября.\n",
    "\n",
    "LTV > CAC - это говорит о том, что вложения оправдываются.\n",
    "\n",
    "Самый большой LTV у когорт с июля по сентябрь. Также стоит отметить, что самый высокий средний чек был в сентябре."
   ]
  },
  {
   "cell_type": "markdown",
   "metadata": {},
   "source": [
    "---\n",
    "\n",
    "<div class=\"alert alert-block alert-danger\">\n",
    "    \n",
    "\n",
    "### Комментарий от ревьюера V5\n",
    "\n",
    "\n",
    "После сравнения когорт, проживших одинаковое количество периодов, возможно придется скорректировать вывод\n",
    "</div>\n",
    "\n",
    "---"
   ]
  },
  {
   "cell_type": "markdown",
   "metadata": {},
   "source": [
    "<div class=\"alert alert-block alert-info\">\n",
    "    \n",
    "ОК\n",
    "    \n",
    "</div>"
   ]
  },
  {
   "cell_type": "markdown",
   "metadata": {},
   "source": [
    "---\n",
    "\n",
    "<div class=\"alert alert-block alert-warning\">\n",
    "    \n",
    "\n",
    "### Комментарий от ревьюера V6\n",
    "\n",
    "\n",
    "Обрати, пожалуйста, внимание, что в расчетах LTV < САС, а в выводах наоборот  \n",
    "</div>\n",
    "\n",
    "---"
   ]
  },
  {
   "cell_type": "markdown",
   "metadata": {},
   "source": [
    "## Анализ маркетинга"
   ]
  },
  {
   "cell_type": "code",
   "execution_count": 51,
   "metadata": {},
   "outputs": [
    {
     "name": "stdout",
     "output_type": "stream",
     "text": [
      "Потратили всего денег: 329131.62\n"
     ]
    }
   ],
   "source": [
    "print('Потратили всего денег:', costs['costs'].sum())"
   ]
  },
  {
   "cell_type": "code",
   "execution_count": 52,
   "metadata": {
    "scrolled": true
   },
   "outputs": [
    {
     "name": "stdout",
     "output_type": "stream",
     "text": [
      "Потратили денег на каждый источник:\n"
     ]
    },
    {
     "data": {
      "text/html": [
       "<div>\n",
       "<style scoped>\n",
       "    .dataframe tbody tr th:only-of-type {\n",
       "        vertical-align: middle;\n",
       "    }\n",
       "\n",
       "    .dataframe tbody tr th {\n",
       "        vertical-align: top;\n",
       "    }\n",
       "\n",
       "    .dataframe thead th {\n",
       "        text-align: right;\n",
       "    }\n",
       "</style>\n",
       "<table border=\"1\" class=\"dataframe\">\n",
       "  <thead>\n",
       "    <tr style=\"text-align: right;\">\n",
       "      <th></th>\n",
       "      <th>costs</th>\n",
       "    </tr>\n",
       "    <tr>\n",
       "      <th>source_id</th>\n",
       "      <th></th>\n",
       "    </tr>\n",
       "  </thead>\n",
       "  <tbody>\n",
       "    <tr>\n",
       "      <td>1</td>\n",
       "      <td>20833.27</td>\n",
       "    </tr>\n",
       "    <tr>\n",
       "      <td>2</td>\n",
       "      <td>42806.04</td>\n",
       "    </tr>\n",
       "    <tr>\n",
       "      <td>3</td>\n",
       "      <td>141321.63</td>\n",
       "    </tr>\n",
       "    <tr>\n",
       "      <td>4</td>\n",
       "      <td>61073.60</td>\n",
       "    </tr>\n",
       "    <tr>\n",
       "      <td>5</td>\n",
       "      <td>51757.10</td>\n",
       "    </tr>\n",
       "    <tr>\n",
       "      <td>9</td>\n",
       "      <td>5517.49</td>\n",
       "    </tr>\n",
       "    <tr>\n",
       "      <td>10</td>\n",
       "      <td>5822.49</td>\n",
       "    </tr>\n",
       "  </tbody>\n",
       "</table>\n",
       "</div>"
      ],
      "text/plain": [
       "               costs\n",
       "source_id           \n",
       "1           20833.27\n",
       "2           42806.04\n",
       "3          141321.63\n",
       "4           61073.60\n",
       "5           51757.10\n",
       "9            5517.49\n",
       "10           5822.49"
      ]
     },
     "metadata": {},
     "output_type": "display_data"
    }
   ],
   "source": [
    "print('Потратили денег на каждый источник:')\n",
    "display(costs.groupby('source_id').agg({'costs': 'sum'}))"
   ]
  },
  {
   "cell_type": "markdown",
   "metadata": {},
   "source": [
    "Создам несколько функций, которые строят графики для удобства"
   ]
  },
  {
   "cell_type": "code",
   "execution_count": 53,
   "metadata": {},
   "outputs": [],
   "source": [
    "costs['costs_date_day'] = costs['date'].dt.date\n",
    "costs['costs_date_week'] = costs['date'].dt.week\n",
    "costs['costs_date_month'] = costs['date'].dt.month\n",
    "costs['costs_date_year'] = costs['date'].dt.year\n",
    "\n",
    "def graph(data):\n",
    "    data.plot(x = 'costs_date_month',\n",
    "           y = 'costs',\n",
    "           style = 'o-',\n",
    "           figsize = (15, 7),\n",
    "           ax = ax,\n",
    "           grid = True,\n",
    "           legend = True)"
   ]
  },
  {
   "cell_type": "code",
   "execution_count": 54,
   "metadata": {},
   "outputs": [],
   "source": [
    "costs_month = costs.groupby(['source_id', 'costs_date_month']).agg({'costs': 'sum'}).reset_index()"
   ]
  },
  {
   "cell_type": "markdown",
   "metadata": {},
   "source": [
    "## Денег потратили на каждый источник по времени."
   ]
  },
  {
   "cell_type": "code",
   "execution_count": 55,
   "metadata": {
    "scrolled": false
   },
   "outputs": [
    {
     "data": {
      "image/png": "[encoded data removed]",
      "text/plain": [
       "<Figure size 1080x504 with 1 Axes>"
      ]
     },
     "metadata": {},
     "output_type": "display_data"
    }
   ],
   "source": [
    "fig, ax = plt.subplots()\n",
    "plt.title('Денег потратили на каждый источник за единицу времени')\n",
    "plt.xlabel('costs_date_month')\n",
    "plt.ylabel('costs')\n",
    "for i in costs_month['source_id'].unique():\n",
    "    graph(costs_month.query('source_id == @i'))"
   ]
  },
  {
   "cell_type": "markdown",
   "metadata": {},
   "source": [
    "### Вывод: \n",
    "\n",
    "Самые дорогие 3, 4 и 5 источники. Больше всего денег затрачено на 3 источник, что составляет порядка 42% от суммарных затрат.\n",
    "\n",
    "Суммарно затрачено - 329131.62."
   ]
  },
  {
   "cell_type": "markdown",
   "metadata": {},
   "source": [
    "## Стоимость привлечения одного покупателя из каждого источника"
   ]
  },
  {
   "cell_type": "code",
   "execution_count": 56,
   "metadata": {},
   "outputs": [],
   "source": [
    "source_user = visits.groupby(['device', 'source_id', 'user_id', 'session_date']).agg({'sale': 'sum'}).reset_index()\n",
    "count_visitors_in_source = source_user.groupby(['device', 'source_id', 'session_date']).agg({'user_id': 'nunique', 'sale': 'sum'}).reset_index()\n",
    "count_costs_in_source = costs.groupby(['source_id', 'costs_date_day']).agg({'costs': 'sum'}).reset_index()\n",
    "count_costs_in_source.set_axis(['source_id', 'session_date', 'costs'], axis = 'columns', inplace = True)\n",
    "count_visitors_in_source_and_cost = count_visitors_in_source.merge(count_costs_in_source, on = ['source_id', 'session_date'], how = 'left')\n",
    "count_visitors_in_source_and_cost['one_visit_cost'] = count_visitors_in_source_and_cost['costs'] / count_visitors_in_source_and_cost['user_id']\n",
    "count_one_visit_cost = count_visitors_in_source_and_cost.groupby(['device', 'source_id']).agg({'one_visit_cost': 'mean'}).reset_index()\n",
    "source_on_desktop = count_one_visit_cost[count_one_visit_cost['device'] =='desktop']\n",
    "source_on_touch = count_one_visit_cost[count_one_visit_cost['device'] == 'touch']"
   ]
  },
  {
   "cell_type": "code",
   "execution_count": 57,
   "metadata": {},
   "outputs": [
    {
     "data": {
      "text/plain": [
       "Text(0, 0.5, 'one_visit_cost')"
      ]
     },
     "execution_count": 57,
     "metadata": {},
     "output_type": "execute_result"
    },
    {
     "data": {
      "image/png": "[encoded data removed]",
      "text/plain": [
       "<Figure size 432x288 with 1 Axes>"
      ]
     },
     "metadata": {},
     "output_type": "display_data"
    },
    {
     "data": {
      "image/png": "[encoded data removed]",
      "text/plain": [
       "<Figure size 432x288 with 1 Axes>"
      ]
     },
     "metadata": {},
     "output_type": "display_data"
    }
   ],
   "source": [
    "source_on_desktop.plot(y='one_visit_cost', x='source_id', kind='bar')\n",
    "plt.title('Стоимость привлечения одного покупателя с Desktop')\n",
    "plt.xlabel('source_id')\n",
    "plt.ylabel('one_visit_cost')\n",
    "source_on_touch.plot(y='one_visit_cost', x='source_id', kind='bar')\n",
    "plt.title('Стоимость привлечения одного покупателя с Touch')\n",
    "plt.xlabel('source_id')\n",
    "plt.ylabel('one_visit_cost')"
   ]
  },
  {
   "cell_type": "markdown",
   "metadata": {},
   "source": [
    "Посетители из источников 6 и 7 достались нам бесплатно, но и посетителей таких очень мало.\n",
    "\n",
    "Самые дорогие - 2, 3(самый дорогой из всех), 9 и 10"
   ]
  },
  {
   "cell_type": "code",
   "execution_count": 58,
   "metadata": {},
   "outputs": [],
   "source": [
    "count_visitors_in_source_and_cost['one_visit_sales'] = count_visitors_in_source_and_cost['sale'] / count_visitors_in_source_and_cost['user_id']\n",
    "count_visitors_in_source_and_cost['ROI_%'] = (count_visitors_in_source_and_cost['one_visit_sales'] / count_visitors_in_source_and_cost['one_visit_cost'] * 100).round(2)\n",
    "\n",
    "count_roi = count_visitors_in_source_and_cost.groupby(['device', 'source_id']).agg({'ROI_%': 'mean'}).reset_index()\n",
    "\n",
    "\n",
    "source_on_desktop = count_roi[count_roi['device'] == 'desktop']\n",
    "source_on_touch = count_roi[count_roi['device'] == 'touch']"
   ]
  },
  {
   "cell_type": "code",
   "execution_count": 59,
   "metadata": {
    "scrolled": false
   },
   "outputs": [
    {
     "data": {
      "text/plain": [
       "Text(0, 0.5, 'ROI_%')"
      ]
     },
     "execution_count": 59,
     "metadata": {},
     "output_type": "execute_result"
    },
    {
     "data": {
      "image/png": "[encoded data removed]",
      "text/plain": [
       "<Figure size 432x288 with 1 Axes>"
      ]
     },
     "metadata": {},
     "output_type": "display_data"
    },
    {
     "data": {
      "image/png": "[encoded data removed]",
      "text/plain": [
       "<Figure size 432x288 with 1 Axes>"
      ]
     },
     "metadata": {},
     "output_type": "display_data"
    }
   ],
   "source": [
    "source_on_desktop.plot(y='ROI_%', x='source_id', kind='bar')\n",
    "plt.title('ROI% одного покупателя с Desktop')\n",
    "plt.xlabel('source_id')\n",
    "plt.ylabel('ROI_%')\n",
    "source_on_touch.plot(y='ROI_%', x='source_id', kind='bar')\n",
    "plt.title('ROI% одного покупателя с Touch')\n",
    "plt.xlabel('source_id')\n",
    "plt.ylabel('ROI_%')"
   ]
  },
  {
   "cell_type": "markdown",
   "metadata": {},
   "source": [
    "Самые большой ROI% приходится на 1,4 (огромный отрыв) и 10 источники"
   ]
  },
  {
   "cell_type": "code",
   "execution_count": 60,
   "metadata": {},
   "outputs": [],
   "source": [
    "roi = count_visitors_in_source_and_cost"
   ]
  },
  {
   "cell_type": "code",
   "execution_count": 61,
   "metadata": {},
   "outputs": [],
   "source": [
    "roi['start_time_day'] = pd.to_datetime(roi['session_date'], format='%Y-%m-%d')\n",
    "roi['session_year'] = pd.to_datetime(roi['session_date']).dt.year\n",
    "roi['session_month'] = pd.to_datetime(roi['session_date']).dt.month\n",
    "\n",
    "roi['start_month_from_zero'] = roi['session_year']* 12 + roi['session_month']\n",
    "\n",
    "first_roi = roi.groupby('source_id').agg({'start_month_from_zero': 'min'}).reset_index()\n",
    "first_roi.columns = ['source_id', 'first_start_month_from_zero']\n",
    "roi = roi.merge(first_roi, on='source_id')\n",
    "\n",
    "roi['month_liftime'] = roi['start_month_from_zero'] - roi['first_start_month_from_zero']\n",
    "\n",
    "roi = roi.query('month_liftime > 5')"
   ]
  },
  {
   "cell_type": "markdown",
   "metadata": {},
   "source": [
    "### Считаю новый ROI."
   ]
  },
  {
   "cell_type": "code",
   "execution_count": 62,
   "metadata": {},
   "outputs": [],
   "source": [
    "roi_cohort = roi.groupby(['device', 'first_start_month_from_zero', 'source_id']).agg({'costs' : 'sum', 'sale' : 'sum'})\n",
    "roi_cohort['month_ROI_%'] = roi_cohort['sale'] / roi_cohort['costs']\n",
    "\n",
    "roi_cohort = roi_cohort.groupby(['device', 'source_id']).agg({'month_ROI_%': 'mean'}).reset_index()"
   ]
  },
  {
   "cell_type": "markdown",
   "metadata": {},
   "source": [
    "На сколько окупились расходы по месячным когортам(срок жизни кагорты больше 6 месяцев)."
   ]
  },
  {
   "cell_type": "code",
   "execution_count": 63,
   "metadata": {},
   "outputs": [
    {
     "data": {
      "text/plain": [
       "Text(0, 0.5, 'month_ROI_%')"
      ]
     },
     "execution_count": 63,
     "metadata": {},
     "output_type": "execute_result"
    },
    {
     "data": {
      "image/png": "[encoded data removed]",
      "text/plain": [
       "<Figure size 432x288 with 1 Axes>"
      ]
     },
     "metadata": {},
     "output_type": "display_data"
    },
    {
     "data": {
      "image/png": "[encoded data removed]",
      "text/plain": [
       "<Figure size 432x288 with 1 Axes>"
      ]
     },
     "metadata": {},
     "output_type": "display_data"
    }
   ],
   "source": [
    "source_on_desktop = roi_cohort[roi_cohort['device'] == 'desktop']\n",
    "source_on_touch = roi_cohort[roi_cohort['device'] == 'touch']\n",
    "\n",
    "source_on_desktop.plot(y='month_ROI_%', x='source_id', kind='bar')\n",
    "plt.title('Месячный ROI% одного покупателя с Desktop')\n",
    "plt.xlabel('source_id')\n",
    "plt.ylabel('month_ROI_%')\n",
    "source_on_touch.plot(y='month_ROI_%', x='source_id', kind='bar')\n",
    "plt.title('Месячный ROI% одного покупателя с Touch')\n",
    "plt.xlabel('source_id')\n",
    "plt.ylabel('month_ROI_%')"
   ]
  },
  {
   "cell_type": "markdown",
   "metadata": {},
   "source": [
    "По месячному ROI картина изменилась. Если 1 источник остается в лидерах, но теперь лидирует по показателю, то по остальным картина изменилась.\n",
    "\n",
    "В Desktop в лидерах также стали 2 и 5 источники.\n",
    "\n",
    "В Touch выпал полностью 6 источник, а 4 из однозначного лидера занял второе место."
   ]
  },
  {
   "cell_type": "markdown",
   "metadata": {},
   "source": [
    "### Вывод: \n",
    "\n",
    "Самые дорогие источники не приносят желаемоей выгоды с точки зрения возврата на инвестиции. \n",
    "\n",
    "При всей дороговизне 3 источника, его ROI в обоих случаях остается низким.\n",
    "\n",
    "Также стоит отметить, что инвестиции в пользователей ПК окупаются гораздо лучше нежели чем в пользователей мобильных устройств. Возможно для них следует выбрать инвестиции в иные источники.\n",
    "\n",
    "Из источников 6 и 7 пользователи в случаях обеих платформ приходят бесплатно, но их мало. Возможно стоит рассмотреть инвестиции в эти блоки, чтобы привлечь больше пользователей из них."
   ]
  },
  {
   "cell_type": "markdown",
   "metadata": {},
   "source": [
    "---\n",
    "\n",
    "<div class=\"alert alert-block alert-danger\">\n",
    "    \n",
    "\n",
    "### Комментарий от ревьюера V5\n",
    "\n",
    "\n",
    "Так сколько стоило привлечение пользователей по источникам? :)\n",
    "</div>\n",
    "\n",
    "---"
   ]
  },
  {
   "cell_type": "markdown",
   "metadata": {},
   "source": [
    "<div class=\"alert alert-block alert-info\">\n",
    "    \n",
    "А вот и он =)\n",
    "    \n",
    "</div>\n",
    "    \n",
    "---"
   ]
  },
  {
   "cell_type": "code",
   "execution_count": 64,
   "metadata": {
    "scrolled": false
   },
   "outputs": [
    {
     "data": {
      "text/html": [
       "<div>\n",
       "<style scoped>\n",
       "    .dataframe tbody tr th:only-of-type {\n",
       "        vertical-align: middle;\n",
       "    }\n",
       "\n",
       "    .dataframe tbody tr th {\n",
       "        vertical-align: top;\n",
       "    }\n",
       "\n",
       "    .dataframe thead th {\n",
       "        text-align: right;\n",
       "    }\n",
       "</style>\n",
       "<table border=\"1\" class=\"dataframe\">\n",
       "  <thead>\n",
       "    <tr style=\"text-align: right;\">\n",
       "      <th>device</th>\n",
       "      <th>desktop</th>\n",
       "      <th>touch</th>\n",
       "    </tr>\n",
       "    <tr>\n",
       "      <th>source_id</th>\n",
       "      <th></th>\n",
       "      <th></th>\n",
       "    </tr>\n",
       "  </thead>\n",
       "  <tbody>\n",
       "    <tr>\n",
       "      <td>1</td>\n",
       "      <td>1.034211</td>\n",
       "      <td>3.139943</td>\n",
       "    </tr>\n",
       "    <tr>\n",
       "      <td>2</td>\n",
       "      <td>1.384295</td>\n",
       "      <td>4.171896</td>\n",
       "    </tr>\n",
       "    <tr>\n",
       "      <td>3</td>\n",
       "      <td>2.249876</td>\n",
       "      <td>7.544446</td>\n",
       "    </tr>\n",
       "    <tr>\n",
       "      <td>4</td>\n",
       "      <td>1.047898</td>\n",
       "      <td>2.094705</td>\n",
       "    </tr>\n",
       "    <tr>\n",
       "      <td>5</td>\n",
       "      <td>1.114177</td>\n",
       "      <td>3.503202</td>\n",
       "    </tr>\n",
       "    <tr>\n",
       "      <td>9</td>\n",
       "      <td>1.415690</td>\n",
       "      <td>3.843375</td>\n",
       "    </tr>\n",
       "    <tr>\n",
       "      <td>10</td>\n",
       "      <td>1.141098</td>\n",
       "      <td>3.371693</td>\n",
       "    </tr>\n",
       "  </tbody>\n",
       "</table>\n",
       "</div>"
      ],
      "text/plain": [
       "device      desktop     touch\n",
       "source_id                    \n",
       "1          1.034211  3.139943\n",
       "2          1.384295  4.171896\n",
       "3          2.249876  7.544446\n",
       "4          1.047898  2.094705\n",
       "5          1.114177  3.503202\n",
       "9          1.415690  3.843375\n",
       "10         1.141098  3.371693"
      ]
     },
     "metadata": {},
     "output_type": "display_data"
    }
   ],
   "source": [
    "output = count_visitors_in_source_and_cost.pivot_table(index = 'source_id', columns = 'device', values = 'one_visit_cost', aggfunc = 'mean')\n",
    "display(output)"
   ]
  },
  {
   "cell_type": "markdown",
   "metadata": {},
   "source": [
    "---\n",
    "\n",
    "<div class=\"alert alert-block alert-warning\">\n",
    "    \n",
    "\n",
    "### Комментарий от ревьюера V6\n",
    "\n",
    "\n",
    "Хорошо, что посчитал, но, мне кажется, стоит перепроверить расчет распределения по девайсам, он не соответствует общему CAC\n",
    "</div>\n",
    "\n",
    "---"
   ]
  },
  {
   "cell_type": "markdown",
   "metadata": {},
   "source": [
    "# Общий вывод и Рекомендации:\n",
    "\n",
    "Среднее количество пользователей в день: 908\n",
    "\n",
    "Среднее количество пользователей в неделю: 5716\n",
    "\n",
    "Среднее количество пользователей в месяц: 23228\n",
    "\n",
    "Медианное число сессий в день: 1003\n",
    "\n",
    "Медианное время сессии(в секундах): 300\n",
    "\n",
    "Процент вернувшихся пользователей: 90.86\n",
    "\n",
    "Среднее количество покупателей в день: 128\n",
    "\n",
    "Среднее количество покупателей в неделю: 817\n",
    "\n",
    "Среднее количество покупателей в месяц: 3155\n",
    "\n",
    "Показатели среднего чека и LTV схожи по динамике:\n",
    "\n",
    "-Июньская когорта принесла высокие доходы в сентябре и декабре.\n",
    "\n",
    "Потратили всего денег на привлечение: 329131.62\n",
    "\n",
    "Потратили денег на каждый источник:\n",
    "\n",
    "| Источник      | Сумма         |\n",
    "| ------------- | ------------- |\n",
    "| 1             | 20833.27      |\n",
    "| 2             | 42806.04      |\n",
    "| 3             | 141321.63     |\n",
    "| 4             | 61073.60      |\n",
    "| 5             | 51757.10      |\n",
    "| 9             | 5517.49       |\n",
    "| 10            | 5822.49       |\n",
    "\n",
    "### Самый главный вывод: необходимо пересматривать маркетинговую стратегию. Да, мы видели, что вливания денег в рекламу в период октября 2017 по март 2018 приводят к увеличению прибыли. Но анализ каналов рекламы показал, что средства расходуются не совсем правильно. Лучше будет пересмотреть распределение средств по каналам и, например, на канал **3** тратить меньше средств. Надо помнить, что на привлечение одного клиента желательно тратить меньше **7.3**.\n",
    "\n",
    "Возможно увеличить и посещаемость сервиса, возможно с помощью напоминаний о каких-либо мероприятиях, концертах, выставках.\n",
    "\n",
    "Также надо обратить внимание на **мобильную версию сервиса**. Получается, что больше пользователей с десктопа, но смартфоны распространены гораздо больше ввиду своей доступности. Нужно работать в этом направлении и посмотреть воронку продаж с мобильных устройств, чтобы понять, где есть проблемы. Потенциально **мобильная версия** может приносить больше прибыли и охватытвать большую аудиториюИз показателя LTV видно, что больше всего денег пользователи приносят в первый месяц использования сайта."
   ]
  },
  {
   "cell_type": "markdown",
   "metadata": {},
   "source": [
    "---\n",
    "\n",
    "<div class=\"alert alert-block alert-danger\">\n",
    "    \n",
    "\n",
    "### Комментарий от ревьюера V5\n",
    "\n",
    "\n",
    "С учетом правок по комментариям №5, возможно, скорректируется общий вывод\n",
    "    \n",
    "</div>\n",
    "\n",
    "---"
   ]
  },
  {
   "cell_type": "markdown",
   "metadata": {},
   "source": [
    "---\n",
    "<div class=\"alert alert-block alert-danger\">\n",
    "    \n",
    "### Комментарий от ревьюера V3\n",
    "\n",
    "#### Расчеты в этой ячейке приводят к ошибке в названиях когорт\n",
    "   \n",
    "В этой ячейке ты формируешь столбцы (кстати, нет комментариев, с какой целью ты это делаешь), названия которых содержат текст \"_from_zero\" потом на них ты ссылаешься, формируя когорты - нужно исправить эту ошибку\n",
    "    \n",
    "При таких больших блоках кода полезно, даже необходимо добавлять комментарии к коду. Тебе самому потом легче будет отлаживать и править твое исследование \n",
    "    \n",
    "</div>\n",
    "    \n",
    "---"
   ]
  },
  {
   "cell_type": "markdown",
   "metadata": {},
   "source": [
    "<div class=\"alert alert-block alert-info\">\n",
    "    \n",
    "Буду честен и откровенен, я ещё не знал, что мне может потребоваться. Поэтому во всех датафреймах понаделал дни, недели, месяца и года. Это также позволит мне быстро приступить в будущих блоках к созданию DAU, MAU и WAU в любом датафрейме, если потребуется. \n",
    "    \n",
    "На самом деле, их можно делать и в каждом отдельном блоке, но я их все закалькулировал здесь в отдельном блоке.\n",
    "    \n",
    "Столбцы _from_zero я использовал для расчётов lifetime. В принципе, можно от них избавиться, но я придумал способ лучше и сделал ниже новые когорты.=)\n",
    "\n",
    "    \n",
    "</div>"
   ]
  },
  {
   "cell_type": "markdown",
   "metadata": {},
   "source": [
    "<div class=\"alert alert-block alert-warning\">\n",
    "    \n",
    "\n",
    "### Комментарий от ревьюера V2\n",
    "\n",
    "\n",
    "Утебя получилась глубокая и подробная предобработка.\n",
    "\n",
    "Еще полезно проверять данные на дубликаты и формулировать выводы по итогам предобработки\n",
    "    \n",
    "</div>\n",
    "    \n",
    "---"
   ]
  },
  {
   "cell_type": "markdown",
   "metadata": {},
   "source": [
    "<div class=\"alert alert-block alert-success\">\n",
    "    \n",
    "\n",
    "### Комментарий от ревьюера V3\n",
    "\n",
    "Спасибо, что отработал замечание\n",
    "\n",
    "То что ты написал в синей плашке - отличный материал для вывода по разделу предобработки данных\n",
    "    \n",
    "</div>\n",
    "    \n",
    "---"
   ]
  },
  {
   "cell_type": "markdown",
   "metadata": {},
   "source": [
    "<div class=\"alert alert-block alert-success\">\n",
    "    \n",
    "\n",
    "### Комментарий от ревьюера V3\n",
    "    \n",
    "\n",
    "Теперь RR выглядит получше с %\n",
    "   \n",
    "</div>\n",
    "    \n",
    "---"
   ]
  },
  {
   "cell_type": "markdown",
   "metadata": {},
   "source": [
    "<div class=\"alert alert-block alert-danger\">\n",
    "    \n",
    "\n",
    "### Комментарий от ревьюера V3\n",
    "\n",
    "- Для лучшей визуализации графики должны содержать заголовок и подписи к осям. Нужно проверить все графики в работе, хорошее оформление сразу повышает уровень работы.\n",
    "\n",
    "- У тебя в данном разделе есть несколько блоков - их нужно выделить в подразделы (подзаголовки в markdown), сформулировать промежуточные выводы, а также написать общий вывод по разделу. \n",
    "    \n",
    "- Эти требования нужно проверить и выполнить для всех последующих разделов\n",
    "\n",
    "- Ты сделал правильные расчеты - теперь осталось выполнить работу аналитика до конца -- сделать выводы\n",
    "\n",
    "</div>\n",
    "    \n",
    "---"
   ]
  },
  {
   "cell_type": "markdown",
   "metadata": {},
   "source": [
    "---\n",
    "<div class=\"alert alert-block alert-success\">\n",
    "    \n",
    "\n",
    "### Комментарий от ревьюера V3\n",
    "\n",
    "Круто, что рассчитал активных покупателей! \n",
    "    \n",
    "Дальше полезно прокомментировать о чем это говорит бизнесу - пользователю отчета это понравится\n",
    "\n",
    "</div>\n",
    "    \n",
    "---"
   ]
  },
  {
   "cell_type": "markdown",
   "metadata": {},
   "source": [
    "---\n",
    "\n",
    "<div class=\"alert alert-block alert-warning\">\n",
    "    \n",
    "\n",
    "### Комментарий от ревьюера V3\n",
    "\n",
    "\n",
    "Ты используешь длинные связки методов в одной строке. Чтобы длинный код был более читаемым его можно разбивать на строки с помощью обратного слеша в конце строки.\n",
    "</div>\n",
    "\n",
    "---\n"
   ]
  },
  {
   "cell_type": "markdown",
   "metadata": {},
   "source": [
    "---\n",
    "\n",
    "<div class=\"alert alert-block alert-danger\">\n",
    "    \n",
    "\n",
    "### Комментарий от ревьюера V3\n",
    "\n",
    "Возможно, когда ты скорректируешь когорты в соответствии с правильными датами твои графики по визуализации когорт станут отображаться правильно (как Retention Rate).\n",
    "    \n",
    "Сейчас без выводов и првильных графиков мне сложно прокомментировать этот блок\n",
    "</div>\n",
    "\n",
    "---"
   ]
  },
  {
   "cell_type": "markdown",
   "metadata": {},
   "source": [
    "---\n",
    "\n",
    "<div class=\"alert alert-block alert-danger\">\n",
    "    \n",
    "\n",
    "### Комментарий от ревьюера V3\n",
    "\n",
    "\n",
    "Линейные графики чаще используются для временных рядов, здесь больше подойдет гистограмма и не совсем понятно, какие метрики ты сравниваешь на графике \n",
    "\n",
    "</div>\n",
    "\n",
    "---"
   ]
  },
  {
   "cell_type": "markdown",
   "metadata": {},
   "source": [
    "---\n",
    "\n",
    "<div class=\"alert alert-block alert-warning\">\n",
    "    \n",
    "\n",
    "### Общий комментарий от ревьюера V3\n",
    "\n",
    "Ты хорошо поработал, но есть еще над чем подумать. Мои комментарии выше.\n",
    "\n",
    "Жду исправлений :)\n",
    "\n",
    "</div>\n",
    "\n",
    "---"
   ]
  },
  {
   "cell_type": "markdown",
   "metadata": {},
   "source": [
    "---\n",
    "\n",
    "<div class=\"alert alert-block alert-warning\">\n",
    "    \n",
    "\n",
    "### Общий комментарий от ревьюера V4\n",
    "\n",
    "Видно, что ты исправил часть замечаний, например, по когортам, но, к сожалению, все мои замечания оказались внизу и сложно отследить к чему они относились. Лучше так не делать и вносить правки не меняя положения блоков.\n",
    "    \n",
    "Важная часть того, что я указал в предыдущих комментариях не исправлена. Проверь, пожалуйста, мои замечания и внеси и справления, обрати внимание на следующие:\n",
    "- заголовки к графикам и осям\n",
    "- промежуточные выводы внутри разделов и выводы по разделам (в том числе обрати внимание на блок по расчету стоимости привлечения по источникам)\n",
    "    \n",
    "Жду доработанную версию\n",
    "\n",
    "</div>\n",
    "\n",
    "---"
   ]
  },
  {
   "cell_type": "markdown",
   "metadata": {},
   "source": [
    "<div class=\"alert alert-block alert-info\">\n",
    "    \n",
    "Извини, что всё съехало. Просто когда я начал отрабатывать твои комментарии, мне пришлось отказаться от части строк кода. Я начал всю свою работу по сути заново.\n",
    "    \n",
    "Добавил красоты графикам, полностью поменял графики внизу (извини, упустил предыдущий комментарий).\n",
    "    \n",
    "Давай добивать этот проект! Мы сможем! =)\n",
    "\n",
    "    \n",
    "</div>"
   ]
  },
  {
   "cell_type": "markdown",
   "metadata": {},
   "source": [
    "---\n",
    "\n",
    "<div class=\"alert alert-block alert-warning\">\n",
    "    \n",
    "\n",
    "### Общий комментарий от ревьюера V5\n",
    "\n",
    "Андрей, вижу что ты проделал большую работу и исправил многие из моих критичных замечаний. \n",
    "\n",
    "Я восстановил свои комментарии там, где есть критичные неточности (версия 5). Постарайся их отработать и тогда, быстрее всего, критичных замечаний больше не будет.\n",
    "    \n",
    "Если какие то комментарии требуют дополнительного теоретического уточнения, обратись, пожалуйста, за разъяснениями к преподавателю по проектам\n",
    "    \n",
    "Жду исправленную версию :)\n",
    "\n",
    "</div>\n",
    "\n",
    "---"
   ]
  },
  {
   "cell_type": "markdown",
   "metadata": {},
   "source": [
    "<div class=\"alert alert-block alert-info\">\n",
    "    \n",
    "Надеюсь, что ничего не забыл!\n",
    "    \n",
    "1. Добавил подписи к графикам путем plt.label.\n",
    "\n",
    "2. Посчитал накопительный LTV. Дублирую здесь 7.285714285714286. Написал по этому пункту доп.вывод.\n",
    "    \n",
    "3. Просчитал стоимость по привлечению пользователей.\n",
    "    \n",
    "4. Скорректировал Общий вывод и рекомендации с учётом новых данных.\n",
    "\n",
    "    \n",
    "</div>"
   ]
  },
  {
   "cell_type": "markdown",
   "metadata": {},
   "source": [
    "---\n",
    "\n",
    "<div class=\"alert alert-block alert-success\">\n",
    "    \n",
    "\n",
    "### Общий комментарий от ревьюера V6\n",
    "\n",
    "Критичных замечаний у меня нет.\n",
    "    \n",
    "Поздравляю со сдачей проекта!\n",
    "\n",
    "</div>\n",
    "\n",
    "---"
   ]
  }
 ],
 "metadata": {
  "kernelspec": {
   "display_name": "Python 3",
   "language": "python",
   "name": "python3"
  },
  "language_info": {
   "codemirror_mode": {
    "name": "ipython",
    "version": 3
   },
   "file_extension": ".py",
   "mimetype": "text/x-python",
   "name": "python",
   "nbconvert_exporter": "python",
   "pygments_lexer": "ipython3",
   "version": "3.8.3"
  },
  "toc": {
   "base_numbering": 1,
   "nav_menu": {},
   "number_sections": true,
   "sideBar": true,
   "skip_h1_title": false,
   "title_cell": "Table of Contents",
   "title_sidebar": "Contents",
   "toc_cell": false,
   "toc_position": {},
   "toc_section_display": true,
   "toc_window_display": false
  },
  "varInspector": {
   "cols": {
    "lenName": 16,
    "lenType": 16,
    "lenVar": 40
   },
   "kernels_config": {
    "python": {
     "delete_cmd_postfix": "",
     "delete_cmd_prefix": "del ",
     "library": "var_list.py",
     "varRefreshCmd": "print(var_dic_list())"
    },
    "r": {
     "delete_cmd_postfix": ") ",
     "delete_cmd_prefix": "rm(",
     "library": "var_list.r",
     "varRefreshCmd": "cat(var_dic_list()) "
    }
   },
   "types_to_exclude": [
    "module",
    "function",
    "builtin_function_or_method",
    "instance",
    "_Feature"
   ],
   "window_display": false
  }
 },
 "nbformat": 4,
 "nbformat_minor": 2
}
